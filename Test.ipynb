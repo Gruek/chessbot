{
 "cells": [
  {
   "cell_type": "code",
   "execution_count": 1,
   "metadata": {
    "collapsed": false
   },
   "outputs": [
    {
     "name": "stdout",
     "output_type": "stream",
     "text": [
      "D:\\Python\\chess\\src\n"
     ]
    }
   ],
   "source": [
    "cd src"
   ]
  },
  {
   "cell_type": "code",
   "execution_count": 2,
   "metadata": {
    "collapsed": false
   },
   "outputs": [
    {
     "name": "stderr",
     "output_type": "stream",
     "text": [
      "Using TensorFlow backend.\n"
     ]
    }
   ],
   "source": [
    "import chess\n",
    "from trainer import Trainer\n",
    "from chessbot import ChessBot\n",
    "from chessbot import model\n",
    "import numpy as np\n",
    "\n",
    "trainer = Trainer()\n",
    "board = chess.Board()\n",
    "chessbot = ChessBot()"
   ]
  },
  {
   "cell_type": "code",
   "execution_count": 7,
   "metadata": {
    "collapsed": false
   },
   "outputs": [
    {
     "data": {
      "image/svg+xml": [
       "<svg xmlns=\"http://www.w3.org/2000/svg\" version=\"1.1\" xmlns:xlink=\"http://www.w3.org/1999/xlink\" width=\"400\" height=\"400\"><style>.square.light {\n",
       "  fill: #ffce9e;\n",
       "}\n",
       ".square.dark {\n",
       "  fill: #d18b47;\n",
       "}\n",
       "\n",
       ".square.dark.lastmove {\n",
       "  fill: #aaa23b;\n",
       "}\n",
       ".square.light.lastmove {\n",
       "  fill: #cdd16a;\n",
       "}\n",
       "\n",
       ".check {\n",
       "  fill: url(#check_gradient);\n",
       "}\n",
       "</style><defs><g id=\"white-rook\" class=\"white rook\" fill=\"#fff\" fill-rule=\"evenodd\" stroke=\"#000\" stroke-width=\"1.5\" stroke-linecap=\"round\" stroke-linejoin=\"round\"><path d=\"M9 39h27v-3H9v3zM12 36v-4h21v4H12zM11 14V9h4v2h5V9h5v2h5V9h4v5\" stroke-linecap=\"butt\"/><path d=\"M34 14l-3 3H14l-3-3\"/><path d=\"M31 17v12.5H14V17\" stroke-linecap=\"butt\" stroke-linejoin=\"miter\"/><path d=\"M31 29.5l1.5 2.5h-20l1.5-2.5\"/><path d=\"M11 14h23\" fill=\"none\" stroke-linejoin=\"miter\"/></g><g id=\"black-queen\" class=\"black-queen\" fill=\"0\" fill-rule=\"evenodd\" stroke=\"#000\" stroke-width=\"1.5\" stroke-linecap=\"round\" stroke-linejoin=\"round\"><g fill=\"#000\" stroke=\"none\"><circle cx=\"6\" cy=\"12\" r=\"2.75\"/><circle cx=\"14\" cy=\"9\" r=\"2.75\"/><circle cx=\"22.5\" cy=\"8\" r=\"2.75\"/><circle cx=\"31\" cy=\"9\" r=\"2.75\"/><circle cx=\"39\" cy=\"12\" r=\"2.75\"/></g><path d=\"M9 26c8.5-1.5 21-1.5 27 0l2.5-12.5L31 25l-.3-14.1-5.2 13.6-3-14.5-3 14.5-5.2-13.6L14 25 6.5 13.5 9 26zM9 26c0 2 1.5 2 2.5 4 1 1.5 1 1 .5 3.5-1.5 1-1.5 2.5-1.5 2.5-1.5 1.5.5 2.5.5 2.5 6.5 1 16.5 1 23 0 0 0 1.5-1 0-2.5 0 0 .5-1.5-1-2.5-.5-2.5-.5-2 .5-3.5 1-2 2.5-2 2.5-4-8.5-1.5-18.5-1.5-27 0z\" stroke-linecap=\"butt\"/><path d=\"M11 38.5a35 35 1 0 0 23 0\" fill=\"none\" stroke-linecap=\"butt\"/><path d=\"M11 29a35 35 1 0 1 23 0M12.5 31.5h20M11.5 34.5a35 35 1 0 0 22 0M10.5 37.5a35 35 1 0 0 24 0\" fill=\"none\" stroke=\"#fff\"/></g><g id=\"white-queen\" class=\"white queen\" fill=\"#fff\" fill-rule=\"evenodd\" stroke=\"#000\" stroke-width=\"1.5\" stroke-linecap=\"round\" stroke-linejoin=\"round\"><path d=\"M8 12a2 2 0 1 1-4 0 2 2 0 1 1 4 0zM24.5 7.5a2 2 0 1 1-4 0 2 2 0 1 1 4 0zM41 12a2 2 0 1 1-4 0 2 2 0 1 1 4 0zM16 8.5a2 2 0 1 1-4 0 2 2 0 1 1 4 0zM33 9a2 2 0 1 1-4 0 2 2 0 1 1 4 0z\"/><path d=\"M9 26c8.5-1.5 21-1.5 27 0l2-12-7 11V11l-5.5 13.5-3-15-3 15-5.5-14V25L7 14l2 12zM9 26c0 2 1.5 2 2.5 4 1 1.5 1 1 .5 3.5-1.5 1-1.5 2.5-1.5 2.5-1.5 1.5.5 2.5.5 2.5 6.5 1 16.5 1 23 0 0 0 1.5-1 0-2.5 0 0 .5-1.5-1-2.5-.5-2.5-.5-2 .5-3.5 1-2 2.5-2 2.5-4-8.5-1.5-18.5-1.5-27 0z\" stroke-linecap=\"butt\"/><path d=\"M11.5 30c3.5-1 18.5-1 22 0M12 33.5c6-1 15-1 21 0\" fill=\"none\"/></g><g id=\"white-pawn\" class=\"white pawn\"><path d=\"M22 9c-2.21 0-4 1.79-4 4 0 .89.29 1.71.78 2.38-1.95 1.12-3.28 3.21-3.28 5.62 0 2.03.94 3.84 2.41 5.03-3 1.06-7.41 5.55-7.41 13.47h23c0-7.92-4.41-12.41-7.41-13.47 1.47-1.19 2.41-3 2.41-5.03 0-2.41-1.33-4.5-3.28-5.62.49-.67.78-1.49.78-2.38 0-2.21-1.79-4-4-4z\" fill=\"#fff\" stroke=\"#000\" stroke-width=\"1.5\" stroke-linecap=\"round\"/></g><g id=\"black-king\" class=\"black king\" fill=\"none\" fill-rule=\"evenodd\" stroke=\"#000\" stroke-width=\"1.5\" stroke-linecap=\"round\" stroke-linejoin=\"round\"><path d=\"M22.5 11.63V6\" stroke-linejoin=\"miter\"/><path d=\"M22.5 25s4.5-7.5 3-10.5c0 0-1-2.5-3-2.5s-3 2.5-3 2.5c-1.5 3 3 10.5 3 10.5\" fill=\"#000\" stroke-linecap=\"butt\" stroke-linejoin=\"miter\"/><path d=\"M11.5 37c5.5 3.5 15.5 3.5 21 0v-7s9-4.5 6-10.5c-4-6.5-13.5-3.5-16 4V27v-3.5c-3.5-7.5-13-10.5-16-4-3 6 5 10 5 10V37z\" fill=\"#000\"/><path d=\"M20 8h5\" stroke-linejoin=\"miter\"/><path d=\"M32 29.5s8.5-4 6.03-9.65C34.15 14 25 18 22.5 24.5l.01 2.1-.01-2.1C20 18 9.906 14 6.997 19.85c-2.497 5.65 4.853 9 4.853 9M11.5 30c5.5-3 15.5-3 21 0m-21 3.5c5.5-3 15.5-3 21 0m-21 3.5c5.5-3 15.5-3 21 0\" stroke=\"#fff\"/></g><g id=\"black-rook\" class=\"black rook\" fill=\"0\" fill-rule=\"evenodd\" stroke=\"#000\" stroke-width=\"1.5\" stroke-linecap=\"round\" stroke-linejoin=\"round\"><path d=\"M9 39h27v-3H9v3zM12.5 32l1.5-2.5h17l1.5 2.5h-20zM12 36v-4h21v4H12z\" stroke-linecap=\"butt\"/><path d=\"M14 29.5v-13h17v13H14z\" stroke-linecap=\"butt\" stroke-linejoin=\"miter\"/><path d=\"M14 16.5L11 14h23l-3 2.5H14zM11 14V9h4v2h5V9h5v2h5V9h4v5H11z\" stroke-linecap=\"butt\"/><path d=\"M12 35.5h21M13 31.5h19M14 29.5h17M14 16.5h17M11 14h23\" fill=\"none\" stroke=\"#fff\" stroke-width=\"1\" stroke-linejoin=\"miter\"/></g><g id=\"white-knight\" class=\"white knight\" fill=\"none\" fill-rule=\"evenodd\" stroke=\"#000\" stroke-width=\"1.5\" stroke-linecap=\"round\" stroke-linejoin=\"round\"><path d=\"M 22,10 C 32.5,11 38.5,18 38,39 L 15,39 C 15,30 25,32.5 23,18\" style=\"fill:#ffffff; stroke:#000000;\"/><path d=\"M 24,18 C 24.38,20.91 18.45,25.37 16,27 C 13,29 13.18,31.34 11,31 C 9.958,30.06 12.41,27.96 11,28 C 10,28 11.19,29.23 10,30 C 9,30 5.997,31 6,26 C 6,24 12,14 12,14 C 12,14 13.89,12.1 14,10.5 C 13.27,9.506 13.5,8.5 13.5,7.5 C 14.5,6.5 16.5,10 16.5,10 L 18.5,10 C 18.5,10 19.28,8.008 21,7 C 22,7 22,10 22,10\" style=\"fill:#ffffff; stroke:#000000;\"/><path d=\"M 9.5 25.5 A 0.5 0.5 0 1 1 8.5,25.5 A 0.5 0.5 0 1 1 9.5 25.5 z\" style=\"fill:#000000; stroke:#000000;\"/><path d=\"M 15 15.5 A 0.5 1.5 0 1 1 14,15.5 A 0.5 1.5 0 1 1 15 15.5 z\" transform=\"matrix(0.866,0.5,-0.5,0.866,9.693,-5.173)\" style=\"fill:#000000; stroke:#000000;\"/></g><g id=\"black-bishop\" class=\"black bishop\" fill=\"none\" fill-rule=\"evenodd\" stroke=\"#000\" stroke-width=\"1.5\" stroke-linecap=\"round\" stroke-linejoin=\"round\"><path d=\"M9 36c3.39-.97 10.11.43 13.5-2 3.39 2.43 10.11 1.03 13.5 2 0 0 1.65.54 3 2-.68.97-1.65.99-3 .5-3.39-.97-10.11.46-13.5-1-3.39 1.46-10.11.03-13.5 1-1.354.49-2.323.47-3-.5 1.354-1.94 3-2 3-2zm6-4c2.5 2.5 12.5 2.5 15 0 .5-1.5 0-2 0-2 0-2.5-2.5-4-2.5-4 5.5-1.5 6-11.5-5-15.5-11 4-10.5 14-5 15.5 0 0-2.5 1.5-2.5 4 0 0-.5.5 0 2zM25 8a2.5 2.5 0 1 1-5 0 2.5 2.5 0 1 1 5 0z\" fill=\"#000\" stroke-linecap=\"butt\"/><path d=\"M17.5 26h10M15 30h15m-7.5-14.5v5M20 18h5\" stroke=\"#fff\" stroke-linejoin=\"miter\"/></g><g id=\"black-pawn\" class=\"black pawn\"><path d=\"M22 9c-2.21 0-4 1.79-4 4 0 .89.29 1.71.78 2.38-1.95 1.12-3.28 3.21-3.28 5.62 0 2.03.94 3.84 2.41 5.03-3 1.06-7.41 5.55-7.41 13.47h23c0-7.92-4.41-12.41-7.41-13.47 1.47-1.19 2.41-3 2.41-5.03 0-2.41-1.33-4.5-3.28-5.62.49-.67.78-1.49.78-2.38 0-2.21-1.79-4-4-4z\" stroke=\"#000\" stroke-width=\"1.5\" stroke-linecap=\"round\"/></g><g id=\"black-knight\" class=\"black knight\" fill=\"none\" fill-rule=\"evenodd\" stroke=\"#000\" stroke-width=\"1.5\" stroke-linecap=\"round\" stroke-linejoin=\"round\"><path d=\"M 22,10 C 32.5,11 38.5,18 38,39 L 15,39 C 15,30 25,32.5 23,18\" style=\"fill:#000000; stroke:#000000;\"/><path d=\"M 24,18 C 24.38,20.91 18.45,25.37 16,27 C 13,29 13.18,31.34 11,31 C 9.958,30.06 12.41,27.96 11,28 C 10,28 11.19,29.23 10,30 C 9,30 5.997,31 6,26 C 6,24 12,14 12,14 C 12,14 13.89,12.1 14,10.5 C 13.27,9.506 13.5,8.5 13.5,7.5 C 14.5,6.5 16.5,10 16.5,10 L 18.5,10 C 18.5,10 19.28,8.008 21,7 C 22,7 22,10 22,10\" style=\"fill:#000000; stroke:#000000;\"/><path d=\"M 9.5 25.5 A 0.5 0.5 0 1 1 8.5,25.5 A 0.5 0.5 0 1 1 9.5 25.5 z\" style=\"fill:#ececec; stroke:#ececec;\"/><path d=\"M 15 15.5 A 0.5 1.5 0 1 1 14,15.5 A 0.5 1.5 0 1 1 15 15.5 z\" transform=\"matrix(0.866,0.5,-0.5,0.866,9.693,-5.173)\" style=\"fill:#ececec; stroke:#ececec;\"/><path d=\"M 24.55,10.4 L 24.1,11.85 L 24.6,12 C 27.75,13 30.25,14.49 32.5,18.75 C 34.75,23.01 35.75,29.06 35.25,39 L 35.2,39.5 L 37.45,39.5 L 37.5,39 C 38,28.94 36.62,22.15 34.25,17.66 C 31.88,13.17 28.46,11.02 25.06,10.5 L 24.55,10.4 z \" style=\"fill:#ececec; stroke:none;\"/></g><g id=\"white-king\" class=\"white king\" fill=\"none\" fill-rule=\"evenodd\" stroke=\"#000\" stroke-width=\"1.5\" stroke-linecap=\"round\" stroke-linejoin=\"round\"><path d=\"M22.5 11.63V6M20 8h5\" stroke-linejoin=\"miter\"/><path d=\"M22.5 25s4.5-7.5 3-10.5c0 0-1-2.5-3-2.5s-3 2.5-3 2.5c-1.5 3 3 10.5 3 10.5\" fill=\"#fff\" stroke-linecap=\"butt\" stroke-linejoin=\"miter\"/><path d=\"M11.5 37c5.5 3.5 15.5 3.5 21 0v-7s9-4.5 6-10.5c-4-6.5-13.5-3.5-16 4V27v-3.5c-3.5-7.5-13-10.5-16-4-3 6 5 10 5 10V37z\" fill=\"#fff\"/><path d=\"M11.5 30c5.5-3 15.5-3 21 0m-21 3.5c5.5-3 15.5-3 21 0m-21 3.5c5.5-3 15.5-3 21 0\"/></g><g id=\"white-bishop\" class=\"white bishop\" fill=\"none\" fill-rule=\"evenodd\" stroke=\"#000\" stroke-width=\"1.5\" stroke-linecap=\"round\" stroke-linejoin=\"round\"><g fill=\"#fff\" stroke-linecap=\"butt\"><path d=\"M9 36c3.39-.97 10.11.43 13.5-2 3.39 2.43 10.11 1.03 13.5 2 0 0 1.65.54 3 2-.68.97-1.65.99-3 .5-3.39-.97-10.11.46-13.5-1-3.39 1.46-10.11.03-13.5 1-1.354.49-2.323.47-3-.5 1.354-1.94 3-2 3-2zM15 32c2.5 2.5 12.5 2.5 15 0 .5-1.5 0-2 0-2 0-2.5-2.5-4-2.5-4 5.5-1.5 6-11.5-5-15.5-11 4-10.5 14-5 15.5 0 0-2.5 1.5-2.5 4 0 0-.5.5 0 2zM25 8a2.5 2.5 0 1 1-5 0 2.5 2.5 0 1 1 5 0z\"/></g><path d=\"M17.5 26h10M15 30h15m-7.5-14.5v5M20 18h5\" stroke-linejoin=\"miter\"/></g></defs><rect x=\"20.000000\" y=\"335.000000\" class=\"square dark a1\" width=\"45.000000\" height=\"45.000000\" style=\"stroke: none;\" /><use xlink:href=\"#white-rook\" transform=\"translate(20.000000, 335.000000) scale(1.000000 1.000000)\" /><rect x=\"65.000000\" y=\"335.000000\" class=\"square light b1\" width=\"45.000000\" height=\"45.000000\" style=\"stroke: none;\" /><rect x=\"110.000000\" y=\"335.000000\" class=\"square dark c1\" width=\"45.000000\" height=\"45.000000\" style=\"stroke: none;\" /><use xlink:href=\"#white-bishop\" transform=\"translate(110.000000, 335.000000) scale(1.000000 1.000000)\" /><rect x=\"155.000000\" y=\"335.000000\" class=\"square light d1\" width=\"45.000000\" height=\"45.000000\" style=\"stroke: none;\" /><use xlink:href=\"#white-queen\" transform=\"translate(155.000000, 335.000000) scale(1.000000 1.000000)\" /><rect x=\"200.000000\" y=\"335.000000\" class=\"square dark e1\" width=\"45.000000\" height=\"45.000000\" style=\"stroke: none;\" /><use xlink:href=\"#white-king\" transform=\"translate(200.000000, 335.000000) scale(1.000000 1.000000)\" /><rect x=\"245.000000\" y=\"335.000000\" class=\"square light f1\" width=\"45.000000\" height=\"45.000000\" style=\"stroke: none;\" /><use xlink:href=\"#white-bishop\" transform=\"translate(245.000000, 335.000000) scale(1.000000 1.000000)\" /><rect x=\"290.000000\" y=\"335.000000\" class=\"square dark g1\" width=\"45.000000\" height=\"45.000000\" style=\"stroke: none;\" /><use xlink:href=\"#white-knight\" transform=\"translate(290.000000, 335.000000) scale(1.000000 1.000000)\" /><rect x=\"335.000000\" y=\"335.000000\" class=\"square light h1\" width=\"45.000000\" height=\"45.000000\" style=\"stroke: none;\" /><use xlink:href=\"#white-rook\" transform=\"translate(335.000000, 335.000000) scale(1.000000 1.000000)\" /><rect x=\"20.000000\" y=\"290.000000\" class=\"square light a2\" width=\"45.000000\" height=\"45.000000\" style=\"stroke: none;\" /><use xlink:href=\"#white-pawn\" transform=\"translate(20.000000, 290.000000) scale(1.000000 1.000000)\" /><rect x=\"65.000000\" y=\"290.000000\" class=\"square dark b2 lastmove\" width=\"45.000000\" height=\"45.000000\" style=\"stroke: none;\" /><rect x=\"110.000000\" y=\"290.000000\" class=\"square light c2\" width=\"45.000000\" height=\"45.000000\" style=\"stroke: none;\" /><use xlink:href=\"#white-pawn\" transform=\"translate(110.000000, 290.000000) scale(1.000000 1.000000)\" /><rect x=\"155.000000\" y=\"290.000000\" class=\"square dark d2\" width=\"45.000000\" height=\"45.000000\" style=\"stroke: none;\" /><use xlink:href=\"#white-pawn\" transform=\"translate(155.000000, 290.000000) scale(1.000000 1.000000)\" /><rect x=\"200.000000\" y=\"290.000000\" class=\"square light e2\" width=\"45.000000\" height=\"45.000000\" style=\"stroke: none;\" /><use xlink:href=\"#white-pawn\" transform=\"translate(200.000000, 290.000000) scale(1.000000 1.000000)\" /><rect x=\"245.000000\" y=\"290.000000\" class=\"square dark f2\" width=\"45.000000\" height=\"45.000000\" style=\"stroke: none;\" /><use xlink:href=\"#white-pawn\" transform=\"translate(245.000000, 290.000000) scale(1.000000 1.000000)\" /><rect x=\"290.000000\" y=\"290.000000\" class=\"square light g2\" width=\"45.000000\" height=\"45.000000\" style=\"stroke: none;\" /><use xlink:href=\"#white-pawn\" transform=\"translate(290.000000, 290.000000) scale(1.000000 1.000000)\" /><rect x=\"335.000000\" y=\"290.000000\" class=\"square dark h2\" width=\"45.000000\" height=\"45.000000\" style=\"stroke: none;\" /><use xlink:href=\"#white-pawn\" transform=\"translate(335.000000, 290.000000) scale(1.000000 1.000000)\" /><rect x=\"20.000000\" y=\"245.000000\" class=\"square dark a3\" width=\"45.000000\" height=\"45.000000\" style=\"stroke: none;\" /><rect x=\"65.000000\" y=\"245.000000\" class=\"square light b3\" width=\"45.000000\" height=\"45.000000\" style=\"stroke: none;\" /><rect x=\"110.000000\" y=\"245.000000\" class=\"square dark c3\" width=\"45.000000\" height=\"45.000000\" style=\"stroke: none;\" /><use xlink:href=\"#white-knight\" transform=\"translate(110.000000, 245.000000) scale(1.000000 1.000000)\" /><rect x=\"155.000000\" y=\"245.000000\" class=\"square light d3\" width=\"45.000000\" height=\"45.000000\" style=\"stroke: none;\" /><rect x=\"200.000000\" y=\"245.000000\" class=\"square dark e3\" width=\"45.000000\" height=\"45.000000\" style=\"stroke: none;\" /><rect x=\"245.000000\" y=\"245.000000\" class=\"square light f3\" width=\"45.000000\" height=\"45.000000\" style=\"stroke: none;\" /><rect x=\"290.000000\" y=\"245.000000\" class=\"square dark g3\" width=\"45.000000\" height=\"45.000000\" style=\"stroke: none;\" /><rect x=\"335.000000\" y=\"245.000000\" class=\"square light h3\" width=\"45.000000\" height=\"45.000000\" style=\"stroke: none;\" /><rect x=\"20.000000\" y=\"200.000000\" class=\"square light a4\" width=\"45.000000\" height=\"45.000000\" style=\"stroke: none;\" /><rect x=\"65.000000\" y=\"200.000000\" class=\"square dark b4 lastmove\" width=\"45.000000\" height=\"45.000000\" style=\"stroke: none;\" /><use xlink:href=\"#white-pawn\" transform=\"translate(65.000000, 200.000000) scale(1.000000 1.000000)\" /><rect x=\"110.000000\" y=\"200.000000\" class=\"square light c4\" width=\"45.000000\" height=\"45.000000\" style=\"stroke: none;\" /><rect x=\"155.000000\" y=\"200.000000\" class=\"square dark d4\" width=\"45.000000\" height=\"45.000000\" style=\"stroke: none;\" /><rect x=\"200.000000\" y=\"200.000000\" class=\"square light e4\" width=\"45.000000\" height=\"45.000000\" style=\"stroke: none;\" /><rect x=\"245.000000\" y=\"200.000000\" class=\"square dark f4\" width=\"45.000000\" height=\"45.000000\" style=\"stroke: none;\" /><rect x=\"290.000000\" y=\"200.000000\" class=\"square light g4\" width=\"45.000000\" height=\"45.000000\" style=\"stroke: none;\" /><rect x=\"335.000000\" y=\"200.000000\" class=\"square dark h4\" width=\"45.000000\" height=\"45.000000\" style=\"stroke: none;\" /><rect x=\"20.000000\" y=\"155.000000\" class=\"square dark a5\" width=\"45.000000\" height=\"45.000000\" style=\"stroke: none;\" /><rect x=\"65.000000\" y=\"155.000000\" class=\"square light b5\" width=\"45.000000\" height=\"45.000000\" style=\"stroke: none;\" /><use xlink:href=\"#black-pawn\" transform=\"translate(65.000000, 155.000000) scale(1.000000 1.000000)\" /><rect x=\"110.000000\" y=\"155.000000\" class=\"square dark c5\" width=\"45.000000\" height=\"45.000000\" style=\"stroke: none;\" /><rect x=\"155.000000\" y=\"155.000000\" class=\"square light d5\" width=\"45.000000\" height=\"45.000000\" style=\"stroke: none;\" /><rect x=\"200.000000\" y=\"155.000000\" class=\"square dark e5\" width=\"45.000000\" height=\"45.000000\" style=\"stroke: none;\" /><rect x=\"245.000000\" y=\"155.000000\" class=\"square light f5\" width=\"45.000000\" height=\"45.000000\" style=\"stroke: none;\" /><rect x=\"290.000000\" y=\"155.000000\" class=\"square dark g5\" width=\"45.000000\" height=\"45.000000\" style=\"stroke: none;\" /><rect x=\"335.000000\" y=\"155.000000\" class=\"square light h5\" width=\"45.000000\" height=\"45.000000\" style=\"stroke: none;\" /><rect x=\"20.000000\" y=\"110.000000\" class=\"square light a6\" width=\"45.000000\" height=\"45.000000\" style=\"stroke: none;\" /><rect x=\"65.000000\" y=\"110.000000\" class=\"square dark b6\" width=\"45.000000\" height=\"45.000000\" style=\"stroke: none;\" /><rect x=\"110.000000\" y=\"110.000000\" class=\"square light c6\" width=\"45.000000\" height=\"45.000000\" style=\"stroke: none;\" /><rect x=\"155.000000\" y=\"110.000000\" class=\"square dark d6\" width=\"45.000000\" height=\"45.000000\" style=\"stroke: none;\" /><rect x=\"200.000000\" y=\"110.000000\" class=\"square light e6\" width=\"45.000000\" height=\"45.000000\" style=\"stroke: none;\" /><rect x=\"245.000000\" y=\"110.000000\" class=\"square dark f6\" width=\"45.000000\" height=\"45.000000\" style=\"stroke: none;\" /><rect x=\"290.000000\" y=\"110.000000\" class=\"square light g6\" width=\"45.000000\" height=\"45.000000\" style=\"stroke: none;\" /><rect x=\"335.000000\" y=\"110.000000\" class=\"square dark h6\" width=\"45.000000\" height=\"45.000000\" style=\"stroke: none;\" /><rect x=\"20.000000\" y=\"65.000000\" class=\"square dark a7\" width=\"45.000000\" height=\"45.000000\" style=\"stroke: none;\" /><use xlink:href=\"#black-pawn\" transform=\"translate(20.000000, 65.000000) scale(1.000000 1.000000)\" /><rect x=\"65.000000\" y=\"65.000000\" class=\"square light b7\" width=\"45.000000\" height=\"45.000000\" style=\"stroke: none;\" /><rect x=\"110.000000\" y=\"65.000000\" class=\"square dark c7\" width=\"45.000000\" height=\"45.000000\" style=\"stroke: none;\" /><use xlink:href=\"#black-pawn\" transform=\"translate(110.000000, 65.000000) scale(1.000000 1.000000)\" /><rect x=\"155.000000\" y=\"65.000000\" class=\"square light d7\" width=\"45.000000\" height=\"45.000000\" style=\"stroke: none;\" /><use xlink:href=\"#black-pawn\" transform=\"translate(155.000000, 65.000000) scale(1.000000 1.000000)\" /><rect x=\"200.000000\" y=\"65.000000\" class=\"square dark e7\" width=\"45.000000\" height=\"45.000000\" style=\"stroke: none;\" /><use xlink:href=\"#black-pawn\" transform=\"translate(200.000000, 65.000000) scale(1.000000 1.000000)\" /><rect x=\"245.000000\" y=\"65.000000\" class=\"square light f7\" width=\"45.000000\" height=\"45.000000\" style=\"stroke: none;\" /><use xlink:href=\"#black-pawn\" transform=\"translate(245.000000, 65.000000) scale(1.000000 1.000000)\" /><rect x=\"290.000000\" y=\"65.000000\" class=\"square dark g7\" width=\"45.000000\" height=\"45.000000\" style=\"stroke: none;\" /><use xlink:href=\"#black-pawn\" transform=\"translate(290.000000, 65.000000) scale(1.000000 1.000000)\" /><rect x=\"335.000000\" y=\"65.000000\" class=\"square light h7\" width=\"45.000000\" height=\"45.000000\" style=\"stroke: none;\" /><use xlink:href=\"#black-pawn\" transform=\"translate(335.000000, 65.000000) scale(1.000000 1.000000)\" /><rect x=\"20.000000\" y=\"20.000000\" class=\"square light a8\" width=\"45.000000\" height=\"45.000000\" style=\"stroke: none;\" /><use xlink:href=\"#black-rook\" transform=\"translate(20.000000, 20.000000) scale(1.000000 1.000000)\" /><rect x=\"65.000000\" y=\"20.000000\" class=\"square dark b8\" width=\"45.000000\" height=\"45.000000\" style=\"stroke: none;\" /><use xlink:href=\"#black-knight\" transform=\"translate(65.000000, 20.000000) scale(1.000000 1.000000)\" /><rect x=\"110.000000\" y=\"20.000000\" class=\"square light c8\" width=\"45.000000\" height=\"45.000000\" style=\"stroke: none;\" /><use xlink:href=\"#black-bishop\" transform=\"translate(110.000000, 20.000000) scale(1.000000 1.000000)\" /><rect x=\"155.000000\" y=\"20.000000\" class=\"square dark d8\" width=\"45.000000\" height=\"45.000000\" style=\"stroke: none;\" /><use xlink:href=\"#black-queen\" transform=\"translate(155.000000, 20.000000) scale(1.000000 1.000000)\" /><rect x=\"200.000000\" y=\"20.000000\" class=\"square light e8\" width=\"45.000000\" height=\"45.000000\" style=\"stroke: none;\" /><use xlink:href=\"#black-king\" transform=\"translate(200.000000, 20.000000) scale(1.000000 1.000000)\" /><rect x=\"245.000000\" y=\"20.000000\" class=\"square dark f8\" width=\"45.000000\" height=\"45.000000\" style=\"stroke: none;\" /><use xlink:href=\"#black-bishop\" transform=\"translate(245.000000, 20.000000) scale(1.000000 1.000000)\" /><rect x=\"290.000000\" y=\"20.000000\" class=\"square light g8\" width=\"45.000000\" height=\"45.000000\" style=\"stroke: none;\" /><use xlink:href=\"#black-knight\" transform=\"translate(290.000000, 20.000000) scale(1.000000 1.000000)\" /><rect x=\"335.000000\" y=\"20.000000\" class=\"square dark h8\" width=\"45.000000\" height=\"45.000000\" style=\"stroke: none;\" /><use xlink:href=\"#black-rook\" transform=\"translate(335.000000, 20.000000) scale(1.000000 1.000000)\" /><text x=\"42\" y=\"10\" text-anchor=\"middle\" alignment-baseline=\"middle\" font-size=\"14\">a</text><text x=\"42\" y=\"390\" text-anchor=\"middle\" alignment-baseline=\"middle\" font-size=\"14\">a</text><text x=\"87\" y=\"10\" text-anchor=\"middle\" alignment-baseline=\"middle\" font-size=\"14\">b</text><text x=\"87\" y=\"390\" text-anchor=\"middle\" alignment-baseline=\"middle\" font-size=\"14\">b</text><text x=\"132\" y=\"10\" text-anchor=\"middle\" alignment-baseline=\"middle\" font-size=\"14\">c</text><text x=\"132\" y=\"390\" text-anchor=\"middle\" alignment-baseline=\"middle\" font-size=\"14\">c</text><text x=\"177\" y=\"10\" text-anchor=\"middle\" alignment-baseline=\"middle\" font-size=\"14\">d</text><text x=\"177\" y=\"390\" text-anchor=\"middle\" alignment-baseline=\"middle\" font-size=\"14\">d</text><text x=\"222\" y=\"10\" text-anchor=\"middle\" alignment-baseline=\"middle\" font-size=\"14\">e</text><text x=\"222\" y=\"390\" text-anchor=\"middle\" alignment-baseline=\"middle\" font-size=\"14\">e</text><text x=\"267\" y=\"10\" text-anchor=\"middle\" alignment-baseline=\"middle\" font-size=\"14\">f</text><text x=\"267\" y=\"390\" text-anchor=\"middle\" alignment-baseline=\"middle\" font-size=\"14\">f</text><text x=\"312\" y=\"10\" text-anchor=\"middle\" alignment-baseline=\"middle\" font-size=\"14\">g</text><text x=\"312\" y=\"390\" text-anchor=\"middle\" alignment-baseline=\"middle\" font-size=\"14\">g</text><text x=\"357\" y=\"10\" text-anchor=\"middle\" alignment-baseline=\"middle\" font-size=\"14\">h</text><text x=\"357\" y=\"390\" text-anchor=\"middle\" alignment-baseline=\"middle\" font-size=\"14\">h</text><text x=\"10\" y=\"357\" text-anchor=\"middle\" alignment-baseline=\"middle\" font-size=\"14\">1</text><text x=\"390\" y=\"357\" text-anchor=\"middle\" alignment-baseline=\"middle\" font-size=\"14\">1</text><text x=\"10\" y=\"312\" text-anchor=\"middle\" alignment-baseline=\"middle\" font-size=\"14\">2</text><text x=\"390\" y=\"312\" text-anchor=\"middle\" alignment-baseline=\"middle\" font-size=\"14\">2</text><text x=\"10\" y=\"267\" text-anchor=\"middle\" alignment-baseline=\"middle\" font-size=\"14\">3</text><text x=\"390\" y=\"267\" text-anchor=\"middle\" alignment-baseline=\"middle\" font-size=\"14\">3</text><text x=\"10\" y=\"222\" text-anchor=\"middle\" alignment-baseline=\"middle\" font-size=\"14\">4</text><text x=\"390\" y=\"222\" text-anchor=\"middle\" alignment-baseline=\"middle\" font-size=\"14\">4</text><text x=\"10\" y=\"177\" text-anchor=\"middle\" alignment-baseline=\"middle\" font-size=\"14\">5</text><text x=\"390\" y=\"177\" text-anchor=\"middle\" alignment-baseline=\"middle\" font-size=\"14\">5</text><text x=\"10\" y=\"132\" text-anchor=\"middle\" alignment-baseline=\"middle\" font-size=\"14\">6</text><text x=\"390\" y=\"132\" text-anchor=\"middle\" alignment-baseline=\"middle\" font-size=\"14\">6</text><text x=\"10\" y=\"87\" text-anchor=\"middle\" alignment-baseline=\"middle\" font-size=\"14\">7</text><text x=\"390\" y=\"87\" text-anchor=\"middle\" alignment-baseline=\"middle\" font-size=\"14\">7</text><text x=\"10\" y=\"42\" text-anchor=\"middle\" alignment-baseline=\"middle\" font-size=\"14\">8</text><text x=\"390\" y=\"42\" text-anchor=\"middle\" alignment-baseline=\"middle\" font-size=\"14\">8</text></svg>"
      ],
      "text/plain": [
       "Board('rnbqkbnr/p1pppppp/8/1p6/1P6/2N5/P1PPPPPP/R1BQKBNR b KQkq - 0 2')"
      ]
     },
     "execution_count": 7,
     "metadata": {},
     "output_type": "execute_result"
    }
   ],
   "source": [
    "if board.is_game_over():\n",
    "    print(board.result())\n",
    "else:\n",
    "    if board.turn == chess.WHITE:\n",
    "        #board.push(trainer.best_move(board, filter=True, eval=True))\n",
    "        board.push(chessbot.best_move(board))\n",
    "    else:\n",
    "        #board.push(trainer.best_move(board, filter=True))\n",
    "        board.push(chessbot.best_move(board))\n",
    "\n",
    "board"
   ]
  },
  {
   "cell_type": "code",
   "execution_count": 7,
   "metadata": {
    "collapsed": false,
    "scrolled": true
   },
   "outputs": [
    {
     "name": "stdout",
     "output_type": "stream",
     "text": [
      "e7d7\n"
     ]
    }
   ],
   "source": [
    "print(chessbot.best_move(board, depth=1))"
   ]
  },
  {
   "cell_type": "code",
   "execution_count": 6,
   "metadata": {
    "collapsed": false
   },
   "outputs": [
    {
     "data": {
      "image/svg+xml": [
       "<svg xmlns=\"http://www.w3.org/2000/svg\" version=\"1.1\" xmlns:xlink=\"http://www.w3.org/1999/xlink\" width=\"400\" height=\"400\"><style>.square.light {\n",
       "  fill: #ffce9e;\n",
       "}\n",
       ".square.dark {\n",
       "  fill: #d18b47;\n",
       "}\n",
       "\n",
       ".square.dark.lastmove {\n",
       "  fill: #aaa23b;\n",
       "}\n",
       ".square.light.lastmove {\n",
       "  fill: #cdd16a;\n",
       "}\n",
       "\n",
       ".check {\n",
       "  fill: url(#check_gradient);\n",
       "}\n",
       "</style><defs><g id=\"white-king\" class=\"white king\" fill=\"none\" fill-rule=\"evenodd\" stroke=\"#000\" stroke-width=\"1.5\" stroke-linecap=\"round\" stroke-linejoin=\"round\"><path d=\"M22.5 11.63V6M20 8h5\" stroke-linejoin=\"miter\"/><path d=\"M22.5 25s4.5-7.5 3-10.5c0 0-1-2.5-3-2.5s-3 2.5-3 2.5c-1.5 3 3 10.5 3 10.5\" fill=\"#fff\" stroke-linecap=\"butt\" stroke-linejoin=\"miter\"/><path d=\"M11.5 37c5.5 3.5 15.5 3.5 21 0v-7s9-4.5 6-10.5c-4-6.5-13.5-3.5-16 4V27v-3.5c-3.5-7.5-13-10.5-16-4-3 6 5 10 5 10V37z\" fill=\"#fff\"/><path d=\"M11.5 30c5.5-3 15.5-3 21 0m-21 3.5c5.5-3 15.5-3 21 0m-21 3.5c5.5-3 15.5-3 21 0\"/></g><g id=\"black-rook\" class=\"black rook\" fill=\"0\" fill-rule=\"evenodd\" stroke=\"#000\" stroke-width=\"1.5\" stroke-linecap=\"round\" stroke-linejoin=\"round\"><path d=\"M9 39h27v-3H9v3zM12.5 32l1.5-2.5h17l1.5 2.5h-20zM12 36v-4h21v4H12z\" stroke-linecap=\"butt\"/><path d=\"M14 29.5v-13h17v13H14z\" stroke-linecap=\"butt\" stroke-linejoin=\"miter\"/><path d=\"M14 16.5L11 14h23l-3 2.5H14zM11 14V9h4v2h5V9h5v2h5V9h4v5H11z\" stroke-linecap=\"butt\"/><path d=\"M12 35.5h21M13 31.5h19M14 29.5h17M14 16.5h17M11 14h23\" fill=\"none\" stroke=\"#fff\" stroke-width=\"1\" stroke-linejoin=\"miter\"/></g><g id=\"white-pawn\" class=\"white pawn\"><path d=\"M22 9c-2.21 0-4 1.79-4 4 0 .89.29 1.71.78 2.38-1.95 1.12-3.28 3.21-3.28 5.62 0 2.03.94 3.84 2.41 5.03-3 1.06-7.41 5.55-7.41 13.47h23c0-7.92-4.41-12.41-7.41-13.47 1.47-1.19 2.41-3 2.41-5.03 0-2.41-1.33-4.5-3.28-5.62.49-.67.78-1.49.78-2.38 0-2.21-1.79-4-4-4z\" fill=\"#fff\" stroke=\"#000\" stroke-width=\"1.5\" stroke-linecap=\"round\"/></g><g id=\"white-knight\" class=\"white knight\" fill=\"none\" fill-rule=\"evenodd\" stroke=\"#000\" stroke-width=\"1.5\" stroke-linecap=\"round\" stroke-linejoin=\"round\"><path d=\"M 22,10 C 32.5,11 38.5,18 38,39 L 15,39 C 15,30 25,32.5 23,18\" style=\"fill:#ffffff; stroke:#000000;\"/><path d=\"M 24,18 C 24.38,20.91 18.45,25.37 16,27 C 13,29 13.18,31.34 11,31 C 9.958,30.06 12.41,27.96 11,28 C 10,28 11.19,29.23 10,30 C 9,30 5.997,31 6,26 C 6,24 12,14 12,14 C 12,14 13.89,12.1 14,10.5 C 13.27,9.506 13.5,8.5 13.5,7.5 C 14.5,6.5 16.5,10 16.5,10 L 18.5,10 C 18.5,10 19.28,8.008 21,7 C 22,7 22,10 22,10\" style=\"fill:#ffffff; stroke:#000000;\"/><path d=\"M 9.5 25.5 A 0.5 0.5 0 1 1 8.5,25.5 A 0.5 0.5 0 1 1 9.5 25.5 z\" style=\"fill:#000000; stroke:#000000;\"/><path d=\"M 15 15.5 A 0.5 1.5 0 1 1 14,15.5 A 0.5 1.5 0 1 1 15 15.5 z\" transform=\"matrix(0.866,0.5,-0.5,0.866,9.693,-5.173)\" style=\"fill:#000000; stroke:#000000;\"/></g><g id=\"black-knight\" class=\"black knight\" fill=\"none\" fill-rule=\"evenodd\" stroke=\"#000\" stroke-width=\"1.5\" stroke-linecap=\"round\" stroke-linejoin=\"round\"><path d=\"M 22,10 C 32.5,11 38.5,18 38,39 L 15,39 C 15,30 25,32.5 23,18\" style=\"fill:#000000; stroke:#000000;\"/><path d=\"M 24,18 C 24.38,20.91 18.45,25.37 16,27 C 13,29 13.18,31.34 11,31 C 9.958,30.06 12.41,27.96 11,28 C 10,28 11.19,29.23 10,30 C 9,30 5.997,31 6,26 C 6,24 12,14 12,14 C 12,14 13.89,12.1 14,10.5 C 13.27,9.506 13.5,8.5 13.5,7.5 C 14.5,6.5 16.5,10 16.5,10 L 18.5,10 C 18.5,10 19.28,8.008 21,7 C 22,7 22,10 22,10\" style=\"fill:#000000; stroke:#000000;\"/><path d=\"M 9.5 25.5 A 0.5 0.5 0 1 1 8.5,25.5 A 0.5 0.5 0 1 1 9.5 25.5 z\" style=\"fill:#ececec; stroke:#ececec;\"/><path d=\"M 15 15.5 A 0.5 1.5 0 1 1 14,15.5 A 0.5 1.5 0 1 1 15 15.5 z\" transform=\"matrix(0.866,0.5,-0.5,0.866,9.693,-5.173)\" style=\"fill:#ececec; stroke:#ececec;\"/><path d=\"M 24.55,10.4 L 24.1,11.85 L 24.6,12 C 27.75,13 30.25,14.49 32.5,18.75 C 34.75,23.01 35.75,29.06 35.25,39 L 35.2,39.5 L 37.45,39.5 L 37.5,39 C 38,28.94 36.62,22.15 34.25,17.66 C 31.88,13.17 28.46,11.02 25.06,10.5 L 24.55,10.4 z \" style=\"fill:#ececec; stroke:none;\"/></g><g id=\"black-queen\" class=\"black-queen\" fill=\"0\" fill-rule=\"evenodd\" stroke=\"#000\" stroke-width=\"1.5\" stroke-linecap=\"round\" stroke-linejoin=\"round\"><g fill=\"#000\" stroke=\"none\"><circle cx=\"6\" cy=\"12\" r=\"2.75\"/><circle cx=\"14\" cy=\"9\" r=\"2.75\"/><circle cx=\"22.5\" cy=\"8\" r=\"2.75\"/><circle cx=\"31\" cy=\"9\" r=\"2.75\"/><circle cx=\"39\" cy=\"12\" r=\"2.75\"/></g><path d=\"M9 26c8.5-1.5 21-1.5 27 0l2.5-12.5L31 25l-.3-14.1-5.2 13.6-3-14.5-3 14.5-5.2-13.6L14 25 6.5 13.5 9 26zM9 26c0 2 1.5 2 2.5 4 1 1.5 1 1 .5 3.5-1.5 1-1.5 2.5-1.5 2.5-1.5 1.5.5 2.5.5 2.5 6.5 1 16.5 1 23 0 0 0 1.5-1 0-2.5 0 0 .5-1.5-1-2.5-.5-2.5-.5-2 .5-3.5 1-2 2.5-2 2.5-4-8.5-1.5-18.5-1.5-27 0z\" stroke-linecap=\"butt\"/><path d=\"M11 38.5a35 35 1 0 0 23 0\" fill=\"none\" stroke-linecap=\"butt\"/><path d=\"M11 29a35 35 1 0 1 23 0M12.5 31.5h20M11.5 34.5a35 35 1 0 0 22 0M10.5 37.5a35 35 1 0 0 24 0\" fill=\"none\" stroke=\"#fff\"/></g><g id=\"white-rook\" class=\"white rook\" fill=\"#fff\" fill-rule=\"evenodd\" stroke=\"#000\" stroke-width=\"1.5\" stroke-linecap=\"round\" stroke-linejoin=\"round\"><path d=\"M9 39h27v-3H9v3zM12 36v-4h21v4H12zM11 14V9h4v2h5V9h5v2h5V9h4v5\" stroke-linecap=\"butt\"/><path d=\"M34 14l-3 3H14l-3-3\"/><path d=\"M31 17v12.5H14V17\" stroke-linecap=\"butt\" stroke-linejoin=\"miter\"/><path d=\"M31 29.5l1.5 2.5h-20l1.5-2.5\"/><path d=\"M11 14h23\" fill=\"none\" stroke-linejoin=\"miter\"/></g><g id=\"black-bishop\" class=\"black bishop\" fill=\"none\" fill-rule=\"evenodd\" stroke=\"#000\" stroke-width=\"1.5\" stroke-linecap=\"round\" stroke-linejoin=\"round\"><path d=\"M9 36c3.39-.97 10.11.43 13.5-2 3.39 2.43 10.11 1.03 13.5 2 0 0 1.65.54 3 2-.68.97-1.65.99-3 .5-3.39-.97-10.11.46-13.5-1-3.39 1.46-10.11.03-13.5 1-1.354.49-2.323.47-3-.5 1.354-1.94 3-2 3-2zm6-4c2.5 2.5 12.5 2.5 15 0 .5-1.5 0-2 0-2 0-2.5-2.5-4-2.5-4 5.5-1.5 6-11.5-5-15.5-11 4-10.5 14-5 15.5 0 0-2.5 1.5-2.5 4 0 0-.5.5 0 2zM25 8a2.5 2.5 0 1 1-5 0 2.5 2.5 0 1 1 5 0z\" fill=\"#000\" stroke-linecap=\"butt\"/><path d=\"M17.5 26h10M15 30h15m-7.5-14.5v5M20 18h5\" stroke=\"#fff\" stroke-linejoin=\"miter\"/></g><g id=\"white-bishop\" class=\"white bishop\" fill=\"none\" fill-rule=\"evenodd\" stroke=\"#000\" stroke-width=\"1.5\" stroke-linecap=\"round\" stroke-linejoin=\"round\"><g fill=\"#fff\" stroke-linecap=\"butt\"><path d=\"M9 36c3.39-.97 10.11.43 13.5-2 3.39 2.43 10.11 1.03 13.5 2 0 0 1.65.54 3 2-.68.97-1.65.99-3 .5-3.39-.97-10.11.46-13.5-1-3.39 1.46-10.11.03-13.5 1-1.354.49-2.323.47-3-.5 1.354-1.94 3-2 3-2zM15 32c2.5 2.5 12.5 2.5 15 0 .5-1.5 0-2 0-2 0-2.5-2.5-4-2.5-4 5.5-1.5 6-11.5-5-15.5-11 4-10.5 14-5 15.5 0 0-2.5 1.5-2.5 4 0 0-.5.5 0 2zM25 8a2.5 2.5 0 1 1-5 0 2.5 2.5 0 1 1 5 0z\"/></g><path d=\"M17.5 26h10M15 30h15m-7.5-14.5v5M20 18h5\" stroke-linejoin=\"miter\"/></g><g id=\"black-king\" class=\"black king\" fill=\"none\" fill-rule=\"evenodd\" stroke=\"#000\" stroke-width=\"1.5\" stroke-linecap=\"round\" stroke-linejoin=\"round\"><path d=\"M22.5 11.63V6\" stroke-linejoin=\"miter\"/><path d=\"M22.5 25s4.5-7.5 3-10.5c0 0-1-2.5-3-2.5s-3 2.5-3 2.5c-1.5 3 3 10.5 3 10.5\" fill=\"#000\" stroke-linecap=\"butt\" stroke-linejoin=\"miter\"/><path d=\"M11.5 37c5.5 3.5 15.5 3.5 21 0v-7s9-4.5 6-10.5c-4-6.5-13.5-3.5-16 4V27v-3.5c-3.5-7.5-13-10.5-16-4-3 6 5 10 5 10V37z\" fill=\"#000\"/><path d=\"M20 8h5\" stroke-linejoin=\"miter\"/><path d=\"M32 29.5s8.5-4 6.03-9.65C34.15 14 25 18 22.5 24.5l.01 2.1-.01-2.1C20 18 9.906 14 6.997 19.85c-2.497 5.65 4.853 9 4.853 9M11.5 30c5.5-3 15.5-3 21 0m-21 3.5c5.5-3 15.5-3 21 0m-21 3.5c5.5-3 15.5-3 21 0\" stroke=\"#fff\"/></g><g id=\"white-queen\" class=\"white queen\" fill=\"#fff\" fill-rule=\"evenodd\" stroke=\"#000\" stroke-width=\"1.5\" stroke-linecap=\"round\" stroke-linejoin=\"round\"><path d=\"M8 12a2 2 0 1 1-4 0 2 2 0 1 1 4 0zM24.5 7.5a2 2 0 1 1-4 0 2 2 0 1 1 4 0zM41 12a2 2 0 1 1-4 0 2 2 0 1 1 4 0zM16 8.5a2 2 0 1 1-4 0 2 2 0 1 1 4 0zM33 9a2 2 0 1 1-4 0 2 2 0 1 1 4 0z\"/><path d=\"M9 26c8.5-1.5 21-1.5 27 0l2-12-7 11V11l-5.5 13.5-3-15-3 15-5.5-14V25L7 14l2 12zM9 26c0 2 1.5 2 2.5 4 1 1.5 1 1 .5 3.5-1.5 1-1.5 2.5-1.5 2.5-1.5 1.5.5 2.5.5 2.5 6.5 1 16.5 1 23 0 0 0 1.5-1 0-2.5 0 0 .5-1.5-1-2.5-.5-2.5-.5-2 .5-3.5 1-2 2.5-2 2.5-4-8.5-1.5-18.5-1.5-27 0z\" stroke-linecap=\"butt\"/><path d=\"M11.5 30c3.5-1 18.5-1 22 0M12 33.5c6-1 15-1 21 0\" fill=\"none\"/></g><g id=\"black-pawn\" class=\"black pawn\"><path d=\"M22 9c-2.21 0-4 1.79-4 4 0 .89.29 1.71.78 2.38-1.95 1.12-3.28 3.21-3.28 5.62 0 2.03.94 3.84 2.41 5.03-3 1.06-7.41 5.55-7.41 13.47h23c0-7.92-4.41-12.41-7.41-13.47 1.47-1.19 2.41-3 2.41-5.03 0-2.41-1.33-4.5-3.28-5.62.49-.67.78-1.49.78-2.38 0-2.21-1.79-4-4-4z\" stroke=\"#000\" stroke-width=\"1.5\" stroke-linecap=\"round\"/></g></defs><rect x=\"20.000000\" y=\"335.000000\" class=\"square dark a1\" width=\"45.000000\" height=\"45.000000\" style=\"stroke: none;\" /><rect x=\"65.000000\" y=\"335.000000\" class=\"square light b1\" width=\"45.000000\" height=\"45.000000\" style=\"stroke: none;\" /><rect x=\"110.000000\" y=\"335.000000\" class=\"square dark c1\" width=\"45.000000\" height=\"45.000000\" style=\"stroke: none;\" /><rect x=\"155.000000\" y=\"335.000000\" class=\"square light d1\" width=\"45.000000\" height=\"45.000000\" style=\"stroke: none;\" /><rect x=\"200.000000\" y=\"335.000000\" class=\"square dark e1\" width=\"45.000000\" height=\"45.000000\" style=\"stroke: none;\" /><rect x=\"245.000000\" y=\"335.000000\" class=\"square light f1\" width=\"45.000000\" height=\"45.000000\" style=\"stroke: none;\" /><rect x=\"290.000000\" y=\"335.000000\" class=\"square dark g1\" width=\"45.000000\" height=\"45.000000\" style=\"stroke: none;\" /><use xlink:href=\"#white-king\" transform=\"translate(290.000000, 335.000000) scale(1.000000 1.000000)\" /><rect x=\"335.000000\" y=\"335.000000\" class=\"square light h1\" width=\"45.000000\" height=\"45.000000\" style=\"stroke: none;\" /><rect x=\"20.000000\" y=\"290.000000\" class=\"square light a2\" width=\"45.000000\" height=\"45.000000\" style=\"stroke: none;\" /><use xlink:href=\"#white-pawn\" transform=\"translate(20.000000, 290.000000) scale(1.000000 1.000000)\" /><rect x=\"65.000000\" y=\"290.000000\" class=\"square dark b2\" width=\"45.000000\" height=\"45.000000\" style=\"stroke: none;\" /><rect x=\"110.000000\" y=\"290.000000\" class=\"square light c2\" width=\"45.000000\" height=\"45.000000\" style=\"stroke: none;\" /><rect x=\"155.000000\" y=\"290.000000\" class=\"square dark d2\" width=\"45.000000\" height=\"45.000000\" style=\"stroke: none;\" /><rect x=\"200.000000\" y=\"290.000000\" class=\"square light e2\" width=\"45.000000\" height=\"45.000000\" style=\"stroke: none;\" /><rect x=\"245.000000\" y=\"290.000000\" class=\"square dark f2\" width=\"45.000000\" height=\"45.000000\" style=\"stroke: none;\" /><rect x=\"290.000000\" y=\"290.000000\" class=\"square light g2\" width=\"45.000000\" height=\"45.000000\" style=\"stroke: none;\" /><rect x=\"335.000000\" y=\"290.000000\" class=\"square dark h2\" width=\"45.000000\" height=\"45.000000\" style=\"stroke: none;\" /><rect x=\"20.000000\" y=\"245.000000\" class=\"square dark a3\" width=\"45.000000\" height=\"45.000000\" style=\"stroke: none;\" /><rect x=\"65.000000\" y=\"245.000000\" class=\"square light b3\" width=\"45.000000\" height=\"45.000000\" style=\"stroke: none;\" /><rect x=\"110.000000\" y=\"245.000000\" class=\"square dark c3\" width=\"45.000000\" height=\"45.000000\" style=\"stroke: none;\" /><rect x=\"155.000000\" y=\"245.000000\" class=\"square light d3\" width=\"45.000000\" height=\"45.000000\" style=\"stroke: none;\" /><rect x=\"200.000000\" y=\"245.000000\" class=\"square dark e3\" width=\"45.000000\" height=\"45.000000\" style=\"stroke: none;\" /><rect x=\"245.000000\" y=\"245.000000\" class=\"square light f3\" width=\"45.000000\" height=\"45.000000\" style=\"stroke: none;\" /><rect x=\"290.000000\" y=\"245.000000\" class=\"square dark g3\" width=\"45.000000\" height=\"45.000000\" style=\"stroke: none;\" /><rect x=\"335.000000\" y=\"245.000000\" class=\"square light h3\" width=\"45.000000\" height=\"45.000000\" style=\"stroke: none;\" /><rect x=\"20.000000\" y=\"200.000000\" class=\"square light a4\" width=\"45.000000\" height=\"45.000000\" style=\"stroke: none;\" /><use xlink:href=\"#white-pawn\" transform=\"translate(20.000000, 200.000000) scale(1.000000 1.000000)\" /><rect x=\"65.000000\" y=\"200.000000\" class=\"square dark b4\" width=\"45.000000\" height=\"45.000000\" style=\"stroke: none;\" /><rect x=\"110.000000\" y=\"200.000000\" class=\"square light c4\" width=\"45.000000\" height=\"45.000000\" style=\"stroke: none;\" /><rect x=\"155.000000\" y=\"200.000000\" class=\"square dark d4\" width=\"45.000000\" height=\"45.000000\" style=\"stroke: none;\" /><rect x=\"200.000000\" y=\"200.000000\" class=\"square light e4\" width=\"45.000000\" height=\"45.000000\" style=\"stroke: none;\" /><rect x=\"245.000000\" y=\"200.000000\" class=\"square dark f4\" width=\"45.000000\" height=\"45.000000\" style=\"stroke: none;\" /><rect x=\"290.000000\" y=\"200.000000\" class=\"square light g4\" width=\"45.000000\" height=\"45.000000\" style=\"stroke: none;\" /><rect x=\"335.000000\" y=\"200.000000\" class=\"square dark h4\" width=\"45.000000\" height=\"45.000000\" style=\"stroke: none;\" /><rect x=\"20.000000\" y=\"155.000000\" class=\"square dark a5\" width=\"45.000000\" height=\"45.000000\" style=\"stroke: none;\" /><rect x=\"65.000000\" y=\"155.000000\" class=\"square light b5\" width=\"45.000000\" height=\"45.000000\" style=\"stroke: none;\" /><rect x=\"110.000000\" y=\"155.000000\" class=\"square dark c5\" width=\"45.000000\" height=\"45.000000\" style=\"stroke: none;\" /><rect x=\"155.000000\" y=\"155.000000\" class=\"square light d5\" width=\"45.000000\" height=\"45.000000\" style=\"stroke: none;\" /><use xlink:href=\"#white-bishop\" transform=\"translate(155.000000, 155.000000) scale(1.000000 1.000000)\" /><rect x=\"200.000000\" y=\"155.000000\" class=\"square dark e5\" width=\"45.000000\" height=\"45.000000\" style=\"stroke: none;\" /><use xlink:href=\"#white-bishop\" transform=\"translate(200.000000, 155.000000) scale(1.000000 1.000000)\" /><rect x=\"245.000000\" y=\"155.000000\" class=\"square light f5\" width=\"45.000000\" height=\"45.000000\" style=\"stroke: none;\" /><use xlink:href=\"#white-rook\" transform=\"translate(245.000000, 155.000000) scale(1.000000 1.000000)\" /><rect x=\"290.000000\" y=\"155.000000\" class=\"square dark g5\" width=\"45.000000\" height=\"45.000000\" style=\"stroke: none;\" /><rect x=\"335.000000\" y=\"155.000000\" class=\"square light h5\" width=\"45.000000\" height=\"45.000000\" style=\"stroke: none;\" /><use xlink:href=\"#white-pawn\" transform=\"translate(335.000000, 155.000000) scale(1.000000 1.000000)\" /><rect x=\"20.000000\" y=\"110.000000\" class=\"square light a6\" width=\"45.000000\" height=\"45.000000\" style=\"stroke: none;\" /><rect x=\"65.000000\" y=\"110.000000\" class=\"square dark b6\" width=\"45.000000\" height=\"45.000000\" style=\"stroke: none;\" /><use xlink:href=\"#black-pawn\" transform=\"translate(65.000000, 110.000000) scale(1.000000 1.000000)\" /><rect x=\"110.000000\" y=\"110.000000\" class=\"square light c6\" width=\"45.000000\" height=\"45.000000\" style=\"stroke: none;\" /><rect x=\"155.000000\" y=\"110.000000\" class=\"square dark d6\" width=\"45.000000\" height=\"45.000000\" style=\"stroke: none;\" /><rect x=\"200.000000\" y=\"110.000000\" class=\"square light e6\" width=\"45.000000\" height=\"45.000000\" style=\"stroke: none;\" /><rect x=\"245.000000\" y=\"110.000000\" class=\"square dark f6\" width=\"45.000000\" height=\"45.000000\" style=\"stroke: none;\" /><rect x=\"290.000000\" y=\"110.000000\" class=\"square light g6\" width=\"45.000000\" height=\"45.000000\" style=\"stroke: none;\" /><rect x=\"335.000000\" y=\"110.000000\" class=\"square dark h6\" width=\"45.000000\" height=\"45.000000\" style=\"stroke: none;\" /><use xlink:href=\"#black-pawn\" transform=\"translate(335.000000, 110.000000) scale(1.000000 1.000000)\" /><rect x=\"20.000000\" y=\"65.000000\" class=\"square dark a7\" width=\"45.000000\" height=\"45.000000\" style=\"stroke: none;\" /><rect x=\"65.000000\" y=\"65.000000\" class=\"square light b7\" width=\"45.000000\" height=\"45.000000\" style=\"stroke: none;\" /><rect x=\"110.000000\" y=\"65.000000\" class=\"square dark c7\" width=\"45.000000\" height=\"45.000000\" style=\"stroke: none;\" /><rect x=\"155.000000\" y=\"65.000000\" class=\"square light d7\" width=\"45.000000\" height=\"45.000000\" style=\"stroke: none;\" /><rect x=\"200.000000\" y=\"65.000000\" class=\"square dark e7\" width=\"45.000000\" height=\"45.000000\" style=\"stroke: none;\" /><use xlink:href=\"#black-king\" transform=\"translate(200.000000, 65.000000) scale(1.000000 1.000000)\" /><rect x=\"245.000000\" y=\"65.000000\" class=\"square light f7 lastmove\" width=\"45.000000\" height=\"45.000000\" style=\"stroke: none;\" /><rect x=\"290.000000\" y=\"65.000000\" class=\"square dark g7\" width=\"45.000000\" height=\"45.000000\" style=\"stroke: none;\" /><rect x=\"335.000000\" y=\"65.000000\" class=\"square light h7\" width=\"45.000000\" height=\"45.000000\" style=\"stroke: none;\" /><rect x=\"20.000000\" y=\"20.000000\" class=\"square light a8\" width=\"45.000000\" height=\"45.000000\" style=\"stroke: none;\" /><rect x=\"65.000000\" y=\"20.000000\" class=\"square dark b8\" width=\"45.000000\" height=\"45.000000\" style=\"stroke: none;\" /><rect x=\"110.000000\" y=\"20.000000\" class=\"square light c8\" width=\"45.000000\" height=\"45.000000\" style=\"stroke: none;\" /><rect x=\"155.000000\" y=\"20.000000\" class=\"square dark d8\" width=\"45.000000\" height=\"45.000000\" style=\"stroke: none;\" /><rect x=\"200.000000\" y=\"20.000000\" class=\"square light e8\" width=\"45.000000\" height=\"45.000000\" style=\"stroke: none;\" /><rect x=\"245.000000\" y=\"20.000000\" class=\"square dark f8 lastmove\" width=\"45.000000\" height=\"45.000000\" style=\"stroke: none;\" /><use xlink:href=\"#white-rook\" transform=\"translate(245.000000, 20.000000) scale(1.000000 1.000000)\" /><rect x=\"290.000000\" y=\"20.000000\" class=\"square light g8\" width=\"45.000000\" height=\"45.000000\" style=\"stroke: none;\" /><rect x=\"335.000000\" y=\"20.000000\" class=\"square dark h8\" width=\"45.000000\" height=\"45.000000\" style=\"stroke: none;\" /><text x=\"42\" y=\"10\" text-anchor=\"middle\" alignment-baseline=\"middle\" font-size=\"14\">a</text><text x=\"42\" y=\"390\" text-anchor=\"middle\" alignment-baseline=\"middle\" font-size=\"14\">a</text><text x=\"87\" y=\"10\" text-anchor=\"middle\" alignment-baseline=\"middle\" font-size=\"14\">b</text><text x=\"87\" y=\"390\" text-anchor=\"middle\" alignment-baseline=\"middle\" font-size=\"14\">b</text><text x=\"132\" y=\"10\" text-anchor=\"middle\" alignment-baseline=\"middle\" font-size=\"14\">c</text><text x=\"132\" y=\"390\" text-anchor=\"middle\" alignment-baseline=\"middle\" font-size=\"14\">c</text><text x=\"177\" y=\"10\" text-anchor=\"middle\" alignment-baseline=\"middle\" font-size=\"14\">d</text><text x=\"177\" y=\"390\" text-anchor=\"middle\" alignment-baseline=\"middle\" font-size=\"14\">d</text><text x=\"222\" y=\"10\" text-anchor=\"middle\" alignment-baseline=\"middle\" font-size=\"14\">e</text><text x=\"222\" y=\"390\" text-anchor=\"middle\" alignment-baseline=\"middle\" font-size=\"14\">e</text><text x=\"267\" y=\"10\" text-anchor=\"middle\" alignment-baseline=\"middle\" font-size=\"14\">f</text><text x=\"267\" y=\"390\" text-anchor=\"middle\" alignment-baseline=\"middle\" font-size=\"14\">f</text><text x=\"312\" y=\"10\" text-anchor=\"middle\" alignment-baseline=\"middle\" font-size=\"14\">g</text><text x=\"312\" y=\"390\" text-anchor=\"middle\" alignment-baseline=\"middle\" font-size=\"14\">g</text><text x=\"357\" y=\"10\" text-anchor=\"middle\" alignment-baseline=\"middle\" font-size=\"14\">h</text><text x=\"357\" y=\"390\" text-anchor=\"middle\" alignment-baseline=\"middle\" font-size=\"14\">h</text><text x=\"10\" y=\"357\" text-anchor=\"middle\" alignment-baseline=\"middle\" font-size=\"14\">1</text><text x=\"390\" y=\"357\" text-anchor=\"middle\" alignment-baseline=\"middle\" font-size=\"14\">1</text><text x=\"10\" y=\"312\" text-anchor=\"middle\" alignment-baseline=\"middle\" font-size=\"14\">2</text><text x=\"390\" y=\"312\" text-anchor=\"middle\" alignment-baseline=\"middle\" font-size=\"14\">2</text><text x=\"10\" y=\"267\" text-anchor=\"middle\" alignment-baseline=\"middle\" font-size=\"14\">3</text><text x=\"390\" y=\"267\" text-anchor=\"middle\" alignment-baseline=\"middle\" font-size=\"14\">3</text><text x=\"10\" y=\"222\" text-anchor=\"middle\" alignment-baseline=\"middle\" font-size=\"14\">4</text><text x=\"390\" y=\"222\" text-anchor=\"middle\" alignment-baseline=\"middle\" font-size=\"14\">4</text><text x=\"10\" y=\"177\" text-anchor=\"middle\" alignment-baseline=\"middle\" font-size=\"14\">5</text><text x=\"390\" y=\"177\" text-anchor=\"middle\" alignment-baseline=\"middle\" font-size=\"14\">5</text><text x=\"10\" y=\"132\" text-anchor=\"middle\" alignment-baseline=\"middle\" font-size=\"14\">6</text><text x=\"390\" y=\"132\" text-anchor=\"middle\" alignment-baseline=\"middle\" font-size=\"14\">6</text><text x=\"10\" y=\"87\" text-anchor=\"middle\" alignment-baseline=\"middle\" font-size=\"14\">7</text><text x=\"390\" y=\"87\" text-anchor=\"middle\" alignment-baseline=\"middle\" font-size=\"14\">7</text><text x=\"10\" y=\"42\" text-anchor=\"middle\" alignment-baseline=\"middle\" font-size=\"14\">8</text><text x=\"390\" y=\"42\" text-anchor=\"middle\" alignment-baseline=\"middle\" font-size=\"14\">8</text></svg>"
      ],
      "text/plain": [
       "Board('5R2/4k3/1p5p/3BBR1P/P7/8/P7/6K1 b - - 0 123')"
      ]
     },
     "execution_count": 6,
     "metadata": {},
     "output_type": "execute_result"
    }
   ],
   "source": [
    "board"
   ]
  },
  {
   "cell_type": "code",
   "execution_count": 3,
   "metadata": {
    "collapsed": false
   },
   "outputs": [
    {
     "data": {
      "image/svg+xml": [
       "<svg xmlns=\"http://www.w3.org/2000/svg\" version=\"1.1\" xmlns:xlink=\"http://www.w3.org/1999/xlink\" width=\"400\" height=\"400\"><style>.square.light {\n",
       "  fill: #ffce9e;\n",
       "}\n",
       ".square.dark {\n",
       "  fill: #d18b47;\n",
       "}\n",
       "\n",
       ".square.dark.lastmove {\n",
       "  fill: #aaa23b;\n",
       "}\n",
       ".square.light.lastmove {\n",
       "  fill: #cdd16a;\n",
       "}\n",
       "\n",
       ".check {\n",
       "  fill: url(#check_gradient);\n",
       "}\n",
       "</style><defs><g id=\"black-king\" class=\"black king\" fill=\"none\" fill-rule=\"evenodd\" stroke=\"#000\" stroke-width=\"1.5\" stroke-linecap=\"round\" stroke-linejoin=\"round\"><path d=\"M22.5 11.63V6\" stroke-linejoin=\"miter\"/><path d=\"M22.5 25s4.5-7.5 3-10.5c0 0-1-2.5-3-2.5s-3 2.5-3 2.5c-1.5 3 3 10.5 3 10.5\" fill=\"#000\" stroke-linecap=\"butt\" stroke-linejoin=\"miter\"/><path d=\"M11.5 37c5.5 3.5 15.5 3.5 21 0v-7s9-4.5 6-10.5c-4-6.5-13.5-3.5-16 4V27v-3.5c-3.5-7.5-13-10.5-16-4-3 6 5 10 5 10V37z\" fill=\"#000\"/><path d=\"M20 8h5\" stroke-linejoin=\"miter\"/><path d=\"M32 29.5s8.5-4 6.03-9.65C34.15 14 25 18 22.5 24.5l.01 2.1-.01-2.1C20 18 9.906 14 6.997 19.85c-2.497 5.65 4.853 9 4.853 9M11.5 30c5.5-3 15.5-3 21 0m-21 3.5c5.5-3 15.5-3 21 0m-21 3.5c5.5-3 15.5-3 21 0\" stroke=\"#fff\"/></g><g id=\"black-bishop\" class=\"black bishop\" fill=\"none\" fill-rule=\"evenodd\" stroke=\"#000\" stroke-width=\"1.5\" stroke-linecap=\"round\" stroke-linejoin=\"round\"><path d=\"M9 36c3.39-.97 10.11.43 13.5-2 3.39 2.43 10.11 1.03 13.5 2 0 0 1.65.54 3 2-.68.97-1.65.99-3 .5-3.39-.97-10.11.46-13.5-1-3.39 1.46-10.11.03-13.5 1-1.354.49-2.323.47-3-.5 1.354-1.94 3-2 3-2zm6-4c2.5 2.5 12.5 2.5 15 0 .5-1.5 0-2 0-2 0-2.5-2.5-4-2.5-4 5.5-1.5 6-11.5-5-15.5-11 4-10.5 14-5 15.5 0 0-2.5 1.5-2.5 4 0 0-.5.5 0 2zM25 8a2.5 2.5 0 1 1-5 0 2.5 2.5 0 1 1 5 0z\" fill=\"#000\" stroke-linecap=\"butt\"/><path d=\"M17.5 26h10M15 30h15m-7.5-14.5v5M20 18h5\" stroke=\"#fff\" stroke-linejoin=\"miter\"/></g><g id=\"white-pawn\" class=\"white pawn\"><path d=\"M22 9c-2.21 0-4 1.79-4 4 0 .89.29 1.71.78 2.38-1.95 1.12-3.28 3.21-3.28 5.62 0 2.03.94 3.84 2.41 5.03-3 1.06-7.41 5.55-7.41 13.47h23c0-7.92-4.41-12.41-7.41-13.47 1.47-1.19 2.41-3 2.41-5.03 0-2.41-1.33-4.5-3.28-5.62.49-.67.78-1.49.78-2.38 0-2.21-1.79-4-4-4z\" fill=\"#fff\" stroke=\"#000\" stroke-width=\"1.5\" stroke-linecap=\"round\"/></g><g id=\"black-knight\" class=\"black knight\" fill=\"none\" fill-rule=\"evenodd\" stroke=\"#000\" stroke-width=\"1.5\" stroke-linecap=\"round\" stroke-linejoin=\"round\"><path d=\"M 22,10 C 32.5,11 38.5,18 38,39 L 15,39 C 15,30 25,32.5 23,18\" style=\"fill:#000000; stroke:#000000;\"/><path d=\"M 24,18 C 24.38,20.91 18.45,25.37 16,27 C 13,29 13.18,31.34 11,31 C 9.958,30.06 12.41,27.96 11,28 C 10,28 11.19,29.23 10,30 C 9,30 5.997,31 6,26 C 6,24 12,14 12,14 C 12,14 13.89,12.1 14,10.5 C 13.27,9.506 13.5,8.5 13.5,7.5 C 14.5,6.5 16.5,10 16.5,10 L 18.5,10 C 18.5,10 19.28,8.008 21,7 C 22,7 22,10 22,10\" style=\"fill:#000000; stroke:#000000;\"/><path d=\"M 9.5 25.5 A 0.5 0.5 0 1 1 8.5,25.5 A 0.5 0.5 0 1 1 9.5 25.5 z\" style=\"fill:#ececec; stroke:#ececec;\"/><path d=\"M 15 15.5 A 0.5 1.5 0 1 1 14,15.5 A 0.5 1.5 0 1 1 15 15.5 z\" transform=\"matrix(0.866,0.5,-0.5,0.866,9.693,-5.173)\" style=\"fill:#ececec; stroke:#ececec;\"/><path d=\"M 24.55,10.4 L 24.1,11.85 L 24.6,12 C 27.75,13 30.25,14.49 32.5,18.75 C 34.75,23.01 35.75,29.06 35.25,39 L 35.2,39.5 L 37.45,39.5 L 37.5,39 C 38,28.94 36.62,22.15 34.25,17.66 C 31.88,13.17 28.46,11.02 25.06,10.5 L 24.55,10.4 z \" style=\"fill:#ececec; stroke:none;\"/></g><g id=\"white-king\" class=\"white king\" fill=\"none\" fill-rule=\"evenodd\" stroke=\"#000\" stroke-width=\"1.5\" stroke-linecap=\"round\" stroke-linejoin=\"round\"><path d=\"M22.5 11.63V6M20 8h5\" stroke-linejoin=\"miter\"/><path d=\"M22.5 25s4.5-7.5 3-10.5c0 0-1-2.5-3-2.5s-3 2.5-3 2.5c-1.5 3 3 10.5 3 10.5\" fill=\"#fff\" stroke-linecap=\"butt\" stroke-linejoin=\"miter\"/><path d=\"M11.5 37c5.5 3.5 15.5 3.5 21 0v-7s9-4.5 6-10.5c-4-6.5-13.5-3.5-16 4V27v-3.5c-3.5-7.5-13-10.5-16-4-3 6 5 10 5 10V37z\" fill=\"#fff\"/><path d=\"M11.5 30c5.5-3 15.5-3 21 0m-21 3.5c5.5-3 15.5-3 21 0m-21 3.5c5.5-3 15.5-3 21 0\"/></g><g id=\"black-queen\" class=\"black-queen\" fill=\"0\" fill-rule=\"evenodd\" stroke=\"#000\" stroke-width=\"1.5\" stroke-linecap=\"round\" stroke-linejoin=\"round\"><g fill=\"#000\" stroke=\"none\"><circle cx=\"6\" cy=\"12\" r=\"2.75\"/><circle cx=\"14\" cy=\"9\" r=\"2.75\"/><circle cx=\"22.5\" cy=\"8\" r=\"2.75\"/><circle cx=\"31\" cy=\"9\" r=\"2.75\"/><circle cx=\"39\" cy=\"12\" r=\"2.75\"/></g><path d=\"M9 26c8.5-1.5 21-1.5 27 0l2.5-12.5L31 25l-.3-14.1-5.2 13.6-3-14.5-3 14.5-5.2-13.6L14 25 6.5 13.5 9 26zM9 26c0 2 1.5 2 2.5 4 1 1.5 1 1 .5 3.5-1.5 1-1.5 2.5-1.5 2.5-1.5 1.5.5 2.5.5 2.5 6.5 1 16.5 1 23 0 0 0 1.5-1 0-2.5 0 0 .5-1.5-1-2.5-.5-2.5-.5-2 .5-3.5 1-2 2.5-2 2.5-4-8.5-1.5-18.5-1.5-27 0z\" stroke-linecap=\"butt\"/><path d=\"M11 38.5a35 35 1 0 0 23 0\" fill=\"none\" stroke-linecap=\"butt\"/><path d=\"M11 29a35 35 1 0 1 23 0M12.5 31.5h20M11.5 34.5a35 35 1 0 0 22 0M10.5 37.5a35 35 1 0 0 24 0\" fill=\"none\" stroke=\"#fff\"/></g><g id=\"black-rook\" class=\"black rook\" fill=\"0\" fill-rule=\"evenodd\" stroke=\"#000\" stroke-width=\"1.5\" stroke-linecap=\"round\" stroke-linejoin=\"round\"><path d=\"M9 39h27v-3H9v3zM12.5 32l1.5-2.5h17l1.5 2.5h-20zM12 36v-4h21v4H12z\" stroke-linecap=\"butt\"/><path d=\"M14 29.5v-13h17v13H14z\" stroke-linecap=\"butt\" stroke-linejoin=\"miter\"/><path d=\"M14 16.5L11 14h23l-3 2.5H14zM11 14V9h4v2h5V9h5v2h5V9h4v5H11z\" stroke-linecap=\"butt\"/><path d=\"M12 35.5h21M13 31.5h19M14 29.5h17M14 16.5h17M11 14h23\" fill=\"none\" stroke=\"#fff\" stroke-width=\"1\" stroke-linejoin=\"miter\"/></g><g id=\"black-pawn\" class=\"black pawn\"><path d=\"M22 9c-2.21 0-4 1.79-4 4 0 .89.29 1.71.78 2.38-1.95 1.12-3.28 3.21-3.28 5.62 0 2.03.94 3.84 2.41 5.03-3 1.06-7.41 5.55-7.41 13.47h23c0-7.92-4.41-12.41-7.41-13.47 1.47-1.19 2.41-3 2.41-5.03 0-2.41-1.33-4.5-3.28-5.62.49-.67.78-1.49.78-2.38 0-2.21-1.79-4-4-4z\" stroke=\"#000\" stroke-width=\"1.5\" stroke-linecap=\"round\"/></g><g id=\"white-queen\" class=\"white queen\" fill=\"#fff\" fill-rule=\"evenodd\" stroke=\"#000\" stroke-width=\"1.5\" stroke-linecap=\"round\" stroke-linejoin=\"round\"><path d=\"M8 12a2 2 0 1 1-4 0 2 2 0 1 1 4 0zM24.5 7.5a2 2 0 1 1-4 0 2 2 0 1 1 4 0zM41 12a2 2 0 1 1-4 0 2 2 0 1 1 4 0zM16 8.5a2 2 0 1 1-4 0 2 2 0 1 1 4 0zM33 9a2 2 0 1 1-4 0 2 2 0 1 1 4 0z\"/><path d=\"M9 26c8.5-1.5 21-1.5 27 0l2-12-7 11V11l-5.5 13.5-3-15-3 15-5.5-14V25L7 14l2 12zM9 26c0 2 1.5 2 2.5 4 1 1.5 1 1 .5 3.5-1.5 1-1.5 2.5-1.5 2.5-1.5 1.5.5 2.5.5 2.5 6.5 1 16.5 1 23 0 0 0 1.5-1 0-2.5 0 0 .5-1.5-1-2.5-.5-2.5-.5-2 .5-3.5 1-2 2.5-2 2.5-4-8.5-1.5-18.5-1.5-27 0z\" stroke-linecap=\"butt\"/><path d=\"M11.5 30c3.5-1 18.5-1 22 0M12 33.5c6-1 15-1 21 0\" fill=\"none\"/></g><g id=\"white-bishop\" class=\"white bishop\" fill=\"none\" fill-rule=\"evenodd\" stroke=\"#000\" stroke-width=\"1.5\" stroke-linecap=\"round\" stroke-linejoin=\"round\"><g fill=\"#fff\" stroke-linecap=\"butt\"><path d=\"M9 36c3.39-.97 10.11.43 13.5-2 3.39 2.43 10.11 1.03 13.5 2 0 0 1.65.54 3 2-.68.97-1.65.99-3 .5-3.39-.97-10.11.46-13.5-1-3.39 1.46-10.11.03-13.5 1-1.354.49-2.323.47-3-.5 1.354-1.94 3-2 3-2zM15 32c2.5 2.5 12.5 2.5 15 0 .5-1.5 0-2 0-2 0-2.5-2.5-4-2.5-4 5.5-1.5 6-11.5-5-15.5-11 4-10.5 14-5 15.5 0 0-2.5 1.5-2.5 4 0 0-.5.5 0 2zM25 8a2.5 2.5 0 1 1-5 0 2.5 2.5 0 1 1 5 0z\"/></g><path d=\"M17.5 26h10M15 30h15m-7.5-14.5v5M20 18h5\" stroke-linejoin=\"miter\"/></g><g id=\"white-knight\" class=\"white knight\" fill=\"none\" fill-rule=\"evenodd\" stroke=\"#000\" stroke-width=\"1.5\" stroke-linecap=\"round\" stroke-linejoin=\"round\"><path d=\"M 22,10 C 32.5,11 38.5,18 38,39 L 15,39 C 15,30 25,32.5 23,18\" style=\"fill:#ffffff; stroke:#000000;\"/><path d=\"M 24,18 C 24.38,20.91 18.45,25.37 16,27 C 13,29 13.18,31.34 11,31 C 9.958,30.06 12.41,27.96 11,28 C 10,28 11.19,29.23 10,30 C 9,30 5.997,31 6,26 C 6,24 12,14 12,14 C 12,14 13.89,12.1 14,10.5 C 13.27,9.506 13.5,8.5 13.5,7.5 C 14.5,6.5 16.5,10 16.5,10 L 18.5,10 C 18.5,10 19.28,8.008 21,7 C 22,7 22,10 22,10\" style=\"fill:#ffffff; stroke:#000000;\"/><path d=\"M 9.5 25.5 A 0.5 0.5 0 1 1 8.5,25.5 A 0.5 0.5 0 1 1 9.5 25.5 z\" style=\"fill:#000000; stroke:#000000;\"/><path d=\"M 15 15.5 A 0.5 1.5 0 1 1 14,15.5 A 0.5 1.5 0 1 1 15 15.5 z\" transform=\"matrix(0.866,0.5,-0.5,0.866,9.693,-5.173)\" style=\"fill:#000000; stroke:#000000;\"/></g><g id=\"white-rook\" class=\"white rook\" fill=\"#fff\" fill-rule=\"evenodd\" stroke=\"#000\" stroke-width=\"1.5\" stroke-linecap=\"round\" stroke-linejoin=\"round\"><path d=\"M9 39h27v-3H9v3zM12 36v-4h21v4H12zM11 14V9h4v2h5V9h5v2h5V9h4v5\" stroke-linecap=\"butt\"/><path d=\"M34 14l-3 3H14l-3-3\"/><path d=\"M31 17v12.5H14V17\" stroke-linecap=\"butt\" stroke-linejoin=\"miter\"/><path d=\"M31 29.5l1.5 2.5h-20l1.5-2.5\"/><path d=\"M11 14h23\" fill=\"none\" stroke-linejoin=\"miter\"/></g></defs><rect x=\"20.000000\" y=\"335.000000\" class=\"square dark a1\" width=\"45.000000\" height=\"45.000000\" style=\"stroke: none;\" /><use xlink:href=\"#white-bishop\" transform=\"translate(20.000000, 335.000000) scale(1.000000 1.000000)\" /><rect x=\"65.000000\" y=\"335.000000\" class=\"square light b1\" width=\"45.000000\" height=\"45.000000\" style=\"stroke: none;\" /><rect x=\"110.000000\" y=\"335.000000\" class=\"square dark c1\" width=\"45.000000\" height=\"45.000000\" style=\"stroke: none;\" /><rect x=\"155.000000\" y=\"335.000000\" class=\"square light d1\" width=\"45.000000\" height=\"45.000000\" style=\"stroke: none;\" /><rect x=\"200.000000\" y=\"335.000000\" class=\"square dark e1\" width=\"45.000000\" height=\"45.000000\" style=\"stroke: none;\" /><rect x=\"245.000000\" y=\"335.000000\" class=\"square light f1\" width=\"45.000000\" height=\"45.000000\" style=\"stroke: none;\" /><rect x=\"290.000000\" y=\"335.000000\" class=\"square dark g1\" width=\"45.000000\" height=\"45.000000\" style=\"stroke: none;\" /><rect x=\"335.000000\" y=\"335.000000\" class=\"square light h1\" width=\"45.000000\" height=\"45.000000\" style=\"stroke: none;\" /><rect x=\"20.000000\" y=\"290.000000\" class=\"square light a2\" width=\"45.000000\" height=\"45.000000\" style=\"stroke: none;\" /><rect x=\"65.000000\" y=\"290.000000\" class=\"square dark b2\" width=\"45.000000\" height=\"45.000000\" style=\"stroke: none;\" /><rect x=\"110.000000\" y=\"290.000000\" class=\"square light c2\" width=\"45.000000\" height=\"45.000000\" style=\"stroke: none;\" /><rect x=\"155.000000\" y=\"290.000000\" class=\"square dark d2\" width=\"45.000000\" height=\"45.000000\" style=\"stroke: none;\" /><rect x=\"200.000000\" y=\"290.000000\" class=\"square light e2\" width=\"45.000000\" height=\"45.000000\" style=\"stroke: none;\" /><use xlink:href=\"#white-king\" transform=\"translate(200.000000, 290.000000) scale(1.000000 1.000000)\" /><rect x=\"245.000000\" y=\"290.000000\" class=\"square dark f2\" width=\"45.000000\" height=\"45.000000\" style=\"stroke: none;\" /><rect x=\"290.000000\" y=\"290.000000\" class=\"square light g2\" width=\"45.000000\" height=\"45.000000\" style=\"stroke: none;\" /><use xlink:href=\"#white-pawn\" transform=\"translate(290.000000, 290.000000) scale(1.000000 1.000000)\" /><rect x=\"335.000000\" y=\"290.000000\" class=\"square dark h2\" width=\"45.000000\" height=\"45.000000\" style=\"stroke: none;\" /><use xlink:href=\"#white-pawn\" transform=\"translate(335.000000, 290.000000) scale(1.000000 1.000000)\" /><rect x=\"20.000000\" y=\"245.000000\" class=\"square dark a3\" width=\"45.000000\" height=\"45.000000\" style=\"stroke: none;\" /><rect x=\"65.000000\" y=\"245.000000\" class=\"square light b3\" width=\"45.000000\" height=\"45.000000\" style=\"stroke: none;\" /><use xlink:href=\"#white-pawn\" transform=\"translate(65.000000, 245.000000) scale(1.000000 1.000000)\" /><rect x=\"110.000000\" y=\"245.000000\" class=\"square dark c3\" width=\"45.000000\" height=\"45.000000\" style=\"stroke: none;\" /><rect x=\"155.000000\" y=\"245.000000\" class=\"square light d3\" width=\"45.000000\" height=\"45.000000\" style=\"stroke: none;\" /><rect x=\"200.000000\" y=\"245.000000\" class=\"square dark e3\" width=\"45.000000\" height=\"45.000000\" style=\"stroke: none;\" /><rect x=\"245.000000\" y=\"245.000000\" class=\"square light f3\" width=\"45.000000\" height=\"45.000000\" style=\"stroke: none;\" /><rect x=\"290.000000\" y=\"245.000000\" class=\"square dark g3\" width=\"45.000000\" height=\"45.000000\" style=\"stroke: none;\" /><rect x=\"335.000000\" y=\"245.000000\" class=\"square light h3\" width=\"45.000000\" height=\"45.000000\" style=\"stroke: none;\" /><rect x=\"20.000000\" y=\"200.000000\" class=\"square light a4\" width=\"45.000000\" height=\"45.000000\" style=\"stroke: none;\" /><rect x=\"65.000000\" y=\"200.000000\" class=\"square dark b4\" width=\"45.000000\" height=\"45.000000\" style=\"stroke: none;\" /><use xlink:href=\"#black-pawn\" transform=\"translate(65.000000, 200.000000) scale(1.000000 1.000000)\" /><rect x=\"110.000000\" y=\"200.000000\" class=\"square light c4\" width=\"45.000000\" height=\"45.000000\" style=\"stroke: none;\" /><rect x=\"155.000000\" y=\"200.000000\" class=\"square dark d4\" width=\"45.000000\" height=\"45.000000\" style=\"stroke: none;\" /><rect x=\"200.000000\" y=\"200.000000\" class=\"square light e4\" width=\"45.000000\" height=\"45.000000\" style=\"stroke: none;\" /><rect x=\"245.000000\" y=\"200.000000\" class=\"square dark f4\" width=\"45.000000\" height=\"45.000000\" style=\"stroke: none;\" /><rect x=\"290.000000\" y=\"200.000000\" class=\"square light g4\" width=\"45.000000\" height=\"45.000000\" style=\"stroke: none;\" /><rect x=\"335.000000\" y=\"200.000000\" class=\"square dark h4\" width=\"45.000000\" height=\"45.000000\" style=\"stroke: none;\" /><rect x=\"20.000000\" y=\"155.000000\" class=\"square dark a5\" width=\"45.000000\" height=\"45.000000\" style=\"stroke: none;\" /><rect x=\"65.000000\" y=\"155.000000\" class=\"square light b5\" width=\"45.000000\" height=\"45.000000\" style=\"stroke: none;\" /><rect x=\"110.000000\" y=\"155.000000\" class=\"square dark c5\" width=\"45.000000\" height=\"45.000000\" style=\"stroke: none;\" /><rect x=\"155.000000\" y=\"155.000000\" class=\"square light d5\" width=\"45.000000\" height=\"45.000000\" style=\"stroke: none;\" /><rect x=\"200.000000\" y=\"155.000000\" class=\"square dark e5\" width=\"45.000000\" height=\"45.000000\" style=\"stroke: none;\" /><use xlink:href=\"#white-pawn\" transform=\"translate(200.000000, 155.000000) scale(1.000000 1.000000)\" /><rect x=\"245.000000\" y=\"155.000000\" class=\"square light f5\" width=\"45.000000\" height=\"45.000000\" style=\"stroke: none;\" /><rect x=\"290.000000\" y=\"155.000000\" class=\"square dark g5\" width=\"45.000000\" height=\"45.000000\" style=\"stroke: none;\" /><rect x=\"335.000000\" y=\"155.000000\" class=\"square light h5\" width=\"45.000000\" height=\"45.000000\" style=\"stroke: none;\" /><rect x=\"20.000000\" y=\"110.000000\" class=\"square light a6\" width=\"45.000000\" height=\"45.000000\" style=\"stroke: none;\" /><rect x=\"65.000000\" y=\"110.000000\" class=\"square dark b6\" width=\"45.000000\" height=\"45.000000\" style=\"stroke: none;\" /><rect x=\"110.000000\" y=\"110.000000\" class=\"square light c6\" width=\"45.000000\" height=\"45.000000\" style=\"stroke: none;\" /><rect x=\"155.000000\" y=\"110.000000\" class=\"square dark d6\" width=\"45.000000\" height=\"45.000000\" style=\"stroke: none;\" /><rect x=\"200.000000\" y=\"110.000000\" class=\"square light e6\" width=\"45.000000\" height=\"45.000000\" style=\"stroke: none;\" /><use xlink:href=\"#white-pawn\" transform=\"translate(200.000000, 110.000000) scale(1.000000 1.000000)\" /><rect x=\"245.000000\" y=\"110.000000\" class=\"square dark f6\" width=\"45.000000\" height=\"45.000000\" style=\"stroke: none;\" /><rect x=\"290.000000\" y=\"110.000000\" class=\"square light g6\" width=\"45.000000\" height=\"45.000000\" style=\"stroke: none;\" /><use xlink:href=\"#black-pawn\" transform=\"translate(290.000000, 110.000000) scale(1.000000 1.000000)\" /><rect x=\"335.000000\" y=\"110.000000\" class=\"square dark h6\" width=\"45.000000\" height=\"45.000000\" style=\"stroke: none;\" /><use xlink:href=\"#white-queen\" transform=\"translate(335.000000, 110.000000) scale(1.000000 1.000000)\" /><rect x=\"20.000000\" y=\"65.000000\" class=\"square dark a7\" width=\"45.000000\" height=\"45.000000\" style=\"stroke: none;\" /><rect x=\"65.000000\" y=\"65.000000\" class=\"square light b7\" width=\"45.000000\" height=\"45.000000\" style=\"stroke: none;\" /><rect x=\"110.000000\" y=\"65.000000\" class=\"square dark c7\" width=\"45.000000\" height=\"45.000000\" style=\"stroke: none;\" /><rect x=\"155.000000\" y=\"65.000000\" class=\"square light d7\" width=\"45.000000\" height=\"45.000000\" style=\"stroke: none;\" /><rect x=\"200.000000\" y=\"65.000000\" class=\"square dark e7\" width=\"45.000000\" height=\"45.000000\" style=\"stroke: none;\" /><rect x=\"245.000000\" y=\"65.000000\" class=\"square light f7\" width=\"45.000000\" height=\"45.000000\" style=\"stroke: none;\" /><use xlink:href=\"#white-rook\" transform=\"translate(245.000000, 65.000000) scale(1.000000 1.000000)\" /><rect x=\"290.000000\" y=\"65.000000\" class=\"square dark g7\" width=\"45.000000\" height=\"45.000000\" style=\"stroke: none;\" /><rect x=\"335.000000\" y=\"65.000000\" class=\"square light h7\" width=\"45.000000\" height=\"45.000000\" style=\"stroke: none;\" /><use xlink:href=\"#black-pawn\" transform=\"translate(335.000000, 65.000000) scale(1.000000 1.000000)\" /><rect x=\"20.000000\" y=\"20.000000\" class=\"square light a8\" width=\"45.000000\" height=\"45.000000\" style=\"stroke: none;\" /><rect x=\"65.000000\" y=\"20.000000\" class=\"square dark b8\" width=\"45.000000\" height=\"45.000000\" style=\"stroke: none;\" /><rect x=\"110.000000\" y=\"20.000000\" class=\"square light c8\" width=\"45.000000\" height=\"45.000000\" style=\"stroke: none;\" /><rect x=\"155.000000\" y=\"20.000000\" class=\"square dark d8\" width=\"45.000000\" height=\"45.000000\" style=\"stroke: none;\" /><rect x=\"200.000000\" y=\"20.000000\" class=\"square light e8\" width=\"45.000000\" height=\"45.000000\" style=\"stroke: none;\" /><rect x=\"245.000000\" y=\"20.000000\" class=\"square dark f8\" width=\"45.000000\" height=\"45.000000\" style=\"stroke: none;\" /><rect x=\"290.000000\" y=\"20.000000\" class=\"square light g8\" width=\"45.000000\" height=\"45.000000\" style=\"stroke: none;\" /><use xlink:href=\"#black-king\" transform=\"translate(290.000000, 20.000000) scale(1.000000 1.000000)\" /><rect x=\"335.000000\" y=\"20.000000\" class=\"square dark h8\" width=\"45.000000\" height=\"45.000000\" style=\"stroke: none;\" /><text x=\"42\" y=\"10\" text-anchor=\"middle\" alignment-baseline=\"middle\" font-size=\"14\">a</text><text x=\"42\" y=\"390\" text-anchor=\"middle\" alignment-baseline=\"middle\" font-size=\"14\">a</text><text x=\"87\" y=\"10\" text-anchor=\"middle\" alignment-baseline=\"middle\" font-size=\"14\">b</text><text x=\"87\" y=\"390\" text-anchor=\"middle\" alignment-baseline=\"middle\" font-size=\"14\">b</text><text x=\"132\" y=\"10\" text-anchor=\"middle\" alignment-baseline=\"middle\" font-size=\"14\">c</text><text x=\"132\" y=\"390\" text-anchor=\"middle\" alignment-baseline=\"middle\" font-size=\"14\">c</text><text x=\"177\" y=\"10\" text-anchor=\"middle\" alignment-baseline=\"middle\" font-size=\"14\">d</text><text x=\"177\" y=\"390\" text-anchor=\"middle\" alignment-baseline=\"middle\" font-size=\"14\">d</text><text x=\"222\" y=\"10\" text-anchor=\"middle\" alignment-baseline=\"middle\" font-size=\"14\">e</text><text x=\"222\" y=\"390\" text-anchor=\"middle\" alignment-baseline=\"middle\" font-size=\"14\">e</text><text x=\"267\" y=\"10\" text-anchor=\"middle\" alignment-baseline=\"middle\" font-size=\"14\">f</text><text x=\"267\" y=\"390\" text-anchor=\"middle\" alignment-baseline=\"middle\" font-size=\"14\">f</text><text x=\"312\" y=\"10\" text-anchor=\"middle\" alignment-baseline=\"middle\" font-size=\"14\">g</text><text x=\"312\" y=\"390\" text-anchor=\"middle\" alignment-baseline=\"middle\" font-size=\"14\">g</text><text x=\"357\" y=\"10\" text-anchor=\"middle\" alignment-baseline=\"middle\" font-size=\"14\">h</text><text x=\"357\" y=\"390\" text-anchor=\"middle\" alignment-baseline=\"middle\" font-size=\"14\">h</text><text x=\"10\" y=\"357\" text-anchor=\"middle\" alignment-baseline=\"middle\" font-size=\"14\">1</text><text x=\"390\" y=\"357\" text-anchor=\"middle\" alignment-baseline=\"middle\" font-size=\"14\">1</text><text x=\"10\" y=\"312\" text-anchor=\"middle\" alignment-baseline=\"middle\" font-size=\"14\">2</text><text x=\"390\" y=\"312\" text-anchor=\"middle\" alignment-baseline=\"middle\" font-size=\"14\">2</text><text x=\"10\" y=\"267\" text-anchor=\"middle\" alignment-baseline=\"middle\" font-size=\"14\">3</text><text x=\"390\" y=\"267\" text-anchor=\"middle\" alignment-baseline=\"middle\" font-size=\"14\">3</text><text x=\"10\" y=\"222\" text-anchor=\"middle\" alignment-baseline=\"middle\" font-size=\"14\">4</text><text x=\"390\" y=\"222\" text-anchor=\"middle\" alignment-baseline=\"middle\" font-size=\"14\">4</text><text x=\"10\" y=\"177\" text-anchor=\"middle\" alignment-baseline=\"middle\" font-size=\"14\">5</text><text x=\"390\" y=\"177\" text-anchor=\"middle\" alignment-baseline=\"middle\" font-size=\"14\">5</text><text x=\"10\" y=\"132\" text-anchor=\"middle\" alignment-baseline=\"middle\" font-size=\"14\">6</text><text x=\"390\" y=\"132\" text-anchor=\"middle\" alignment-baseline=\"middle\" font-size=\"14\">6</text><text x=\"10\" y=\"87\" text-anchor=\"middle\" alignment-baseline=\"middle\" font-size=\"14\">7</text><text x=\"390\" y=\"87\" text-anchor=\"middle\" alignment-baseline=\"middle\" font-size=\"14\">7</text><text x=\"10\" y=\"42\" text-anchor=\"middle\" alignment-baseline=\"middle\" font-size=\"14\">8</text><text x=\"390\" y=\"42\" text-anchor=\"middle\" alignment-baseline=\"middle\" font-size=\"14\">8</text></svg>"
      ],
      "text/plain": [
       "Board('6k1/5R1p/4P1pQ/4P3/1p6/1P6/4K1PP/B7 w - - 15 48')"
      ]
     },
     "execution_count": 3,
     "metadata": {},
     "output_type": "execute_result"
    }
   ],
   "source": [
    "board.set_fen('6k1/5R1p/4P1pQ/4P3/1p6/1P6/4K1PP/B7 w - - 15 48')\n",
    "board"
   ]
  },
  {
   "cell_type": "code",
   "execution_count": 4,
   "metadata": {
    "collapsed": false
   },
   "outputs": [
    {
     "name": "stdout",
     "output_type": "stream",
     "text": [
      "a1b2 1\n",
      "a1c3 1\n",
      "a1d4 1\n",
      "e2d1 1\n",
      "e2e1 1\n",
      "e2f1 1\n",
      "e2d2 1\n",
      "e2f2 1\n",
      "e2d3 1\n",
      "e2e3 1\n",
      "e2f3 1\n",
      "h6c1 1\n",
      "h6d2 1\n",
      "h6e3 0.692266106606\n",
      "h6h3 0.602216660976\n",
      "h6f4 0.679177880287\n",
      "h6h4 1\n",
      "h6g5 1\n",
      "h6h5 0.612906813622\n",
      "h6g6 0.655970990658\n",
      "h6g7 2\n",
      "h6h7 2\n",
      "h6f8 2\n",
      "f7f1 1\n",
      "f7f2 1\n",
      "f7f3 1\n",
      "f7f4 1\n",
      "f7f5 0.661066412926\n",
      "f7f6 1\n",
      "f7a7 1\n",
      "f7b7 1\n",
      "f7c7 1\n",
      "f7d7 1\n",
      "f7e7 1\n",
      "f7g7 0.747065961361\n",
      "f7h7 1\n",
      "f7f8 2\n",
      "g2g3 1\n",
      "h2h3 1\n",
      "e6e7 0.668849349022\n",
      "g2g4 1\n",
      "h2h4 1\n"
     ]
    },
    {
     "data": {
      "text/plain": [
       "Move.from_uci('h6g7')"
      ]
     },
     "execution_count": 4,
     "metadata": {},
     "output_type": "execute_result"
    }
   ],
   "source": [
    "chessbot.best_move(board)"
   ]
  },
  {
   "cell_type": "code",
   "execution_count": 3,
   "metadata": {
    "collapsed": false
   },
   "outputs": [
    {
     "name": "stdout",
     "output_type": "stream",
     "text": [
      "0.307213664055 b2b4\n",
      "0.383862912655 g2g4\n",
      "0.387655079365 c1a3\n",
      "0.38806951046 b1c3\n",
      "0.412610948086 d1c1\n",
      "0.408021748066 a1b1\n",
      "0.410083651543 e1d1\n",
      "0.416282773018 f1h3\n",
      "0.415082931519 c1b2\n",
      "0.425122797489 g1h3\n",
      "0.44825142622 c3d5\n",
      "0.493553519249 d5e7\n",
      "0.539814442396 b2a1\n",
      "0.484451711178 e7c8\n",
      "0.476978778839 a1c3\n",
      "0.466970801353 h1f1\n",
      "0.47052282095 c3e3\n",
      "0.533553421497 c2c4\n",
      "0.656247138977 d1c1\n",
      "0.695570707321 f1e1\n",
      "0.507902234793 d2d4\n",
      "0.594563633204 f2f4\n",
      "0.561976760626 c1c2\n",
      "0.561976760626 d4e5\n",
      "0.611976116896 e3c3\n",
      "0.640153229237 b1d1\n",
      "0.611976116896 d1b1\n",
      "0.640153229237 b1d1\n",
      "0.611976116896 d1b1\n",
      "0.627905398607 c2c1\n",
      "0.649122625589 c1d1\n",
      "0.629109114408 d1c2\n",
      "0.640641629696 b1c1\n",
      "0.659346759319 b4b5\n",
      "0.595338374376 a3b4\n",
      "0.636589378119 b4f8\n",
      "0.64666312933 c3b4\n",
      "0.67239266634 e1h1\n",
      "0.703304111958 c2d3\n",
      "0.656726032495 d3d2\n",
      "0.745820760727 c1a1\n",
      "0.672905653715 d2e1\n",
      "0.547860085964 b5c6\n",
      "0.548387229443 b4b5\n",
      "0.501981496811 e2e4\n",
      "0.509034901857 a1d1\n",
      "0.538191616535 d1d4\n",
      "1 d4d7\n",
      "3 b5c6\n",
      "1-0 97\n"
     ]
    }
   ],
   "source": [
    "while not board.is_game_over():\n",
    "    if board.turn == chess.WHITE:\n",
    "        board.push(chessbot.best_move(board))\n",
    "        #board.push(trainer.best_move(board, filter=True))\n",
    "    else:\n",
    "        board.push(trainer.best_move(board, filter=True))\n",
    "        #board.push(chessbot.best_move(board))\n",
    "print(board.result(), len(board.move_stack))"
   ]
  },
  {
   "cell_type": "code",
   "execution_count": 4,
   "metadata": {
    "collapsed": true
   },
   "outputs": [],
   "source": [
    "board.reset()"
   ]
  },
  {
   "cell_type": "code",
   "execution_count": 4,
   "metadata": {
    "collapsed": false
   },
   "outputs": [
    {
     "name": "stdout",
     "output_type": "stream",
     "text": [
      "0.307213664055 b2b4\n",
      "0.380905747414 b1c3\n",
      "0.443226635456 c3d5\n",
      "0.410638928413 e2e3\n",
      "0.607434004545 c2c4\n",
      "0.411491036415 h2h3\n",
      "0.493035495281 d2d3\n",
      "0.438416838646 g2g3\n",
      "0.386079967022 c1a3\n",
      "0.449384331703 f1e2\n",
      "0.472164273262 d1a4\n",
      "0.472035586834 a3c1\n",
      "0.420866250992 e1f1\n",
      "0.47770345211 c1a3\n",
      "0.385255932808 f2f4\n",
      "0.448199808598 e2d1\n",
      "0.48087978363 f1e2\n",
      "0.456650972366 c4c5\n",
      "0.342731058598 e2f3\n",
      "0.401246190071 f4e5\n",
      "0.390589118004 e5e6\n",
      "0.372126162052 g1e2\n",
      "0.382726371288 e2f4\n",
      "0.380978226662 h1b1\n",
      "0.323704183102 f3g2\n",
      "0.328642606735 g2h2\n",
      "0.312074124813 h2h1\n",
      "-1 h1g1\n",
      "0.184746265411 c7c5\n",
      "0.705629348755 b8c6\n",
      "0.73012766242 g8h6\n",
      "0.759221673012 g7g6\n",
      "0.633243322372 d7d6\n",
      "0.790860280395 e7e6\n",
      "0.751195162535 f8g7\n",
      "0.848995760083 c8d7\n",
      "0.616432338953 c6d4\n",
      "0.620995432138 g6g5\n",
      "0.392709493637 d8a5\n",
      "0.399245977402 f7e6\n",
      "0.461434960365 g7e5\n",
      "0.342365920544 a8c8\n",
      "0.448373496532 h8g8\n",
      "0.353694021702 e8e7\n",
      "0.375747084618 g8g6\n",
      "0.285457611084 g6g7\n",
      "0.259707510471 d7f5\n",
      "0.428008258343 g7g5\n",
      "0.367579460144 b7b6\n",
      "0.352880597115 a7a5\n",
      "0.309293568134 e7e6\n",
      "0.379255771637 e5c3\n",
      "0.312619268894 e6d7\n",
      "0.278860867023 g5h5\n",
      "0.293350160122 h5g5\n",
      "0.304224193096 g5d5\n",
      "0.261495709419 d7e7\n",
      "0.279346346855 e7f6\n",
      "0.262917280197 f6g6\n",
      "-1 g6f6\n",
      "0.184746265411 c7c5\n",
      "0.705629348755 b8c6\n",
      "0.73012766242 g8h6\n",
      "0.759221673012 g7g6\n",
      "0.633243322372 d7d6\n",
      "0.780538111925 f8g7\n",
      "0.528386741877 e8g8\n",
      "0.714299917221 c8h3\n",
      "0.650296896696 a7a6\n",
      "0.429610788822 f8e8\n",
      "0.478145480156 a8b8\n",
      "0.419868052006 g8f8\n",
      "0.375052750111 h6f7\n",
      "0.384958446026 d8d7\n",
      "0.354070961475 g7c3\n",
      "0.359950602055 h7h6\n",
      "0.240134835243 h6g5\n",
      "0.235860228539 b8d8\n",
      "0.259273052216 d6d5\n",
      "0.231304943562 d8d6\n",
      "0.20394307375 f8e8\n",
      "0.202693939209 a6a5\n",
      "0.192374527454 e8d8\n",
      "0.259871184826 d8c7\n",
      "0.164473056793 c7b6\n",
      "0.136355996132 b6a6\n",
      "0.0360318422318 b7b5\n",
      "-1 a6a5\n",
      "0.307213664055 b2b4\n",
      "0.380905747414 b1c3\n",
      "0.443226635456 c3d5\n",
      "0.410638928413 e2e3\n",
      "0.607434004545 c2c4\n",
      "0.411491036415 h2h3\n",
      "0.493035495281 d2d3\n",
      "0.438416838646 g2g3\n",
      "0.386079967022 c1a3\n",
      "0.449384331703 f1e2\n",
      "0.472164273262 d1a4\n",
      "0.472035586834 a3c1\n",
      "0.420866250992 e1f1\n",
      "0.47770345211 c1a3\n",
      "0.385255932808 f2f4\n",
      "0.448199808598 e2d1\n",
      "0.48087978363 f1e2\n",
      "0.456650972366 c4c5\n",
      "0.342731058598 e2f3\n",
      "0.401246190071 f4e5\n",
      "0.390589118004 e5e6\n",
      "0.372126162052 g1e2\n",
      "0.382726371288 e2f4\n",
      "0.380978226662 h1b1\n",
      "0.323704183102 f3g2\n",
      "0.328642606735 g2h2\n",
      "0.312074124813 h2h1\n",
      "-1 h1g1\n",
      "0.307213664055 b2b4\n",
      "0.380905747414 b1c3\n",
      "0.443226635456 c3d5\n",
      "0.410638928413 e2e3\n",
      "0.607434004545 c2c4\n",
      "0.411491036415 h2h3\n",
      "0.493035495281 d2d3\n",
      "0.438416838646 g2g3\n",
      "0.386079967022 c1a3\n",
      "0.449384331703 f1e2\n",
      "0.472164273262 d1a4\n",
      "0.472035586834 a3c1\n",
      "0.420866250992 e1f1\n",
      "0.47770345211 c1a3\n",
      "0.385255932808 f2f4\n",
      "0.448199808598 e2d1\n",
      "0.48087978363 f1e2\n",
      "0.456650972366 c4c5\n",
      "0.342731058598 e2f3\n",
      "0.401246190071 f4e5\n",
      "0.390589118004 e5e6\n",
      "0.372126162052 g1e2\n",
      "0.382726371288 e2f4\n",
      "0.380978226662 h1b1\n",
      "0.323704183102 f3g2\n",
      "0.328642606735 g2h2\n",
      "0.312074124813 h2h1\n",
      "-1 h1g1\n",
      "0.307213664055 b2b4\n",
      "0.380905747414 b1c3\n",
      "0.443226635456 c3d5\n",
      "0.410638928413 e2e3\n",
      "0.607434004545 c2c4\n",
      "0.411491036415 h2h3\n",
      "0.493035495281 d2d3\n",
      "0.438416838646 g2g3\n",
      "0.386079967022 c1a3\n",
      "0.449384331703 f1e2\n",
      "0.472164273262 d1a4\n",
      "0.472035586834 a3c1\n",
      "0.420866250992 e1f1\n",
      "0.47770345211 c1a3\n",
      "0.385255932808 f2f4\n",
      "0.448199808598 e2d1\n",
      "0.48087978363 f1e2\n",
      "0.456650972366 c4c5\n",
      "0.342731058598 e2f3\n",
      "0.401246190071 f4e5\n",
      "0.390589118004 e5e6\n",
      "0.372126162052 g1e2\n",
      "0.382726371288 e2f4\n",
      "0.380978226662 h1b1\n",
      "0.323704183102 f3g2\n",
      "0.328642606735 g2h2\n",
      "0.312074124813 h2h1\n",
      "-1 h1g1\n",
      "0.184746265411 c7c5\n",
      "0.705629348755 b8c6\n",
      "0.73012766242 g8h6\n",
      "0.759221673012 g7g6\n",
      "0.633243322372 d7d6\n",
      "0.780538111925 f8g7\n",
      "0.528386741877 e8g8\n",
      "0.714299917221 c8h3\n",
      "0.650296896696 a7a6\n",
      "0.659187197685 e7e5\n",
      "0.545724987984 d8d7\n",
      "0.510782778263 d7g4\n",
      "0.432587146759 g6g5\n",
      "0.460837841034 a8d8\n",
      "0.46274805069 b7b5\n",
      "0.405145466328 g7b2\n",
      "0.524046301842 g8h8\n",
      "0.425358355045 c6d4\n",
      "0.351310133934 f8e8\n",
      "0.328013777733 e8d8\n",
      "0.283144295216 d8d7\n",
      "0.190059423447 b2g7\n",
      "-1 g7f8\n",
      "0.307213664055 b2b4\n",
      "0.380905747414 b1c3\n",
      "0.443226635456 c3d5\n",
      "0.410638928413 e2e3\n",
      "0.607434004545 c2c4\n",
      "0.411491036415 h2h3\n",
      "0.493035495281 d2d3\n",
      "0.438416838646 g2g3\n",
      "0.386079967022 c1a3\n",
      "0.449384331703 f1e2\n",
      "0.472164273262 d1a4\n",
      "0.472035586834 a3c1\n",
      "0.420866250992 e1f1\n",
      "0.47770345211 c1a3\n",
      "0.385255932808 f2f4\n",
      "0.448199808598 e2d1\n",
      "0.48087978363 f1e2\n",
      "0.456650972366 c4c5\n",
      "0.342731058598 e2f3\n",
      "0.401246190071 f4e5\n",
      "0.390589118004 e5e6\n",
      "0.372126162052 g1e2\n",
      "0.382726371288 e2f4\n",
      "0.380978226662 h1b1\n",
      "0.323704183102 f3g2\n",
      "0.328642606735 g2h2\n",
      "0.312074124813 h2h1\n",
      "-1 h1g1\n",
      "0.184746265411 c7c5\n",
      "0.705629348755 b8c6\n",
      "0.73012766242 g8h6\n",
      "0.759221673012 g7g6\n",
      "0.633243322372 d7d6\n",
      "0.780538111925 f8g7\n",
      "0.528386741877 e8g8\n",
      "0.714299917221 c8h3\n",
      "0.650296896696 a7a6\n",
      "0.429610788822 f8e8\n",
      "0.478145480156 a8b8\n",
      "0.419868052006 g8f8\n",
      "0.375052750111 h6f7\n",
      "0.384958446026 d8d7\n",
      "0.354070961475 g7c3\n",
      "0.359950602055 h7h6\n",
      "0.240134835243 h6g5\n",
      "0.235860228539 b8d8\n",
      "0.259273052216 d6d5\n",
      "0.231304943562 d8d6\n",
      "0.20394307375 f8e8\n",
      "0.202693939209 a6a5\n",
      "0.192374527454 e8d8\n",
      "0.259871184826 d8c7\n",
      "0.164473056793 c7b6\n",
      "0.136355996132 b6a6\n",
      "0.0360318422318 b7b5\n",
      "-1 a6a5\n",
      "0.184746265411 c7c5\n",
      "0.705629348755 b8c6\n",
      "0.73012766242 g8h6\n",
      "0.759221673012 g7g6\n",
      "0.633243322372 d7d6\n",
      "0.780538111925 f8g7\n",
      "0.528386741877 e8g8\n",
      "0.714299917221 c8h3\n",
      "0.650296896696 a7a6\n",
      "0.429610788822 f8e8\n",
      "0.478145480156 a8b8\n",
      "0.419868052006 g8f8\n",
      "0.375052750111 h6f7\n",
      "0.384958446026 d8d7\n",
      "0.354070961475 g7c3\n",
      "0.359950602055 h7h6\n",
      "0.240134835243 h6g5\n",
      "0.235860228539 b8d8\n",
      "0.259273052216 d6d5\n",
      "0.231304943562 d8d6\n",
      "0.20394307375 f8e8\n",
      "0.202693939209 a6a5\n",
      "0.215045213699 a5a4\n",
      "-1 e8d8\n",
      "0.0\n"
     ]
    }
   ],
   "source": [
    "print(trainer.test_winrate())"
   ]
  },
  {
   "cell_type": "code",
   "execution_count": 2,
   "metadata": {
    "collapsed": false
   },
   "outputs": [
    {
     "name": "stderr",
     "output_type": "stream",
     "text": [
      "Using TensorFlow backend.\n"
     ]
    }
   ],
   "source": [
    "import chess\n",
    "from trainer import Trainer\n",
    "\n",
    "trainer = Trainer()"
   ]
  },
  {
   "cell_type": "code",
   "execution_count": 5,
   "metadata": {
    "collapsed": false
   },
   "outputs": [],
   "source": [
    "board, won = trainer.play_vs_sunfish(eval=True)"
   ]
  },
  {
   "cell_type": "code",
   "execution_count": 6,
   "metadata": {
    "collapsed": false
   },
   "outputs": [
    {
     "name": "stdout",
     "output_type": "stream",
     "text": [
      "False\n"
     ]
    }
   ],
   "source": [
    "print(won)"
   ]
  },
  {
   "cell_type": "code",
   "execution_count": 4,
   "metadata": {
    "collapsed": true
   },
   "outputs": [],
   "source": [
    "temp_board = chess.Board()\n",
    "move_num = 0"
   ]
  },
  {
   "cell_type": "code",
   "execution_count": 81,
   "metadata": {
    "collapsed": false,
    "scrolled": true
   },
   "outputs": [
    {
     "data": {
      "image/svg+xml": [
       "<svg xmlns=\"http://www.w3.org/2000/svg\" version=\"1.1\" xmlns:xlink=\"http://www.w3.org/1999/xlink\" width=\"400\" height=\"400\"><style>.square.light {\n",
       "  fill: #ffce9e;\n",
       "}\n",
       ".square.dark {\n",
       "  fill: #d18b47;\n",
       "}\n",
       "\n",
       ".square.dark.lastmove {\n",
       "  fill: #aaa23b;\n",
       "}\n",
       ".square.light.lastmove {\n",
       "  fill: #cdd16a;\n",
       "}\n",
       "\n",
       ".check {\n",
       "  fill: url(#check_gradient);\n",
       "}\n",
       "</style><defs><g id=\"white-pawn\" class=\"white pawn\"><path d=\"M22 9c-2.21 0-4 1.79-4 4 0 .89.29 1.71.78 2.38-1.95 1.12-3.28 3.21-3.28 5.62 0 2.03.94 3.84 2.41 5.03-3 1.06-7.41 5.55-7.41 13.47h23c0-7.92-4.41-12.41-7.41-13.47 1.47-1.19 2.41-3 2.41-5.03 0-2.41-1.33-4.5-3.28-5.62.49-.67.78-1.49.78-2.38 0-2.21-1.79-4-4-4z\" fill=\"#fff\" stroke=\"#000\" stroke-width=\"1.5\" stroke-linecap=\"round\"/></g><g id=\"white-queen\" class=\"white queen\" fill=\"#fff\" fill-rule=\"evenodd\" stroke=\"#000\" stroke-width=\"1.5\" stroke-linecap=\"round\" stroke-linejoin=\"round\"><path d=\"M8 12a2 2 0 1 1-4 0 2 2 0 1 1 4 0zM24.5 7.5a2 2 0 1 1-4 0 2 2 0 1 1 4 0zM41 12a2 2 0 1 1-4 0 2 2 0 1 1 4 0zM16 8.5a2 2 0 1 1-4 0 2 2 0 1 1 4 0zM33 9a2 2 0 1 1-4 0 2 2 0 1 1 4 0z\"/><path d=\"M9 26c8.5-1.5 21-1.5 27 0l2-12-7 11V11l-5.5 13.5-3-15-3 15-5.5-14V25L7 14l2 12zM9 26c0 2 1.5 2 2.5 4 1 1.5 1 1 .5 3.5-1.5 1-1.5 2.5-1.5 2.5-1.5 1.5.5 2.5.5 2.5 6.5 1 16.5 1 23 0 0 0 1.5-1 0-2.5 0 0 .5-1.5-1-2.5-.5-2.5-.5-2 .5-3.5 1-2 2.5-2 2.5-4-8.5-1.5-18.5-1.5-27 0z\" stroke-linecap=\"butt\"/><path d=\"M11.5 30c3.5-1 18.5-1 22 0M12 33.5c6-1 15-1 21 0\" fill=\"none\"/></g><g id=\"white-knight\" class=\"white knight\" fill=\"none\" fill-rule=\"evenodd\" stroke=\"#000\" stroke-width=\"1.5\" stroke-linecap=\"round\" stroke-linejoin=\"round\"><path d=\"M 22,10 C 32.5,11 38.5,18 38,39 L 15,39 C 15,30 25,32.5 23,18\" style=\"fill:#ffffff; stroke:#000000;\"/><path d=\"M 24,18 C 24.38,20.91 18.45,25.37 16,27 C 13,29 13.18,31.34 11,31 C 9.958,30.06 12.41,27.96 11,28 C 10,28 11.19,29.23 10,30 C 9,30 5.997,31 6,26 C 6,24 12,14 12,14 C 12,14 13.89,12.1 14,10.5 C 13.27,9.506 13.5,8.5 13.5,7.5 C 14.5,6.5 16.5,10 16.5,10 L 18.5,10 C 18.5,10 19.28,8.008 21,7 C 22,7 22,10 22,10\" style=\"fill:#ffffff; stroke:#000000;\"/><path d=\"M 9.5 25.5 A 0.5 0.5 0 1 1 8.5,25.5 A 0.5 0.5 0 1 1 9.5 25.5 z\" style=\"fill:#000000; stroke:#000000;\"/><path d=\"M 15 15.5 A 0.5 1.5 0 1 1 14,15.5 A 0.5 1.5 0 1 1 15 15.5 z\" transform=\"matrix(0.866,0.5,-0.5,0.866,9.693,-5.173)\" style=\"fill:#000000; stroke:#000000;\"/></g><g id=\"white-bishop\" class=\"white bishop\" fill=\"none\" fill-rule=\"evenodd\" stroke=\"#000\" stroke-width=\"1.5\" stroke-linecap=\"round\" stroke-linejoin=\"round\"><g fill=\"#fff\" stroke-linecap=\"butt\"><path d=\"M9 36c3.39-.97 10.11.43 13.5-2 3.39 2.43 10.11 1.03 13.5 2 0 0 1.65.54 3 2-.68.97-1.65.99-3 .5-3.39-.97-10.11.46-13.5-1-3.39 1.46-10.11.03-13.5 1-1.354.49-2.323.47-3-.5 1.354-1.94 3-2 3-2zM15 32c2.5 2.5 12.5 2.5 15 0 .5-1.5 0-2 0-2 0-2.5-2.5-4-2.5-4 5.5-1.5 6-11.5-5-15.5-11 4-10.5 14-5 15.5 0 0-2.5 1.5-2.5 4 0 0-.5.5 0 2zM25 8a2.5 2.5 0 1 1-5 0 2.5 2.5 0 1 1 5 0z\"/></g><path d=\"M17.5 26h10M15 30h15m-7.5-14.5v5M20 18h5\" stroke-linejoin=\"miter\"/></g><g id=\"black-bishop\" class=\"black bishop\" fill=\"none\" fill-rule=\"evenodd\" stroke=\"#000\" stroke-width=\"1.5\" stroke-linecap=\"round\" stroke-linejoin=\"round\"><path d=\"M9 36c3.39-.97 10.11.43 13.5-2 3.39 2.43 10.11 1.03 13.5 2 0 0 1.65.54 3 2-.68.97-1.65.99-3 .5-3.39-.97-10.11.46-13.5-1-3.39 1.46-10.11.03-13.5 1-1.354.49-2.323.47-3-.5 1.354-1.94 3-2 3-2zm6-4c2.5 2.5 12.5 2.5 15 0 .5-1.5 0-2 0-2 0-2.5-2.5-4-2.5-4 5.5-1.5 6-11.5-5-15.5-11 4-10.5 14-5 15.5 0 0-2.5 1.5-2.5 4 0 0-.5.5 0 2zM25 8a2.5 2.5 0 1 1-5 0 2.5 2.5 0 1 1 5 0z\" fill=\"#000\" stroke-linecap=\"butt\"/><path d=\"M17.5 26h10M15 30h15m-7.5-14.5v5M20 18h5\" stroke=\"#fff\" stroke-linejoin=\"miter\"/></g><g id=\"white-rook\" class=\"white rook\" fill=\"#fff\" fill-rule=\"evenodd\" stroke=\"#000\" stroke-width=\"1.5\" stroke-linecap=\"round\" stroke-linejoin=\"round\"><path d=\"M9 39h27v-3H9v3zM12 36v-4h21v4H12zM11 14V9h4v2h5V9h5v2h5V9h4v5\" stroke-linecap=\"butt\"/><path d=\"M34 14l-3 3H14l-3-3\"/><path d=\"M31 17v12.5H14V17\" stroke-linecap=\"butt\" stroke-linejoin=\"miter\"/><path d=\"M31 29.5l1.5 2.5h-20l1.5-2.5\"/><path d=\"M11 14h23\" fill=\"none\" stroke-linejoin=\"miter\"/></g><g id=\"white-king\" class=\"white king\" fill=\"none\" fill-rule=\"evenodd\" stroke=\"#000\" stroke-width=\"1.5\" stroke-linecap=\"round\" stroke-linejoin=\"round\"><path d=\"M22.5 11.63V6M20 8h5\" stroke-linejoin=\"miter\"/><path d=\"M22.5 25s4.5-7.5 3-10.5c0 0-1-2.5-3-2.5s-3 2.5-3 2.5c-1.5 3 3 10.5 3 10.5\" fill=\"#fff\" stroke-linecap=\"butt\" stroke-linejoin=\"miter\"/><path d=\"M11.5 37c5.5 3.5 15.5 3.5 21 0v-7s9-4.5 6-10.5c-4-6.5-13.5-3.5-16 4V27v-3.5c-3.5-7.5-13-10.5-16-4-3 6 5 10 5 10V37z\" fill=\"#fff\"/><path d=\"M11.5 30c5.5-3 15.5-3 21 0m-21 3.5c5.5-3 15.5-3 21 0m-21 3.5c5.5-3 15.5-3 21 0\"/></g><g id=\"black-knight\" class=\"black knight\" fill=\"none\" fill-rule=\"evenodd\" stroke=\"#000\" stroke-width=\"1.5\" stroke-linecap=\"round\" stroke-linejoin=\"round\"><path d=\"M 22,10 C 32.5,11 38.5,18 38,39 L 15,39 C 15,30 25,32.5 23,18\" style=\"fill:#000000; stroke:#000000;\"/><path d=\"M 24,18 C 24.38,20.91 18.45,25.37 16,27 C 13,29 13.18,31.34 11,31 C 9.958,30.06 12.41,27.96 11,28 C 10,28 11.19,29.23 10,30 C 9,30 5.997,31 6,26 C 6,24 12,14 12,14 C 12,14 13.89,12.1 14,10.5 C 13.27,9.506 13.5,8.5 13.5,7.5 C 14.5,6.5 16.5,10 16.5,10 L 18.5,10 C 18.5,10 19.28,8.008 21,7 C 22,7 22,10 22,10\" style=\"fill:#000000; stroke:#000000;\"/><path d=\"M 9.5 25.5 A 0.5 0.5 0 1 1 8.5,25.5 A 0.5 0.5 0 1 1 9.5 25.5 z\" style=\"fill:#ececec; stroke:#ececec;\"/><path d=\"M 15 15.5 A 0.5 1.5 0 1 1 14,15.5 A 0.5 1.5 0 1 1 15 15.5 z\" transform=\"matrix(0.866,0.5,-0.5,0.866,9.693,-5.173)\" style=\"fill:#ececec; stroke:#ececec;\"/><path d=\"M 24.55,10.4 L 24.1,11.85 L 24.6,12 C 27.75,13 30.25,14.49 32.5,18.75 C 34.75,23.01 35.75,29.06 35.25,39 L 35.2,39.5 L 37.45,39.5 L 37.5,39 C 38,28.94 36.62,22.15 34.25,17.66 C 31.88,13.17 28.46,11.02 25.06,10.5 L 24.55,10.4 z \" style=\"fill:#ececec; stroke:none;\"/></g><g id=\"black-king\" class=\"black king\" fill=\"none\" fill-rule=\"evenodd\" stroke=\"#000\" stroke-width=\"1.5\" stroke-linecap=\"round\" stroke-linejoin=\"round\"><path d=\"M22.5 11.63V6\" stroke-linejoin=\"miter\"/><path d=\"M22.5 25s4.5-7.5 3-10.5c0 0-1-2.5-3-2.5s-3 2.5-3 2.5c-1.5 3 3 10.5 3 10.5\" fill=\"#000\" stroke-linecap=\"butt\" stroke-linejoin=\"miter\"/><path d=\"M11.5 37c5.5 3.5 15.5 3.5 21 0v-7s9-4.5 6-10.5c-4-6.5-13.5-3.5-16 4V27v-3.5c-3.5-7.5-13-10.5-16-4-3 6 5 10 5 10V37z\" fill=\"#000\"/><path d=\"M20 8h5\" stroke-linejoin=\"miter\"/><path d=\"M32 29.5s8.5-4 6.03-9.65C34.15 14 25 18 22.5 24.5l.01 2.1-.01-2.1C20 18 9.906 14 6.997 19.85c-2.497 5.65 4.853 9 4.853 9M11.5 30c5.5-3 15.5-3 21 0m-21 3.5c5.5-3 15.5-3 21 0m-21 3.5c5.5-3 15.5-3 21 0\" stroke=\"#fff\"/></g><g id=\"black-pawn\" class=\"black pawn\"><path d=\"M22 9c-2.21 0-4 1.79-4 4 0 .89.29 1.71.78 2.38-1.95 1.12-3.28 3.21-3.28 5.62 0 2.03.94 3.84 2.41 5.03-3 1.06-7.41 5.55-7.41 13.47h23c0-7.92-4.41-12.41-7.41-13.47 1.47-1.19 2.41-3 2.41-5.03 0-2.41-1.33-4.5-3.28-5.62.49-.67.78-1.49.78-2.38 0-2.21-1.79-4-4-4z\" stroke=\"#000\" stroke-width=\"1.5\" stroke-linecap=\"round\"/></g><g id=\"black-queen\" class=\"black-queen\" fill=\"0\" fill-rule=\"evenodd\" stroke=\"#000\" stroke-width=\"1.5\" stroke-linecap=\"round\" stroke-linejoin=\"round\"><g fill=\"#000\" stroke=\"none\"><circle cx=\"6\" cy=\"12\" r=\"2.75\"/><circle cx=\"14\" cy=\"9\" r=\"2.75\"/><circle cx=\"22.5\" cy=\"8\" r=\"2.75\"/><circle cx=\"31\" cy=\"9\" r=\"2.75\"/><circle cx=\"39\" cy=\"12\" r=\"2.75\"/></g><path d=\"M9 26c8.5-1.5 21-1.5 27 0l2.5-12.5L31 25l-.3-14.1-5.2 13.6-3-14.5-3 14.5-5.2-13.6L14 25 6.5 13.5 9 26zM9 26c0 2 1.5 2 2.5 4 1 1.5 1 1 .5 3.5-1.5 1-1.5 2.5-1.5 2.5-1.5 1.5.5 2.5.5 2.5 6.5 1 16.5 1 23 0 0 0 1.5-1 0-2.5 0 0 .5-1.5-1-2.5-.5-2.5-.5-2 .5-3.5 1-2 2.5-2 2.5-4-8.5-1.5-18.5-1.5-27 0z\" stroke-linecap=\"butt\"/><path d=\"M11 38.5a35 35 1 0 0 23 0\" fill=\"none\" stroke-linecap=\"butt\"/><path d=\"M11 29a35 35 1 0 1 23 0M12.5 31.5h20M11.5 34.5a35 35 1 0 0 22 0M10.5 37.5a35 35 1 0 0 24 0\" fill=\"none\" stroke=\"#fff\"/></g><g id=\"black-rook\" class=\"black rook\" fill=\"0\" fill-rule=\"evenodd\" stroke=\"#000\" stroke-width=\"1.5\" stroke-linecap=\"round\" stroke-linejoin=\"round\"><path d=\"M9 39h27v-3H9v3zM12.5 32l1.5-2.5h17l1.5 2.5h-20zM12 36v-4h21v4H12z\" stroke-linecap=\"butt\"/><path d=\"M14 29.5v-13h17v13H14z\" stroke-linecap=\"butt\" stroke-linejoin=\"miter\"/><path d=\"M14 16.5L11 14h23l-3 2.5H14zM11 14V9h4v2h5V9h5v2h5V9h4v5H11z\" stroke-linecap=\"butt\"/><path d=\"M12 35.5h21M13 31.5h19M14 29.5h17M14 16.5h17M11 14h23\" fill=\"none\" stroke=\"#fff\" stroke-width=\"1\" stroke-linejoin=\"miter\"/></g></defs><rect x=\"20.000000\" y=\"335.000000\" class=\"square dark a1\" width=\"45.000000\" height=\"45.000000\" style=\"stroke: none;\" /><rect x=\"65.000000\" y=\"335.000000\" class=\"square light b1\" width=\"45.000000\" height=\"45.000000\" style=\"stroke: none;\" /><rect x=\"110.000000\" y=\"335.000000\" class=\"square dark c1\" width=\"45.000000\" height=\"45.000000\" style=\"stroke: none;\" /><rect x=\"155.000000\" y=\"335.000000\" class=\"square light d1\" width=\"45.000000\" height=\"45.000000\" style=\"stroke: none;\" /><rect x=\"200.000000\" y=\"335.000000\" class=\"square dark e1\" width=\"45.000000\" height=\"45.000000\" style=\"stroke: none;\" /><rect x=\"245.000000\" y=\"335.000000\" class=\"square light f1\" width=\"45.000000\" height=\"45.000000\" style=\"stroke: none;\" /><rect x=\"290.000000\" y=\"335.000000\" class=\"square dark g1\" width=\"45.000000\" height=\"45.000000\" style=\"stroke: none;\" /><use xlink:href=\"#white-king\" transform=\"translate(290.000000, 335.000000) scale(1.000000 1.000000)\" /><rect x=\"335.000000\" y=\"335.000000\" class=\"square light h1\" width=\"45.000000\" height=\"45.000000\" style=\"stroke: none;\" /><rect x=\"20.000000\" y=\"290.000000\" class=\"square light a2\" width=\"45.000000\" height=\"45.000000\" style=\"stroke: none;\" /><use xlink:href=\"#white-pawn\" transform=\"translate(20.000000, 290.000000) scale(1.000000 1.000000)\" /><rect x=\"65.000000\" y=\"290.000000\" class=\"square dark b2\" width=\"45.000000\" height=\"45.000000\" style=\"stroke: none;\" /><use xlink:href=\"#white-pawn\" transform=\"translate(65.000000, 290.000000) scale(1.000000 1.000000)\" /><rect x=\"110.000000\" y=\"290.000000\" class=\"square light c2\" width=\"45.000000\" height=\"45.000000\" style=\"stroke: none;\" /><rect x=\"155.000000\" y=\"290.000000\" class=\"square dark d2\" width=\"45.000000\" height=\"45.000000\" style=\"stroke: none;\" /><rect x=\"200.000000\" y=\"290.000000\" class=\"square light e2\" width=\"45.000000\" height=\"45.000000\" style=\"stroke: none;\" /><rect x=\"245.000000\" y=\"290.000000\" class=\"square dark f2\" width=\"45.000000\" height=\"45.000000\" style=\"stroke: none;\" /><use xlink:href=\"#white-pawn\" transform=\"translate(245.000000, 290.000000) scale(1.000000 1.000000)\" /><rect x=\"290.000000\" y=\"290.000000\" class=\"square light g2\" width=\"45.000000\" height=\"45.000000\" style=\"stroke: none;\" /><rect x=\"335.000000\" y=\"290.000000\" class=\"square dark h2\" width=\"45.000000\" height=\"45.000000\" style=\"stroke: none;\" /><rect x=\"20.000000\" y=\"245.000000\" class=\"square dark a3\" width=\"45.000000\" height=\"45.000000\" style=\"stroke: none;\" /><rect x=\"65.000000\" y=\"245.000000\" class=\"square light b3\" width=\"45.000000\" height=\"45.000000\" style=\"stroke: none;\" /><rect x=\"110.000000\" y=\"245.000000\" class=\"square dark c3\" width=\"45.000000\" height=\"45.000000\" style=\"stroke: none;\" /><rect x=\"155.000000\" y=\"245.000000\" class=\"square light d3\" width=\"45.000000\" height=\"45.000000\" style=\"stroke: none;\" /><rect x=\"200.000000\" y=\"245.000000\" class=\"square dark e3\" width=\"45.000000\" height=\"45.000000\" style=\"stroke: none;\" /><rect x=\"245.000000\" y=\"245.000000\" class=\"square light f3\" width=\"45.000000\" height=\"45.000000\" style=\"stroke: none;\" /><rect x=\"290.000000\" y=\"245.000000\" class=\"square dark g3\" width=\"45.000000\" height=\"45.000000\" style=\"stroke: none;\" /><rect x=\"335.000000\" y=\"245.000000\" class=\"square light h3\" width=\"45.000000\" height=\"45.000000\" style=\"stroke: none;\" /><rect x=\"20.000000\" y=\"200.000000\" class=\"square light a4\" width=\"45.000000\" height=\"45.000000\" style=\"stroke: none;\" /><use xlink:href=\"#white-pawn\" transform=\"translate(20.000000, 200.000000) scale(1.000000 1.000000)\" /><rect x=\"65.000000\" y=\"200.000000\" class=\"square dark b4\" width=\"45.000000\" height=\"45.000000\" style=\"stroke: none;\" /><rect x=\"110.000000\" y=\"200.000000\" class=\"square light c4\" width=\"45.000000\" height=\"45.000000\" style=\"stroke: none;\" /><use xlink:href=\"#white-knight\" transform=\"translate(110.000000, 200.000000) scale(1.000000 1.000000)\" /><rect x=\"155.000000\" y=\"200.000000\" class=\"square dark d4\" width=\"45.000000\" height=\"45.000000\" style=\"stroke: none;\" /><rect x=\"200.000000\" y=\"200.000000\" class=\"square light e4\" width=\"45.000000\" height=\"45.000000\" style=\"stroke: none;\" /><rect x=\"245.000000\" y=\"200.000000\" class=\"square dark f4 lastmove\" width=\"45.000000\" height=\"45.000000\" style=\"stroke: none;\" /><use xlink:href=\"#white-bishop\" transform=\"translate(245.000000, 200.000000) scale(1.000000 1.000000)\" /><rect x=\"290.000000\" y=\"200.000000\" class=\"square light g4\" width=\"45.000000\" height=\"45.000000\" style=\"stroke: none;\" /><rect x=\"335.000000\" y=\"200.000000\" class=\"square dark h4\" width=\"45.000000\" height=\"45.000000\" style=\"stroke: none;\" /><use xlink:href=\"#black-pawn\" transform=\"translate(335.000000, 200.000000) scale(1.000000 1.000000)\" /><rect x=\"20.000000\" y=\"155.000000\" class=\"square dark a5\" width=\"45.000000\" height=\"45.000000\" style=\"stroke: none;\" /><use xlink:href=\"#black-pawn\" transform=\"translate(20.000000, 155.000000) scale(1.000000 1.000000)\" /><rect x=\"65.000000\" y=\"155.000000\" class=\"square light b5\" width=\"45.000000\" height=\"45.000000\" style=\"stroke: none;\" /><rect x=\"110.000000\" y=\"155.000000\" class=\"square dark c5\" width=\"45.000000\" height=\"45.000000\" style=\"stroke: none;\" /><rect x=\"155.000000\" y=\"155.000000\" class=\"square light d5\" width=\"45.000000\" height=\"45.000000\" style=\"stroke: none;\" /><use xlink:href=\"#white-rook\" transform=\"translate(155.000000, 155.000000) scale(1.000000 1.000000)\" /><rect x=\"200.000000\" y=\"155.000000\" class=\"square dark e5 lastmove\" width=\"45.000000\" height=\"45.000000\" style=\"stroke: none;\" /><rect x=\"245.000000\" y=\"155.000000\" class=\"square light f5\" width=\"45.000000\" height=\"45.000000\" style=\"stroke: none;\" /><rect x=\"290.000000\" y=\"155.000000\" class=\"square dark g5\" width=\"45.000000\" height=\"45.000000\" style=\"stroke: none;\" /><rect x=\"335.000000\" y=\"155.000000\" class=\"square light h5\" width=\"45.000000\" height=\"45.000000\" style=\"stroke: none;\" /><rect x=\"20.000000\" y=\"110.000000\" class=\"square light a6\" width=\"45.000000\" height=\"45.000000\" style=\"stroke: none;\" /><rect x=\"65.000000\" y=\"110.000000\" class=\"square dark b6\" width=\"45.000000\" height=\"45.000000\" style=\"stroke: none;\" /><rect x=\"110.000000\" y=\"110.000000\" class=\"square light c6\" width=\"45.000000\" height=\"45.000000\" style=\"stroke: none;\" /><rect x=\"155.000000\" y=\"110.000000\" class=\"square dark d6\" width=\"45.000000\" height=\"45.000000\" style=\"stroke: none;\" /><rect x=\"200.000000\" y=\"110.000000\" class=\"square light e6\" width=\"45.000000\" height=\"45.000000\" style=\"stroke: none;\" /><rect x=\"245.000000\" y=\"110.000000\" class=\"square dark f6\" width=\"45.000000\" height=\"45.000000\" style=\"stroke: none;\" /><rect x=\"290.000000\" y=\"110.000000\" class=\"square light g6\" width=\"45.000000\" height=\"45.000000\" style=\"stroke: none;\" /><use xlink:href=\"#black-pawn\" transform=\"translate(290.000000, 110.000000) scale(1.000000 1.000000)\" /><rect x=\"335.000000\" y=\"110.000000\" class=\"square dark h6\" width=\"45.000000\" height=\"45.000000\" style=\"stroke: none;\" /><rect x=\"20.000000\" y=\"65.000000\" class=\"square dark a7\" width=\"45.000000\" height=\"45.000000\" style=\"stroke: none;\" /><rect x=\"65.000000\" y=\"65.000000\" class=\"square light b7\" width=\"45.000000\" height=\"45.000000\" style=\"stroke: none;\" /><use xlink:href=\"#black-king\" transform=\"translate(65.000000, 65.000000) scale(1.000000 1.000000)\" /><rect x=\"110.000000\" y=\"65.000000\" class=\"square dark c7\" width=\"45.000000\" height=\"45.000000\" style=\"stroke: none;\" /><rect x=\"155.000000\" y=\"65.000000\" class=\"square light d7\" width=\"45.000000\" height=\"45.000000\" style=\"stroke: none;\" /><rect x=\"200.000000\" y=\"65.000000\" class=\"square dark e7\" width=\"45.000000\" height=\"45.000000\" style=\"stroke: none;\" /><rect x=\"245.000000\" y=\"65.000000\" class=\"square light f7\" width=\"45.000000\" height=\"45.000000\" style=\"stroke: none;\" /><rect x=\"290.000000\" y=\"65.000000\" class=\"square dark g7\" width=\"45.000000\" height=\"45.000000\" style=\"stroke: none;\" /><rect x=\"335.000000\" y=\"65.000000\" class=\"square light h7\" width=\"45.000000\" height=\"45.000000\" style=\"stroke: none;\" /><rect x=\"20.000000\" y=\"20.000000\" class=\"square light a8\" width=\"45.000000\" height=\"45.000000\" style=\"stroke: none;\" /><rect x=\"65.000000\" y=\"20.000000\" class=\"square dark b8\" width=\"45.000000\" height=\"45.000000\" style=\"stroke: none;\" /><rect x=\"110.000000\" y=\"20.000000\" class=\"square light c8\" width=\"45.000000\" height=\"45.000000\" style=\"stroke: none;\" /><rect x=\"155.000000\" y=\"20.000000\" class=\"square dark d8\" width=\"45.000000\" height=\"45.000000\" style=\"stroke: none;\" /><rect x=\"200.000000\" y=\"20.000000\" class=\"square light e8\" width=\"45.000000\" height=\"45.000000\" style=\"stroke: none;\" /><rect x=\"245.000000\" y=\"20.000000\" class=\"square dark f8\" width=\"45.000000\" height=\"45.000000\" style=\"stroke: none;\" /><rect x=\"290.000000\" y=\"20.000000\" class=\"square light g8\" width=\"45.000000\" height=\"45.000000\" style=\"stroke: none;\" /><rect x=\"335.000000\" y=\"20.000000\" class=\"square dark h8\" width=\"45.000000\" height=\"45.000000\" style=\"stroke: none;\" /><text x=\"42\" y=\"10\" text-anchor=\"middle\" alignment-baseline=\"middle\" font-size=\"14\">a</text><text x=\"42\" y=\"390\" text-anchor=\"middle\" alignment-baseline=\"middle\" font-size=\"14\">a</text><text x=\"87\" y=\"10\" text-anchor=\"middle\" alignment-baseline=\"middle\" font-size=\"14\">b</text><text x=\"87\" y=\"390\" text-anchor=\"middle\" alignment-baseline=\"middle\" font-size=\"14\">b</text><text x=\"132\" y=\"10\" text-anchor=\"middle\" alignment-baseline=\"middle\" font-size=\"14\">c</text><text x=\"132\" y=\"390\" text-anchor=\"middle\" alignment-baseline=\"middle\" font-size=\"14\">c</text><text x=\"177\" y=\"10\" text-anchor=\"middle\" alignment-baseline=\"middle\" font-size=\"14\">d</text><text x=\"177\" y=\"390\" text-anchor=\"middle\" alignment-baseline=\"middle\" font-size=\"14\">d</text><text x=\"222\" y=\"10\" text-anchor=\"middle\" alignment-baseline=\"middle\" font-size=\"14\">e</text><text x=\"222\" y=\"390\" text-anchor=\"middle\" alignment-baseline=\"middle\" font-size=\"14\">e</text><text x=\"267\" y=\"10\" text-anchor=\"middle\" alignment-baseline=\"middle\" font-size=\"14\">f</text><text x=\"267\" y=\"390\" text-anchor=\"middle\" alignment-baseline=\"middle\" font-size=\"14\">f</text><text x=\"312\" y=\"10\" text-anchor=\"middle\" alignment-baseline=\"middle\" font-size=\"14\">g</text><text x=\"312\" y=\"390\" text-anchor=\"middle\" alignment-baseline=\"middle\" font-size=\"14\">g</text><text x=\"357\" y=\"10\" text-anchor=\"middle\" alignment-baseline=\"middle\" font-size=\"14\">h</text><text x=\"357\" y=\"390\" text-anchor=\"middle\" alignment-baseline=\"middle\" font-size=\"14\">h</text><text x=\"10\" y=\"357\" text-anchor=\"middle\" alignment-baseline=\"middle\" font-size=\"14\">1</text><text x=\"390\" y=\"357\" text-anchor=\"middle\" alignment-baseline=\"middle\" font-size=\"14\">1</text><text x=\"10\" y=\"312\" text-anchor=\"middle\" alignment-baseline=\"middle\" font-size=\"14\">2</text><text x=\"390\" y=\"312\" text-anchor=\"middle\" alignment-baseline=\"middle\" font-size=\"14\">2</text><text x=\"10\" y=\"267\" text-anchor=\"middle\" alignment-baseline=\"middle\" font-size=\"14\">3</text><text x=\"390\" y=\"267\" text-anchor=\"middle\" alignment-baseline=\"middle\" font-size=\"14\">3</text><text x=\"10\" y=\"222\" text-anchor=\"middle\" alignment-baseline=\"middle\" font-size=\"14\">4</text><text x=\"390\" y=\"222\" text-anchor=\"middle\" alignment-baseline=\"middle\" font-size=\"14\">4</text><text x=\"10\" y=\"177\" text-anchor=\"middle\" alignment-baseline=\"middle\" font-size=\"14\">5</text><text x=\"390\" y=\"177\" text-anchor=\"middle\" alignment-baseline=\"middle\" font-size=\"14\">5</text><text x=\"10\" y=\"132\" text-anchor=\"middle\" alignment-baseline=\"middle\" font-size=\"14\">6</text><text x=\"390\" y=\"132\" text-anchor=\"middle\" alignment-baseline=\"middle\" font-size=\"14\">6</text><text x=\"10\" y=\"87\" text-anchor=\"middle\" alignment-baseline=\"middle\" font-size=\"14\">7</text><text x=\"390\" y=\"87\" text-anchor=\"middle\" alignment-baseline=\"middle\" font-size=\"14\">7</text><text x=\"10\" y=\"42\" text-anchor=\"middle\" alignment-baseline=\"middle\" font-size=\"14\">8</text><text x=\"390\" y=\"42\" text-anchor=\"middle\" alignment-baseline=\"middle\" font-size=\"14\">8</text></svg>"
      ],
      "text/plain": [
       "Board('8/1k6/6p1/p2R4/P1N2B1p/8/PP3P2/6K1 b - - 3 39')"
      ]
     },
     "execution_count": 81,
     "metadata": {},
     "output_type": "execute_result"
    }
   ],
   "source": [
    "if len(board.move_stack) > move_num:\n",
    "    temp_board.push(board.move_stack[move_num])\n",
    "    move_num += 1\n",
    "\n",
    "temp_board"
   ]
  },
  {
   "cell_type": "code",
   "execution_count": 5,
   "metadata": {
    "collapsed": false
   },
   "outputs": [],
   "source": [
    "file = open(\"ficsgamesdb_2016_standard2000_nomovetimes_1435145.pgn\")"
   ]
  },
  {
   "cell_type": "code",
   "execution_count": 6,
   "metadata": {
    "collapsed": false
   },
   "outputs": [],
   "source": [
    "game = chess.pgn.read_game(file)\n",
    "board = game.end().board()"
   ]
  },
  {
   "cell_type": "code",
   "execution_count": 7,
   "metadata": {
    "collapsed": false
   },
   "outputs": [
    {
     "data": {
      "text/plain": [
       "'0-1'"
      ]
     },
     "execution_count": 7,
     "metadata": {},
     "output_type": "execute_result"
    }
   ],
   "source": [
    "game.headers['Result']"
   ]
  },
  {
   "cell_type": "code",
   "execution_count": 8,
   "metadata": {
    "collapsed": false
   },
   "outputs": [
    {
     "name": "stdout",
     "output_type": "stream",
     "text": [
      "[[ 0.  1.]\n",
      " [ 1.  0.]\n",
      " [ 0.  1.]\n",
      " [ 1.  0.]\n",
      " [ 0.  1.]\n",
      " [ 1.  0.]\n",
      " [ 0.  1.]\n",
      " [ 1.  0.]\n",
      " [ 0.  1.]\n",
      " [ 1.  0.]\n",
      " [ 0.  1.]\n",
      " [ 1.  0.]\n",
      " [ 0.  1.]\n",
      " [ 1.  0.]\n",
      " [ 0.  1.]\n",
      " [ 1.  0.]\n",
      " [ 0.  1.]\n",
      " [ 1.  0.]\n",
      " [ 0.  1.]\n",
      " [ 1.  0.]\n",
      " [ 0.  1.]\n",
      " [ 1.  0.]\n",
      " [ 0.  1.]\n",
      " [ 1.  0.]\n",
      " [ 0.  1.]\n",
      " [ 1.  0.]\n",
      " [ 0.  1.]\n",
      " [ 1.  0.]\n",
      " [ 0.  1.]\n",
      " [ 1.  0.]\n",
      " [ 0.  1.]\n",
      " [ 1.  0.]\n",
      " [ 0.  1.]\n",
      " [ 1.  0.]\n",
      " [ 0.  1.]\n",
      " [ 1.  0.]\n",
      " [ 0.  1.]\n",
      " [ 1.  0.]\n",
      " [ 0.  1.]\n",
      " [ 1.  0.]\n",
      " [ 0.  1.]\n",
      " [ 1.  0.]\n",
      " [ 0.  1.]]\n"
     ]
    }
   ],
   "source": [
    "trainer.train_from_match(board, game.headers['Result'])"
   ]
  },
  {
   "cell_type": "code",
   "execution_count": 1,
   "metadata": {
    "collapsed": false
   },
   "outputs": [
    {
     "name": "stdout",
     "output_type": "stream",
     "text": [
      "D:\\Python\\chess\\src\n"
     ]
    }
   ],
   "source": [
    "cd src"
   ]
  },
  {
   "cell_type": "code",
   "execution_count": 2,
   "metadata": {
    "collapsed": false
   },
   "outputs": [
    {
     "name": "stderr",
     "output_type": "stream",
     "text": [
      "Using TensorFlow backend.\n"
     ]
    },
    {
     "name": "stdout",
     "output_type": "stream",
     "text": [
      "(None, 16512)\n"
     ]
    }
   ],
   "source": [
    "from model_conv import model"
   ]
  },
  {
   "cell_type": "code",
   "execution_count": 4,
   "metadata": {
    "collapsed": false
   },
   "outputs": [
    {
     "name": "stdout",
     "output_type": "stream",
     "text": [
      "r n b q k b . r\n",
      "p p p p p p p p\n",
      ". . . . . n . .\n",
      ". . . . . . . .\n",
      ". . P . . . . .\n",
      ". . . . . . . .\n",
      "P P . P P P P P\n",
      "R N B Q K B N R g8f6\n",
      "b8a6 0.0133013\n",
      "b8c6 0.40795\n",
      "g8f6 0.888065\n",
      "g8h6 0.00202515\n",
      "a7a6 0.0281349\n",
      "b7b6 0.116471\n",
      "c7c6 0.521006\n",
      "d7d6 0.245224\n",
      "e7e6 0.708937\n",
      "f7f6 0.0284529\n",
      "g7g6 0.501267\n",
      "h7h6 0.0246119\n",
      "a7a5 0.00417683\n",
      "b7b5 0.00596638\n",
      "c7c5 0.621416\n",
      "d7d5 0.390517\n",
      "e7e5 0.850337\n",
      "f7f5 0.198029\n",
      "g7g5 0.00757094\n",
      "h7h5 0.0163715\n",
      "r n b q k b . r\n",
      "p p p p p p p p\n",
      ". . . . . n . .\n",
      ". . . . . . . .\n",
      ". . P . . . . .\n",
      ". . . . . . . .\n",
      "P P . P P P P P\n",
      "R N B Q K B N R\n"
     ]
    }
   ],
   "source": [
    "board.reset()\n",
    "board.push(chess.Move.from_uci('c2c4'))\n",
    "trainer.best_move(board, eval=True)\n",
    "\n",
    "\n",
    "board.push(chess.Move.from_uci('g8f6'))\n",
    "print(board)"
   ]
  },
  {
   "cell_type": "code",
   "execution_count": 22,
   "metadata": {
    "collapsed": false
   },
   "outputs": [
    {
     "name": "stdout",
     "output_type": "stream",
     "text": [
      "1/1 [==============================] - 0s\n"
     ]
    },
    {
     "data": {
      "text/plain": [
       "array([[ 0.09595465,  0.90404534]], dtype=float32)"
      ]
     },
     "execution_count": 22,
     "metadata": {},
     "output_type": "execute_result"
    }
   ],
   "source": [
    "batch_x = np.zeros(shape=(1, 8, 8, 12), dtype=np.int8)\n",
    "batch_x[0] = chessbot.board_to_matrix(board)\n",
    "model.predict_proba(batch_x)"
   ]
  }
 ],
 "metadata": {
  "anaconda-cloud": {},
  "kernelspec": {
   "display_name": "Python [default]",
   "language": "python",
   "name": "python3"
  },
  "language_info": {
   "codemirror_mode": {
    "name": "ipython",
    "version": 3
   },
   "file_extension": ".py",
   "mimetype": "text/x-python",
   "name": "python",
   "nbconvert_exporter": "python",
   "pygments_lexer": "ipython3",
   "version": "3.5.2"
  }
 },
 "nbformat": 4,
 "nbformat_minor": 1
}
