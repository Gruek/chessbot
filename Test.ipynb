{
 "cells": [
  {
   "cell_type": "code",
   "execution_count": 1,
   "metadata": {
    "collapsed": false
   },
   "outputs": [
    {
     "name": "stdout",
     "output_type": "stream",
     "text": [
      "D:\\Python\\chess\\src\n"
     ]
    }
   ],
   "source": [
    "cd src"
   ]
  },
  {
   "cell_type": "code",
   "execution_count": 2,
   "metadata": {
    "collapsed": false,
    "scrolled": false
   },
   "outputs": [
    {
     "name": "stderr",
     "output_type": "stream",
     "text": [
      "Using TensorFlow backend.\n"
     ]
    }
   ],
   "source": [
    "import chess\n",
    "from trainer import Trainer\n",
    "from chessbot import ChessBot\n",
    "import numpy as np\n",
    "from pystockfish import Engine \n",
    "\n",
    "trainer = Trainer()\n",
    "board = chess.Board()\n",
    "gruefish = ChessBot()\n",
    "gruefish2 = ChessBot()\n",
    "stockfish = Engine(depth=20, param={\"Threads\": 6})\n",
    "shitfish = Engine(depth=0, param={\"Threads\": 6})"
   ]
  },
  {
   "cell_type": "code",
   "execution_count": 4,
   "metadata": {
    "collapsed": false
   },
   "outputs": [
    {
     "name": "stdout",
     "output_type": "stream",
     "text": [
      "{'temp_score': 0.5, 'score': 0.5, 'move': Move.from_uci('g8f6'), 'dead': False}\n",
      "{'temp_score': 0.2882072925567627, 'score': 0.2882072925567627, 'move': Move.from_uci('g1f3'), 'dead': False}\n",
      "{'temp_score': 0.5, 'score': 0.5, 'move': Move.from_uci('d7d5'), 'dead': False}\n",
      "{'temp_score': 0.38687151670455933, 'score': 0.38687151670455933, 'move': Move.from_uci('c2c4'), 'dead': False}\n",
      "{'temp_score': 0.49525297, 'score': 0.49525297, 'move': Move.from_uci('e7e6'), 'dead': False}\n",
      "{'temp_score': 0.2909393310546875, 'score': 0.2909393310546875, 'move': Move.from_uci('g1f3'), 'dead': False}\n",
      "{'temp_score': 0.39941141, 'score': 0.39941141, 'move': Move.from_uci('f7f5'), 'dead': False}\n",
      "{'temp_score': 0.22266566753387451, 'score': 0.22266566753387451, 'move': Move.from_uci('g1f3'), 'dead': False}\n",
      "{'temp_score': 0.38687151670455933, 'score': 0.38687151670455933, 'move': Move.from_uci('d7d5'), 'dead': False}\n",
      "{'temp_score': 0.38687151670455933, 'score': 0.38687151670455933, 'move': Move.from_uci('c2c4'), 'dead': False}\n",
      "{'temp_score': 0.5, 'score': 0.5, 'move': Move.from_uci('d5c4'), 'dead': False}\n",
      "{'temp_score': 0.39514011144638062, 'score': 0.39514011144638062, 'move': Move.from_uci('g1f3'), 'dead': False}\n",
      "{'temp_score': 0.50892013, 'score': 0.50892013, 'move': Move.from_uci('c8f5'), 'dead': False}\n",
      "{'temp_score': 0.39739954471588135, 'score': 0.39739954471588135, 'move': Move.from_uci('e2e4'), 'dead': False}\n",
      "{'temp_score': 0.48558432, 'score': 0.48558432, 'move': Move.from_uci('d5e4'), 'dead': False}\n",
      "{'temp_score': 0.44223767518997192, 'score': 0.44223767518997192, 'move': Move.from_uci('e2e3'), 'dead': False}\n",
      "{'temp_score': 0.5, 'score': 0.5, 'move': Move.from_uci('c8f5'), 'dead': False}\n",
      "{'temp_score': 0.44953864812850952, 'score': 0.44953864812850952, 'move': Move.from_uci('c2c3'), 'dead': False}\n",
      "{'temp_score': 0.5, 'score': 0.5, 'move': Move.from_uci('c8f5'), 'dead': False}\n",
      "{'temp_score': 0.44956320524215698, 'score': 0.44956320524215698, 'move': Move.from_uci('c1f4'), 'dead': False}\n",
      "{'temp_score': 0.5, 'score': 0.5, 'move': Move.from_uci('c8g4'), 'dead': False}\n",
      "{'temp_score': 0.47073525190353394, 'score': 0.47073525190353394, 'move': Move.from_uci('b1c3'), 'dead': False}\n",
      "{'temp_score': 0.5, 'score': 0.5, 'move': Move.from_uci('c8f5'), 'dead': False}\n",
      "{'temp_score': 0.48558432, 'score': 0.48558432, 'move': Move.from_uci('e2e4'), 'dead': False}\n",
      "{'temp_score': 0.48558432, 'score': 0.48558432, 'move': Move.from_uci('d5e4'), 'dead': False}\n",
      "{'temp_score': 0.30611735582351685, 'score': 0.30611735582351685, 'move': Move.from_uci('g1f3'), 'dead': False}\n",
      "{'temp_score': 0.44755793, 'score': 0.44755793, 'move': Move.from_uci('e7e6'), 'dead': False}\n",
      "{'temp_score': 0.31189572811126709, 'score': 0.31189572811126709, 'move': Move.from_uci('e4d5'), 'dead': False}\n",
      "{'temp_score': 0.4148638, 'score': 0.4148638, 'move': Move.from_uci('c7c5'), 'dead': False}\n",
      "{'temp_score': 0.15052700042724609, 'score': 0.15052700042724609, 'move': Move.from_uci('e4d5'), 'dead': False}\n",
      "{'temp_score': 0.36101639, 'score': 0.36101639, 'move': Move.from_uci('b7b5'), 'dead': False}\n",
      "{'temp_score': 0.36101639, 'score': 0.36101639, 'move': Move.from_uci('e2e4'), 'dead': False}\n",
      "{'temp_score': 0.37362713, 'score': 0.37362713, 'move': Move.from_uci('g7g5'), 'dead': False}\n",
      "{'temp_score': 0.22923558950424194, 'score': 0.22923558950424194, 'move': Move.from_uci('g1f3'), 'dead': False}\n",
      "{'temp_score': 0.37360874, 'score': 0.37360874, 'move': Move.from_uci('h7h6'), 'dead': False}\n",
      "{'temp_score': 0.23462939262390137, 'score': 0.23462939262390137, 'move': Move.from_uci('g1f3'), 'dead': False}\n",
      "{'temp_score': 0.36210105, 'score': 0.36210105, 'move': Move.from_uci('c7c5'), 'dead': False}\n",
      "{'temp_score': 0.24225920438766479, 'score': 0.24225920438766479, 'move': Move.from_uci('g1f3'), 'dead': False}\n",
      "{'temp_score': 0.36101639, 'score': 0.36101639, 'move': Move.from_uci('d7d5'), 'dead': False}\n",
      "{'temp_score': 0.48700195550918579, 'score': 0.48700195550918579, 'move': Move.from_uci('g2g4'), 'dead': False}\n",
      "{'temp_score': 0.5, 'score': 0.5, 'move': Move.from_uci('c8f5'), 'dead': False}\n",
      "{'temp_score': 0.49107986688613892, 'score': 0.49107986688613892, 'move': Move.from_uci('g1f3'), 'dead': False}\n",
      "{'temp_score': 0.50892013, 'score': 0.50892013, 'move': Move.from_uci('c8f5'), 'dead': False}\n",
      "{'temp_score': 0.49522495269775391, 'score': 0.49522495269775391, 'move': Move.from_uci('f2f4'), 'dead': False}\n",
      "{'temp_score': 0.5, 'score': 0.5, 'move': Move.from_uci('c8f5'), 'dead': False}\n",
      "{'temp_score': 0.40688741207122803, 'score': 0.40688741207122803, 'move': Move.from_uci('e2e3'), 'dead': False}\n",
      "{'temp_score': 0.5, 'score': 0.5, 'move': Move.from_uci('g8f6'), 'dead': False}\n",
      "{'temp_score': 0.42973542213439941, 'score': 0.42973542213439941, 'move': Move.from_uci('e2e3'), 'dead': False}\n",
      "{'temp_score': 0.5, 'score': 0.5, 'move': Move.from_uci('e7e6'), 'dead': False}\n",
      "{'temp_score': 0.44070273637771606, 'score': 0.44070273637771606, 'move': Move.from_uci('g1f3'), 'dead': False}\n",
      "{'temp_score': 0.48706743, 'score': 0.48706743, 'move': Move.from_uci('f7f6'), 'dead': False}\n",
      "{'temp_score': 0.38200867176055908, 'score': 0.38200867176055908, 'move': Move.from_uci('g1f3'), 'dead': False}\n",
      "{'temp_score': 0.45855069, 'score': 0.45855069, 'move': Move.from_uci('f7f5'), 'dead': False}\n",
      "{'temp_score': 0.3738938570022583, 'score': 0.3738938570022583, 'move': Move.from_uci('g1f3'), 'dead': False}\n",
      "{'temp_score': 0.44762534, 'score': 0.44762534, 'move': Move.from_uci('c7c5'), 'dead': False}\n",
      "{'temp_score': 0.41186422109603882, 'score': 0.41186422109603882, 'move': Move.from_uci('g1f3'), 'dead': False}\n",
      "{'temp_score': 0.44070273637771606, 'score': 0.44070273637771606, 'move': Move.from_uci('e7e6'), 'dead': False}\n",
      "{'temp_score': 0.44070273637771606, 'score': 0.44070273637771606, 'move': Move.from_uci('g1f3'), 'dead': False}\n",
      "{'temp_score': 0.5, 'score': 0.5, 'move': Move.from_uci('f8d6'), 'dead': False}\n",
      "{'temp_score': 0.45571720600128174, 'score': 0.45571720600128174, 'move': Move.from_uci('e2e3'), 'dead': False}\n",
      "{'temp_score': 0.5, 'score': 0.5, 'move': Move.from_uci('f8d6'), 'dead': False}\n",
      "{'temp_score': 0.4747539758682251, 'score': 0.4747539758682251, 'move': Move.from_uci('e2e4'), 'dead': False}\n",
      "{'temp_score': 0.48173371, 'score': 0.48173371, 'move': Move.from_uci('c7c5'), 'dead': False}\n",
      "{'temp_score': 0.30590927600860596, 'score': 0.30590927600860596, 'move': Move.from_uci('e4d5'), 'dead': False}\n",
      "{'temp_score': 0.47235942, 'score': 0.47235942, 'move': Move.from_uci('d5e4'), 'dead': False}\n",
      "{'temp_score': 0.43473994731903076, 'score': 0.43473994731903076, 'move': Move.from_uci('g1f3'), 'dead': False}\n",
      "{'temp_score': 0.44825422763824463, 'score': 0.44825422763824463, 'move': Move.from_uci('c2c3'), 'dead': False}\n",
      "{'temp_score': 0.46146029233932495, 'score': 0.46146029233932495, 'move': Move.from_uci('b1c3'), 'dead': False}\n",
      "{'temp_score': 0.4678078293800354, 'score': 0.4678078293800354, 'move': Move.from_uci('f1e2'), 'dead': False}\n",
      "{'temp_score': 0.48207622766494751, 'score': 0.48207622766494751, 'move': Move.from_uci('c2c4'), 'dead': False}\n",
      "{'temp_score': 0.48530399799346924, 'score': 0.48530399799346924, 'move': Move.from_uci('f1b5'), 'dead': False}\n",
      "{'temp_score': 0.48690873384475708, 'score': 0.48690873384475708, 'move': Move.from_uci('c1e3'), 'dead': False}\n",
      "{'temp_score': 0.48690873384475708, 'score': 0.43473994731903076, 'move': Move.from_uci('d5e4'), 'dead': False}\n",
      "{'temp_score': 0.48690873384475708, 'score': 0.48690873384475708, 'move': Move.from_uci('c1e3'), 'dead': False}\n",
      "{'temp_score': 0.48690873384475708, 'score': 0.48690873384475708, 'move': Move.from_uci('d5e4'), 'dead': False}\n",
      "{'temp_score': 0.48046702146530151, 'score': 0.48046702146530151, 'move': Move.from_uci('c2c3'), 'dead': False}\n",
      "{'temp_score': 0.5, 'score': 0.5, 'move': Move.from_uci('c8d7'), 'dead': False}\n",
      "{'temp_score': 0.48690873384475708, 'score': 0.48690873384475708, 'move': Move.from_uci('e2e4'), 'dead': False}\n",
      "{'temp_score': 0.48690873384475708, 'score': 0.48690873384475708, 'move': Move.from_uci('d5e4'), 'dead': False}\n",
      "{'temp_score': 0.48690873384475708, 'score': 0.48690873384475708, 'move': Move.from_uci('c1e3'), 'dead': False}\n",
      "{'temp_score': 0.49091392755508423, 'score': 0.49091392755508423, 'move': Move.from_uci('f1d3'), 'dead': False}\n",
      "{'temp_score': 0.49825608730316162, 'score': 0.49825608730316162, 'move': Move.from_uci('b1d2'), 'dead': False}\n",
      "{'temp_score': 0.5, 'score': 0.5, 'move': Move.from_uci('f1c4'), 'dead': False}\n",
      "{'temp_score': 0.5, 'score': 0.5, 'move': Move.from_uci('d4d5'), 'dead': False}\n",
      "{'temp_score': 0.5, 'score': 0.5, 'move': Move.from_uci('f4f5'), 'dead': False}\n",
      "{'temp_score': 0.5, 'score': 0.5, 'move': Move.from_uci('g2g4'), 'dead': False}\n",
      "{'temp_score': 0.50571435689926147, 'score': 0.50571435689926147, 'move': Move.from_uci('c1d2'), 'dead': False}\n",
      "{'temp_score': 0.50571435689926147, 'score': 0.48690873384475708, 'move': Move.from_uci('d5e4'), 'dead': False}\n",
      "{'temp_score': 0.50571435689926147, 'score': 0.50571435689926147, 'move': Move.from_uci('c1d2'), 'dead': False}\n",
      "{'temp_score': 0.50571435689926147, 'score': 0.5, 'move': Move.from_uci('d5e4'), 'dead': False}\n",
      "{'temp_score': 0.50571435689926147, 'score': 0.50571435689926147, 'move': Move.from_uci('c1d2'), 'dead': False}\n",
      "{'temp_score': 0.50571435689926147, 'score': 0.5, 'move': Move.from_uci('d5e4'), 'dead': False}\n",
      "{'temp_score': 0.50571435689926147, 'score': 0.50571435689926147, 'move': Move.from_uci('c1d2'), 'dead': False}\n",
      "{'temp_score': 0.50571435689926147, 'score': 0.5, 'move': Move.from_uci('d5e4'), 'dead': False}\n",
      "{'temp_score': 0.50571435689926147, 'score': 0.50571435689926147, 'move': Move.from_uci('c1d2'), 'dead': False}\n",
      "{'temp_score': 0.50571435689926147, 'score': 0.5, 'move': Move.from_uci('d5e4'), 'dead': False}\n",
      "{'temp_score': 0.50571435689926147, 'score': 0.50571435689926147, 'move': Move.from_uci('c1d2'), 'dead': False}\n",
      "{'temp_score': 0.50571435689926147, 'score': 0.5, 'move': Move.from_uci('d5e4'), 'dead': False}\n",
      "{'temp_score': 0.50571435689926147, 'score': 0.50571435689926147, 'move': Move.from_uci('c1d2'), 'dead': False}\n",
      "{'temp_score': 0.50571435689926147, 'score': 0.5, 'move': Move.from_uci('d5e4'), 'dead': False}\n",
      "{'temp_score': 0.50571435689926147, 'score': 0.50571435689926147, 'move': Move.from_uci('c1d2'), 'dead': False}\n",
      "{'temp_score': 0.50571435689926147, 'score': 0.5, 'move': Move.from_uci('d5e4'), 'dead': False}\n",
      "{'temp_score': 0.50571435689926147, 'score': 0.50571435689926147, 'move': Move.from_uci('c1d2'), 'dead': False}\n",
      "{'temp_score': 0.50571435689926147, 'score': 0.5, 'move': Move.from_uci('d5e4'), 'dead': False}\n",
      "{'temp_score': 0.50571435689926147, 'score': 0.50571435689926147, 'move': Move.from_uci('c1d2'), 'dead': False}\n",
      "{'temp_score': 0.50571435689926147, 'score': 0.5, 'move': Move.from_uci('d5e4'), 'dead': False}\n",
      "{'temp_score': 0.50571435689926147, 'score': 0.50571435689926147, 'move': Move.from_uci('c1d2'), 'dead': False}\n",
      "{'temp_score': 0.50571435689926147, 'score': 0.5, 'move': Move.from_uci('d5e4'), 'dead': False}\n",
      "{'temp_score': 0.50571435689926147, 'score': 0.50571435689926147, 'move': Move.from_uci('c1d2'), 'dead': False}\n",
      "{'temp_score': 0.50571435689926147, 'score': 0.5, 'move': Move.from_uci('d5e4'), 'dead': False}\n",
      "{'temp_score': 0.50571435689926147, 'score': 0.50571435689926147, 'move': Move.from_uci('c1d2'), 'dead': False}\n",
      "{'temp_score': 0.50571435689926147, 'score': 0.5, 'move': Move.from_uci('d5e4'), 'dead': False}\n",
      "{'temp_score': 0.50571435689926147, 'score': 0.50571435689926147, 'move': Move.from_uci('c1d2'), 'dead': False}\n",
      "{'temp_score': 0.50571435689926147, 'score': 0.5, 'move': Move.from_uci('d5e4'), 'dead': False}\n",
      "{'temp_score': 0.50571435689926147, 'score': 0.50571435689926147, 'move': Move.from_uci('c1d2'), 'dead': False}\n",
      "{'temp_score': 0.50571435689926147, 'score': 0.5, 'move': Move.from_uci('d5e4'), 'dead': False}\n",
      "{'temp_score': 0.50571435689926147, 'score': 0.50571435689926147, 'move': Move.from_uci('c1d2'), 'dead': False}\n",
      "{'temp_score': 0.50571435689926147, 'score': 0.5, 'move': Move.from_uci('d5e4'), 'dead': False}\n",
      "{'temp_score': 0.50571435689926147, 'score': 0.50571435689926147, 'move': Move.from_uci('c1d2'), 'dead': False}\n",
      "{'temp_score': 0.50571435689926147, 'score': 0.5, 'move': Move.from_uci('d5e4'), 'dead': False}\n",
      "{'temp_score': 0.50571435689926147, 'score': 0.50571435689926147, 'move': Move.from_uci('c1d2'), 'dead': False}\n",
      "{'temp_score': 0.50571435689926147, 'score': 0.5, 'move': Move.from_uci('d5e4'), 'dead': False}\n",
      "{'temp_score': 0.50571435689926147, 'score': 0.50571435689926147, 'move': Move.from_uci('c1d2'), 'dead': False}\n",
      "{'temp_score': 0.50571435689926147, 'score': 0.5, 'move': Move.from_uci('d5e4'), 'dead': False}\n",
      "{'temp_score': 0.50571435689926147, 'score': 0.50571435689926147, 'move': Move.from_uci('c1d2'), 'dead': False}\n",
      "{'temp_score': 0.50571435689926147, 'score': 0.5, 'move': Move.from_uci('d5e4'), 'dead': False}\n",
      "{'temp_score': 0.50571435689926147, 'score': 0.50571435689926147, 'move': Move.from_uci('c1d2'), 'dead': False}\n",
      "{'temp_score': 0.50571435689926147, 'score': 0.5, 'move': Move.from_uci('d5e4'), 'dead': False}\n",
      "{'temp_score': 0.50571435689926147, 'score': 0.50571435689926147, 'move': Move.from_uci('c1d2'), 'dead': False}\n",
      "{'temp_score': 0.50571435689926147, 'score': 0.5, 'move': Move.from_uci('d5e4'), 'dead': False}\n",
      "{'temp_score': 0.50571435689926147, 'score': 0.50571435689926147, 'move': Move.from_uci('c1d2'), 'dead': False}\n",
      "{'temp_score': 0.50571435689926147, 'score': 0.5, 'move': Move.from_uci('d5e4'), 'dead': False}\n",
      "{'temp_score': 0.50571435689926147, 'score': 0.50571435689926147, 'move': Move.from_uci('c1d2'), 'dead': False}\n",
      "{'temp_score': 0.50571435689926147, 'score': 0.5, 'move': Move.from_uci('d5e4'), 'dead': False}\n",
      "{'temp_score': 0.50571435689926147, 'score': 0.50571435689926147, 'move': Move.from_uci('c1d2'), 'dead': False}\n",
      "{'temp_score': 0.50571435689926147, 'score': 0.5, 'move': Move.from_uci('d5e4'), 'dead': False}\n",
      "{'temp_score': 0.50571435689926147, 'score': 0.50571435689926147, 'move': Move.from_uci('c1d2'), 'dead': False}\n",
      "{'temp_score': 0.50571435689926147, 'score': 0.5, 'move': Move.from_uci('d5e4'), 'dead': False}\n",
      "{'temp_score': 0.50571435689926147, 'score': 0.50571435689926147, 'move': Move.from_uci('c1d2'), 'dead': False}\n",
      "{'temp_score': 0.50571435689926147, 'score': 0.5, 'move': Move.from_uci('d5e4'), 'dead': False}\n",
      "{'temp_score': 0.50571435689926147, 'score': 0.50571435689926147, 'move': Move.from_uci('c1d2'), 'dead': False}\n",
      "{'temp_score': 0.50571435689926147, 'score': 0.5, 'move': Move.from_uci('d5e4'), 'dead': False}\n",
      "{'temp_score': 0.50571435689926147, 'score': 0.50571435689926147, 'move': Move.from_uci('c1d2'), 'dead': False}\n",
      "{'temp_score': 0.50571435689926147, 'score': 0.5, 'move': Move.from_uci('d5e4'), 'dead': False}\n",
      "{'temp_score': 0.50571435689926147, 'score': 0.50571435689926147, 'move': Move.from_uci('c1d2'), 'dead': False}\n",
      "{'temp_score': 0.50571435689926147, 'score': 0.5, 'move': Move.from_uci('d5e4'), 'dead': False}\n",
      "{'temp_score': 0.50571435689926147, 'score': 0.50571435689926147, 'move': Move.from_uci('c1d2'), 'dead': False}\n",
      "{'temp_score': 0.50571435689926147, 'score': 0.5, 'move': Move.from_uci('d5e4'), 'dead': False}\n",
      "{'temp_score': 0.50571435689926147, 'score': 0.50571435689926147, 'move': Move.from_uci('c1d2'), 'dead': False}\n",
      "{'temp_score': 0.50571435689926147, 'score': 0.5, 'move': Move.from_uci('d5e4'), 'dead': False}\n",
      "{'temp_score': 0.50571435689926147, 'score': 0.50571435689926147, 'move': Move.from_uci('c1d2'), 'dead': False}\n",
      "{'temp_score': 0.50571435689926147, 'score': 0.5, 'move': Move.from_uci('d5e4'), 'dead': False}\n",
      "{'temp_score': 0.50571435689926147, 'score': 0.50571435689926147, 'move': Move.from_uci('c1d2'), 'dead': False}\n",
      "{'temp_score': 0.50571435689926147, 'score': 0.5, 'move': Move.from_uci('d5e4'), 'dead': False}\n",
      "{'temp_score': 0.50571435689926147, 'score': 0.50571435689926147, 'move': Move.from_uci('c1d2'), 'dead': False}\n",
      "{'temp_score': 0.50571435689926147, 'score': 0.5, 'move': Move.from_uci('d5e4'), 'dead': False}\n",
      "{'temp_score': 0.50571435689926147, 'score': 0.50571435689926147, 'move': Move.from_uci('c1d2'), 'dead': False}\n",
      "{'temp_score': 0.50571435689926147, 'score': 0.5, 'move': Move.from_uci('d5e4'), 'dead': False}\n",
      "{'temp_score': 0.50571435689926147, 'score': 0.50571435689926147, 'move': Move.from_uci('c1d2'), 'dead': False}\n",
      "{'temp_score': 0.50571435689926147, 'score': 0.5, 'move': Move.from_uci('d5e4'), 'dead': False}\n",
      "{'temp_score': 0.50571435689926147, 'score': 0.50571435689926147, 'move': Move.from_uci('c1d2'), 'dead': False}\n",
      "{'temp_score': 0.50571435689926147, 'score': 0.5, 'move': Move.from_uci('d5e4'), 'dead': False}\n",
      "{'temp_score': 0.50571435689926147, 'score': 0.50571435689926147, 'move': Move.from_uci('c1d2'), 'dead': False}\n",
      "{'temp_score': 0.50571435689926147, 'score': 0.5, 'move': Move.from_uci('d5e4'), 'dead': False}\n",
      "{'temp_score': 0.50571435689926147, 'score': 0.50571435689926147, 'move': Move.from_uci('c1d2'), 'dead': False}\n",
      "{'temp_score': 0.50571435689926147, 'score': 0.5, 'move': Move.from_uci('d5e4'), 'dead': False}\n",
      "{'temp_score': 0.50571435689926147, 'score': 0.50571435689926147, 'move': Move.from_uci('c1d2'), 'dead': False}\n",
      "{'temp_score': 0.50571435689926147, 'score': 0.5, 'move': Move.from_uci('d5e4'), 'dead': False}\n",
      "{'temp_score': 0.50571435689926147, 'score': 0.50571435689926147, 'move': Move.from_uci('c1d2'), 'dead': False}\n",
      "{'temp_score': 0.50571435689926147, 'score': 0.5, 'move': Move.from_uci('d5e4'), 'dead': False}\n",
      "{'temp_score': 0.50571435689926147, 'score': 0.50571435689926147, 'move': Move.from_uci('c1d2'), 'dead': False}\n",
      "{'temp_score': 0.50571435689926147, 'score': 0.5, 'move': Move.from_uci('d5e4'), 'dead': False}\n",
      "{'temp_score': 0.50571435689926147, 'score': 0.50571435689926147, 'move': Move.from_uci('c1d2'), 'dead': False}\n",
      "{'temp_score': 0.50571435689926147, 'score': 0.5, 'move': Move.from_uci('d5e4'), 'dead': False}\n",
      "{'temp_score': 0.50571435689926147, 'score': 0.50571435689926147, 'move': Move.from_uci('c1d2'), 'dead': False}\n",
      "{'temp_score': 0.50571435689926147, 'score': 0.5, 'move': Move.from_uci('d5e4'), 'dead': False}\n",
      "{'temp_score': 0.50571435689926147, 'score': 0.50571435689926147, 'move': Move.from_uci('c1d2'), 'dead': False}\n",
      "{'temp_score': 0.50571435689926147, 'score': 0.5, 'move': Move.from_uci('d5e4'), 'dead': False}\n",
      "{'temp_score': 0.50571435689926147, 'score': 0.50571435689926147, 'move': Move.from_uci('c1d2'), 'dead': False}\n",
      "{'temp_score': 0.50571435689926147, 'score': 0.5, 'move': Move.from_uci('d5e4'), 'dead': False}\n",
      "{'temp_score': 0.50571435689926147, 'score': 0.50571435689926147, 'move': Move.from_uci('c1d2'), 'dead': False}\n",
      "{'temp_score': 0.50571435689926147, 'score': 0.5, 'move': Move.from_uci('d5e4'), 'dead': False}\n",
      "{'temp_score': 0.50571435689926147, 'score': 0.50571435689926147, 'move': Move.from_uci('c1d2'), 'dead': False}\n",
      "{'temp_score': 0.50571435689926147, 'score': 0.5, 'move': Move.from_uci('d5e4'), 'dead': False}\n",
      "{'temp_score': 0.50571435689926147, 'score': 0.50571435689926147, 'move': Move.from_uci('c1d2'), 'dead': False}\n",
      "{'temp_score': 0.50571435689926147, 'score': 0.5, 'move': Move.from_uci('d5e4'), 'dead': False}\n",
      "{'temp_score': 0.50571435689926147, 'score': 0.50571435689926147, 'move': Move.from_uci('c1d2'), 'dead': False}\n",
      "{'temp_score': 0.50571435689926147, 'score': 0.5, 'move': Move.from_uci('d5e4'), 'dead': False}\n",
      "{'temp_score': 0.50571435689926147, 'score': 0.50571435689926147, 'move': Move.from_uci('c1d2'), 'dead': False}\n",
      "{'temp_score': 0.50571435689926147, 'score': 0.5, 'move': Move.from_uci('d5e4'), 'dead': False}\n",
      "{'temp_score': 0.50571435689926147, 'score': 0.50571435689926147, 'move': Move.from_uci('c1d2'), 'dead': False}\n",
      "{'temp_score': 0.50571435689926147, 'score': 0.5, 'move': Move.from_uci('d5e4'), 'dead': False}\n",
      "{'temp_score': 0.50571435689926147, 'score': 0.50571435689926147, 'move': Move.from_uci('c1d2'), 'dead': False}\n",
      "{'temp_score': 0.50571435689926147, 'score': 0.5, 'move': Move.from_uci('d5e4'), 'dead': False}\n",
      "{'temp_score': 0.50571435689926147, 'score': 0.50571435689926147, 'move': Move.from_uci('c1d2'), 'dead': False}\n",
      "{'temp_score': 0.50571435689926147, 'score': 0.5, 'move': Move.from_uci('d5e4'), 'dead': False}\n",
      "{'temp_score': 0.50571435689926147, 'score': 0.50571435689926147, 'move': Move.from_uci('c1d2'), 'dead': False}\n",
      "{'temp_score': 0.50571435689926147, 'score': 0.5, 'move': Move.from_uci('d5e4'), 'dead': False}\n",
      "{'temp_score': 0.50571435689926147, 'score': 0.50571435689926147, 'move': Move.from_uci('c1d2'), 'dead': False}\n",
      "{'temp_score': 0.50571435689926147, 'score': 0.5, 'move': Move.from_uci('d5e4'), 'dead': False}\n",
      "{'temp_score': 0.50571435689926147, 'score': 0.50571435689926147, 'move': Move.from_uci('c1d2'), 'dead': False}\n",
      "{'temp_score': 0.50571435689926147, 'score': 0.5, 'move': Move.from_uci('d5e4'), 'dead': False}\n",
      "{'temp_score': 0.50571435689926147, 'score': 0.50571435689926147, 'move': Move.from_uci('c1d2'), 'dead': False}\n",
      "{'temp_score': 0.50571435689926147, 'score': 0.5, 'move': Move.from_uci('d5e4'), 'dead': False}\n",
      "{'temp_score': 0.50571435689926147, 'score': 0.50571435689926147, 'move': Move.from_uci('c1d2'), 'dead': False}\n",
      "{'temp_score': 0.50571435689926147, 'score': 0.5, 'move': Move.from_uci('d5e4'), 'dead': False}\n",
      "{'temp_score': 0.50571435689926147, 'score': 0.50571435689926147, 'move': Move.from_uci('c1d2'), 'dead': False}\n",
      "{'temp_score': 0.50571435689926147, 'score': 0.5, 'move': Move.from_uci('d5e4'), 'dead': False}\n",
      "{'temp_score': 0.50571435689926147, 'score': 0.50571435689926147, 'move': Move.from_uci('c1d2'), 'dead': False}\n",
      "{'temp_score': 0.50571435689926147, 'score': 0.5, 'move': Move.from_uci('d5e4'), 'dead': False}\n",
      "{'temp_score': 0.50571435689926147, 'score': 0.50571435689926147, 'move': Move.from_uci('c1d2'), 'dead': False}\n",
      "{'temp_score': 0.50571435689926147, 'score': 0.5, 'move': Move.from_uci('d5e4'), 'dead': False}\n",
      "{'temp_score': 0.50571435689926147, 'score': 0.50571435689926147, 'move': Move.from_uci('c1d2'), 'dead': False}\n",
      "{'temp_score': 0.50571435689926147, 'score': 0.5, 'move': Move.from_uci('d5e4'), 'dead': False}\n",
      "{'temp_score': 0.50571435689926147, 'score': 0.50571435689926147, 'move': Move.from_uci('c1d2'), 'dead': False}\n",
      "{'temp_score': 0.50571435689926147, 'score': 0.5, 'move': Move.from_uci('d5e4'), 'dead': False}\n",
      "{'temp_score': 0.50571435689926147, 'score': 0.50571435689926147, 'move': Move.from_uci('c1d2'), 'dead': False}\n",
      "{'temp_score': 0.50571435689926147, 'score': 0.5, 'move': Move.from_uci('d5e4'), 'dead': False}\n",
      "{'temp_score': 0.50571435689926147, 'score': 0.50571435689926147, 'move': Move.from_uci('c1d2'), 'dead': False}\n",
      "{'temp_score': 0.50571435689926147, 'score': 0.5, 'move': Move.from_uci('d5e4'), 'dead': False}\n",
      "{'temp_score': 0.50571435689926147, 'score': 0.50571435689926147, 'move': Move.from_uci('c1d2'), 'dead': False}\n",
      "{'temp_score': 0.50571435689926147, 'score': 0.5, 'move': Move.from_uci('d5e4'), 'dead': False}\n",
      "{'temp_score': 0.50571435689926147, 'score': 0.50571435689926147, 'move': Move.from_uci('c1d2'), 'dead': False}\n",
      "{'temp_score': 0.50571435689926147, 'score': 0.5, 'move': Move.from_uci('d5e4'), 'dead': False}\n",
      "{'temp_score': 0.50571435689926147, 'score': 0.50571435689926147, 'move': Move.from_uci('c1d2'), 'dead': False}\n",
      "{'temp_score': 0.50571435689926147, 'score': 0.5, 'move': Move.from_uci('d5e4'), 'dead': False}\n",
      "{'temp_score': 0.50571435689926147, 'score': 0.50571435689926147, 'move': Move.from_uci('c1d2'), 'dead': False}\n",
      "{'temp_score': 0.50571435689926147, 'score': 0.5, 'move': Move.from_uci('d5e4'), 'dead': False}\n",
      "{'temp_score': 0.50571435689926147, 'score': 0.50571435689926147, 'move': Move.from_uci('c1d2'), 'dead': False}\n",
      "{'temp_score': 0.50571435689926147, 'score': 0.5, 'move': Move.from_uci('d5e4'), 'dead': False}\n",
      "{'temp_score': 0.50571435689926147, 'score': 0.50571435689926147, 'move': Move.from_uci('c1d2'), 'dead': False}\n",
      "{'temp_score': 0.50571435689926147, 'score': 0.5, 'move': Move.from_uci('d5e4'), 'dead': False}\n",
      "{'temp_score': 0.50571435689926147, 'score': 0.50571435689926147, 'move': Move.from_uci('c1d2'), 'dead': False}\n",
      "{'temp_score': 0.50571435689926147, 'score': 0.5, 'move': Move.from_uci('d5e4'), 'dead': False}\n",
      "{'temp_score': 0.50571435689926147, 'score': 0.50571435689926147, 'move': Move.from_uci('c1d2'), 'dead': False}\n",
      "{'temp_score': 0.50571435689926147, 'score': 0.5, 'move': Move.from_uci('d5e4'), 'dead': False}\n",
      "{'temp_score': 0.50571435689926147, 'score': 0.50571435689926147, 'move': Move.from_uci('c1d2'), 'dead': False}\n",
      "{'temp_score': 0.50571435689926147, 'score': 0.5, 'move': Move.from_uci('d5e4'), 'dead': False}\n",
      "{'temp_score': 0.50571435689926147, 'score': 0.50571435689926147, 'move': Move.from_uci('c1d2'), 'dead': False}\n",
      "{'temp_score': 0.50571435689926147, 'score': 0.5, 'move': Move.from_uci('d5e4'), 'dead': False}\n",
      "{'temp_score': 0.50571435689926147, 'score': 0.50571435689926147, 'move': Move.from_uci('c1d2'), 'dead': False}\n",
      "{'temp_score': 0.50571435689926147, 'score': 0.5, 'move': Move.from_uci('d5e4'), 'dead': False}\n",
      "{'temp_score': 0.50571435689926147, 'score': 0.50571435689926147, 'move': Move.from_uci('c1d2'), 'dead': False}\n",
      "{'temp_score': 0.50571435689926147, 'score': 0.5, 'move': Move.from_uci('d5e4'), 'dead': False}\n",
      "{'temp_score': 0.50571435689926147, 'score': 0.50571435689926147, 'move': Move.from_uci('c1d2'), 'dead': False}\n",
      "{'temp_score': 0.50571435689926147, 'score': 0.5, 'move': Move.from_uci('d5e4'), 'dead': False}\n",
      "{'temp_score': 0.50571435689926147, 'score': 0.50571435689926147, 'move': Move.from_uci('c1d2'), 'dead': False}\n",
      "{'temp_score': 0.50571435689926147, 'score': 0.5, 'move': Move.from_uci('d5e4'), 'dead': False}\n",
      "{'temp_score': 0.50571435689926147, 'score': 0.50571435689926147, 'move': Move.from_uci('c1d2'), 'dead': False}\n",
      "{'temp_score': 0.50571435689926147, 'score': 0.5, 'move': Move.from_uci('d5e4'), 'dead': False}\n",
      "{'temp_score': 0.50571435689926147, 'score': 0.50571435689926147, 'move': Move.from_uci('c1d2'), 'dead': False}\n",
      "{'temp_score': 0.50571435689926147, 'score': 0.5, 'move': Move.from_uci('d5e4'), 'dead': False}\n",
      "{'temp_score': 0.50571435689926147, 'score': 0.50571435689926147, 'move': Move.from_uci('c1d2'), 'dead': False}\n",
      "{'temp_score': 0.50571435689926147, 'score': 0.5, 'move': Move.from_uci('d5e4'), 'dead': False}\n",
      "{'temp_score': 0.50571435689926147, 'score': 0.50571435689926147, 'move': Move.from_uci('c1d2'), 'dead': False}\n",
      "{'temp_score': 0.50571435689926147, 'score': 0.5, 'move': Move.from_uci('d5e4'), 'dead': False}\n",
      "{'temp_score': 0.50571435689926147, 'score': 0.50571435689926147, 'move': Move.from_uci('c1d2'), 'dead': False}\n",
      "{'temp_score': 0.50571435689926147, 'score': 0.5, 'move': Move.from_uci('d5e4'), 'dead': False}\n",
      "{'temp_score': 0.50571435689926147, 'score': 0.50571435689926147, 'move': Move.from_uci('c1d2'), 'dead': False}\n",
      "{'temp_score': 0.50571435689926147, 'score': 0.5, 'move': Move.from_uci('d5e4'), 'dead': False}\n",
      "{'temp_score': 0.50571435689926147, 'score': 0.50571435689926147, 'move': Move.from_uci('c1d2'), 'dead': False}\n",
      "{'temp_score': 0.50571435689926147, 'score': 0.5, 'move': Move.from_uci('d5e4'), 'dead': False}\n",
      "{'temp_score': 0.50571435689926147, 'score': 0.50571435689926147, 'move': Move.from_uci('c1d2'), 'dead': False}\n",
      "{'temp_score': 0.50571435689926147, 'score': 0.5, 'move': Move.from_uci('d5e4'), 'dead': False}\n",
      "{'temp_score': 0.50571435689926147, 'score': 0.50571435689926147, 'move': Move.from_uci('c1d2'), 'dead': False}\n",
      "{'temp_score': 0.50571435689926147, 'score': 0.5, 'move': Move.from_uci('d5e4'), 'dead': False}\n",
      "{'temp_score': 0.50571435689926147, 'score': 0.50571435689926147, 'move': Move.from_uci('c1d2'), 'dead': False}\n",
      "{'temp_score': 0.50571435689926147, 'score': 0.5, 'move': Move.from_uci('d5e4'), 'dead': False}\n",
      "{'temp_score': 0.50571435689926147, 'score': 0.50571435689926147, 'move': Move.from_uci('c1d2'), 'dead': False}\n",
      "{'temp_score': 0.50571435689926147, 'score': 0.5, 'move': Move.from_uci('d5e4'), 'dead': False}\n",
      "{'temp_score': 0.50571435689926147, 'score': 0.50571435689926147, 'move': Move.from_uci('c1d2'), 'dead': False}\n",
      "{'temp_score': 0.50571435689926147, 'score': 0.5, 'move': Move.from_uci('d5e4'), 'dead': False}\n",
      "{'temp_score': 0.50571435689926147, 'score': 0.50571435689926147, 'move': Move.from_uci('c1d2'), 'dead': False}\n",
      "{'temp_score': 0.50571435689926147, 'score': 0.5, 'move': Move.from_uci('d5e4'), 'dead': False}\n",
      "{'temp_score': 0.50571435689926147, 'score': 0.50571435689926147, 'move': Move.from_uci('c1d2'), 'dead': False}\n",
      "{'temp_score': 0.50571435689926147, 'score': 0.5, 'move': Move.from_uci('d5e4'), 'dead': False}\n",
      "{'temp_score': 0.50571435689926147, 'score': 0.50571435689926147, 'move': Move.from_uci('c1d2'), 'dead': False}\n",
      "{'temp_score': 0.50571435689926147, 'score': 0.5, 'move': Move.from_uci('d5e4'), 'dead': False}\n",
      "{'temp_score': 0.50571435689926147, 'score': 0.50571435689926147, 'move': Move.from_uci('c1d2'), 'dead': False}\n",
      "{'temp_score': 0.50571435689926147, 'score': 0.5, 'move': Move.from_uci('d5e4'), 'dead': False}\n",
      "{'temp_score': 0.50571435689926147, 'score': 0.50571435689926147, 'move': Move.from_uci('c1d2'), 'dead': False}\n",
      "{'temp_score': 0.50571435689926147, 'score': 0.5, 'move': Move.from_uci('d5e4'), 'dead': False}\n",
      "{'temp_score': 0.50571435689926147, 'score': 0.50571435689926147, 'move': Move.from_uci('c1d2'), 'dead': False}\n",
      "{'temp_score': 0.50571435689926147, 'score': 0.5, 'move': Move.from_uci('d5e4'), 'dead': False}\n",
      "{'temp_score': 0.50571435689926147, 'score': 0.50571435689926147, 'move': Move.from_uci('c1d2'), 'dead': False}\n",
      "{'temp_score': 0.50571435689926147, 'score': 0.5, 'move': Move.from_uci('d5e4'), 'dead': False}\n",
      "{'temp_score': 0.50571435689926147, 'score': 0.50571435689926147, 'move': Move.from_uci('c1d2'), 'dead': False}\n",
      "{'temp_score': 0.50571435689926147, 'score': 0.5, 'move': Move.from_uci('d5e4'), 'dead': False}\n",
      "{'temp_score': 0.50571435689926147, 'score': 0.50571435689926147, 'move': Move.from_uci('c1d2'), 'dead': False}\n",
      "{'temp_score': 0.50571435689926147, 'score': 0.5, 'move': Move.from_uci('d5e4'), 'dead': False}\n",
      "{'temp_score': 0.50571435689926147, 'score': 0.50571435689926147, 'move': Move.from_uci('c1d2'), 'dead': False}\n",
      "{'temp_score': 0.50571435689926147, 'score': 0.5, 'move': Move.from_uci('d5e4'), 'dead': False}\n",
      "{'temp_score': 0.50571435689926147, 'score': 0.50571435689926147, 'move': Move.from_uci('c1d2'), 'dead': False}\n",
      "{'temp_score': 0.50571435689926147, 'score': 0.5, 'move': Move.from_uci('d5e4'), 'dead': False}\n",
      "{'temp_score': 0.50571435689926147, 'score': 0.50571435689926147, 'move': Move.from_uci('c1d2'), 'dead': False}\n",
      "{'temp_score': 0.50571435689926147, 'score': 0.5, 'move': Move.from_uci('d5e4'), 'dead': False}\n",
      "{'temp_score': 0.50571435689926147, 'score': 0.50571435689926147, 'move': Move.from_uci('c1d2'), 'dead': False}\n",
      "{'temp_score': 0.50571435689926147, 'score': 0.5, 'move': Move.from_uci('d5e4'), 'dead': False}\n",
      "{'temp_score': 0.50571435689926147, 'score': 0.50571435689926147, 'move': Move.from_uci('c1d2'), 'dead': False}\n",
      "{'temp_score': 0.50571435689926147, 'score': 0.5, 'move': Move.from_uci('d5e4'), 'dead': False}\n",
      "{'temp_score': 0.50571435689926147, 'score': 0.50571435689926147, 'move': Move.from_uci('c1d2'), 'dead': False}\n",
      "{'temp_score': 0.50571435689926147, 'score': 0.5, 'move': Move.from_uci('d5e4'), 'dead': False}\n",
      "{'temp_score': 0.50571435689926147, 'score': 0.50571435689926147, 'move': Move.from_uci('c1d2'), 'dead': False}\n",
      "{'temp_score': 0.50571435689926147, 'score': 0.5, 'move': Move.from_uci('d5e4'), 'dead': False}\n",
      "{'temp_score': 0.50571435689926147, 'score': 0.50571435689926147, 'move': Move.from_uci('c1d2'), 'dead': False}\n",
      "{'temp_score': 0.50571435689926147, 'score': 0.5, 'move': Move.from_uci('d5e4'), 'dead': False}\n",
      "{'temp_score': 0.50571435689926147, 'score': 0.50571435689926147, 'move': Move.from_uci('c1d2'), 'dead': False}\n",
      "{'temp_score': 0.50571435689926147, 'score': 0.5, 'move': Move.from_uci('d5e4'), 'dead': False}\n",
      "{'temp_score': 0.50571435689926147, 'score': 0.50571435689926147, 'move': Move.from_uci('c1d2'), 'dead': False}\n",
      "{'temp_score': 0.50571435689926147, 'score': 0.5, 'move': Move.from_uci('d5e4'), 'dead': False}\n",
      "{'temp_score': 0.50571435689926147, 'score': 0.50571435689926147, 'move': Move.from_uci('c1d2'), 'dead': False}\n",
      "{'temp_score': 0.50571435689926147, 'score': 0.5, 'move': Move.from_uci('d5e4'), 'dead': False}\n",
      "{'temp_score': 0.50571435689926147, 'score': 0.50571435689926147, 'move': Move.from_uci('c1d2'), 'dead': False}\n",
      "{'temp_score': 0.50571435689926147, 'score': 0.5, 'move': Move.from_uci('d5e4'), 'dead': False}\n",
      "{'temp_score': 0.50571435689926147, 'score': 0.50571435689926147, 'move': Move.from_uci('c1d2'), 'dead': False}\n",
      "{'temp_score': 0.50571435689926147, 'score': 0.5, 'move': Move.from_uci('d5e4'), 'dead': False}\n",
      "{'temp_score': 0.50571435689926147, 'score': 0.50571435689926147, 'move': Move.from_uci('c1d2'), 'dead': False}\n",
      "{'temp_score': 0.50571435689926147, 'score': 0.5, 'move': Move.from_uci('d5e4'), 'dead': False}\n",
      "{'temp_score': 0.50571435689926147, 'score': 0.50571435689926147, 'move': Move.from_uci('c1d2'), 'dead': False}\n",
      "{'temp_score': 0.50571435689926147, 'score': 0.5, 'move': Move.from_uci('d5e4'), 'dead': False}\n",
      "{'temp_score': 0.50571435689926147, 'score': 0.50571435689926147, 'move': Move.from_uci('c1d2'), 'dead': False}\n",
      "{'temp_score': 0.50571435689926147, 'score': 0.5, 'move': Move.from_uci('d5e4'), 'dead': False}\n",
      "{'temp_score': 0.50571435689926147, 'score': 0.50571435689926147, 'move': Move.from_uci('c1d2'), 'dead': False}\n",
      "{'temp_score': 0.50571435689926147, 'score': 0.5, 'move': Move.from_uci('d5e4'), 'dead': False}\n",
      "{'temp_score': 0.50571435689926147, 'score': 0.50571435689926147, 'move': Move.from_uci('c1d2'), 'dead': False}\n",
      "{'temp_score': 0.50571435689926147, 'score': 0.5, 'move': Move.from_uci('d5e4'), 'dead': False}\n",
      "{'temp_score': 0.50571435689926147, 'score': 0.50571435689926147, 'move': Move.from_uci('c1d2'), 'dead': False}\n",
      "{'temp_score': 0.50571435689926147, 'score': 0.5, 'move': Move.from_uci('d5e4'), 'dead': False}\n",
      "{'temp_score': 0.50571435689926147, 'score': 0.50571435689926147, 'move': Move.from_uci('c1d2'), 'dead': False}\n",
      "{'temp_score': 0.50571435689926147, 'score': 0.5, 'move': Move.from_uci('d5e4'), 'dead': False}\n",
      "{'temp_score': 0.50571435689926147, 'score': 0.50571435689926147, 'move': Move.from_uci('c1d2'), 'dead': False}\n",
      "{'temp_score': 0.50571435689926147, 'score': 0.5, 'move': Move.from_uci('d5e4'), 'dead': False}\n",
      "{'temp_score': 0.50571435689926147, 'score': 0.50571435689926147, 'move': Move.from_uci('c1d2'), 'dead': False}\n",
      "{'temp_score': 0.50571435689926147, 'score': 0.5, 'move': Move.from_uci('d5e4'), 'dead': False}\n",
      "{'temp_score': 0.50571435689926147, 'score': 0.50571435689926147, 'move': Move.from_uci('c1d2'), 'dead': False}\n",
      "{'temp_score': 0.50571435689926147, 'score': 0.5, 'move': Move.from_uci('d5e4'), 'dead': False}\n",
      "{'temp_score': 0.50571435689926147, 'score': 0.50571435689926147, 'move': Move.from_uci('c1d2'), 'dead': False}\n",
      "{'temp_score': 0.50571435689926147, 'score': 0.5, 'move': Move.from_uci('d5e4'), 'dead': False}\n",
      "{'temp_score': 0.50571435689926147, 'score': 0.50571435689926147, 'move': Move.from_uci('c1d2'), 'dead': False}\n",
      "{'temp_score': 0.50571435689926147, 'score': 0.5, 'move': Move.from_uci('d5e4'), 'dead': False}\n",
      "{'temp_score': 0.50571435689926147, 'score': 0.50571435689926147, 'move': Move.from_uci('c1d2'), 'dead': False}\n",
      "{'temp_score': 0.50571435689926147, 'score': 0.5, 'move': Move.from_uci('d5e4'), 'dead': False}\n",
      "{'temp_score': 0.50571435689926147, 'score': 0.50571435689926147, 'move': Move.from_uci('c1d2'), 'dead': False}\n",
      "{'temp_score': 0.50571435689926147, 'score': 0.5, 'move': Move.from_uci('d5e4'), 'dead': False}\n",
      "{'temp_score': 0.50571435689926147, 'score': 0.50571435689926147, 'move': Move.from_uci('c1d2'), 'dead': False}\n",
      "{'temp_score': 0.50571435689926147, 'score': 0.5, 'move': Move.from_uci('d5e4'), 'dead': False}\n",
      "{'temp_score': 0.50571435689926147, 'score': 0.50571435689926147, 'move': Move.from_uci('c1d2'), 'dead': False}\n",
      "{'temp_score': 0.50571435689926147, 'score': 0.5, 'move': Move.from_uci('d5e4'), 'dead': False}\n",
      "{'temp_score': 0.50571435689926147, 'score': 0.50571435689926147, 'move': Move.from_uci('c1d2'), 'dead': False}\n",
      "{'temp_score': 0.50571435689926147, 'score': 0.5, 'move': Move.from_uci('d5e4'), 'dead': False}\n",
      "{'temp_score': 0.50571435689926147, 'score': 0.50571435689926147, 'move': Move.from_uci('c1d2'), 'dead': False}\n",
      "{'temp_score': 0.50571435689926147, 'score': 0.5, 'move': Move.from_uci('d5e4'), 'dead': False}\n",
      "{'temp_score': 0.50571435689926147, 'score': 0.50571435689926147, 'move': Move.from_uci('c1d2'), 'dead': False}\n",
      "{'temp_score': 0.50571435689926147, 'score': 0.5, 'move': Move.from_uci('d5e4'), 'dead': False}\n",
      "{'temp_score': 0.50571435689926147, 'score': 0.50571435689926147, 'move': Move.from_uci('c1d2'), 'dead': False}\n",
      "{'temp_score': 0.50571435689926147, 'score': 0.5, 'move': Move.from_uci('d5e4'), 'dead': False}\n",
      "{'temp_score': 0.50571435689926147, 'score': 0.50571435689926147, 'move': Move.from_uci('c1d2'), 'dead': False}\n",
      "{'temp_score': 0.50571435689926147, 'score': 0.5, 'move': Move.from_uci('d5e4'), 'dead': False}\n",
      "{'temp_score': 0.50571435689926147, 'score': 0.50571435689926147, 'move': Move.from_uci('c1d2'), 'dead': False}\n",
      "{'temp_score': 0.50571435689926147, 'score': 0.5, 'move': Move.from_uci('d5e4'), 'dead': False}\n",
      "{'temp_score': 0.50571435689926147, 'score': 0.50571435689926147, 'move': Move.from_uci('c1d2'), 'dead': False}\n",
      "{'temp_score': 0.50571435689926147, 'score': 0.5, 'move': Move.from_uci('d5e4'), 'dead': False}\n",
      "{'temp_score': 0.50571435689926147, 'score': 0.50571435689926147, 'move': Move.from_uci('c1d2'), 'dead': False}\n",
      "{'temp_score': 0.50571435689926147, 'score': 0.5, 'move': Move.from_uci('d5e4'), 'dead': False}\n",
      "{'temp_score': 0.50571435689926147, 'score': 0.50571435689926147, 'move': Move.from_uci('c1d2'), 'dead': False}\n",
      "{'temp_score': 0.50571435689926147, 'score': 0.5, 'move': Move.from_uci('d5e4'), 'dead': False}\n",
      "{'temp_score': 0.50571435689926147, 'score': 0.50571435689926147, 'move': Move.from_uci('c1d2'), 'dead': False}\n",
      "{'temp_score': 0.50571435689926147, 'score': 0.5, 'move': Move.from_uci('d5e4'), 'dead': False}\n",
      "{'temp_score': 0.50571435689926147, 'score': 0.50571435689926147, 'move': Move.from_uci('c1d2'), 'dead': False}\n",
      "{'temp_score': 0.50571435689926147, 'score': 0.5, 'move': Move.from_uci('d5e4'), 'dead': False}\n",
      "{'temp_score': 0.50571435689926147, 'score': 0.50571435689926147, 'move': Move.from_uci('c1d2'), 'dead': False}\n",
      "{'temp_score': 0.50571435689926147, 'score': 0.5, 'move': Move.from_uci('d5e4'), 'dead': False}\n",
      "{'temp_score': 0.50571435689926147, 'score': 0.50571435689926147, 'move': Move.from_uci('c1d2'), 'dead': False}\n",
      "{'temp_score': 0.50571435689926147, 'score': 0.5, 'move': Move.from_uci('d5e4'), 'dead': False}\n",
      "{'temp_score': 0.50571435689926147, 'score': 0.50571435689926147, 'move': Move.from_uci('c1d2'), 'dead': False}\n",
      "{'temp_score': 0.50571435689926147, 'score': 0.5, 'move': Move.from_uci('d5e4'), 'dead': False}\n",
      "{'temp_score': 0.50571435689926147, 'score': 0.50571435689926147, 'move': Move.from_uci('c1d2'), 'dead': False}\n",
      "{'temp_score': 0.50571435689926147, 'score': 0.5, 'move': Move.from_uci('d5e4'), 'dead': False}\n",
      "{'temp_score': 0.50571435689926147, 'score': 0.50571435689926147, 'move': Move.from_uci('c1d2'), 'dead': False}\n",
      "{'temp_score': 0.50571435689926147, 'score': 0.5, 'move': Move.from_uci('d5e4'), 'dead': False}\n",
      "{'temp_score': 0.50571435689926147, 'score': 0.50571435689926147, 'move': Move.from_uci('c1d2'), 'dead': False}\n",
      "{'temp_score': 0.50571435689926147, 'score': 0.5, 'move': Move.from_uci('d5e4'), 'dead': False}\n",
      "{'temp_score': 0.50571435689926147, 'score': 0.50571435689926147, 'move': Move.from_uci('c1d2'), 'dead': False}\n",
      "{'temp_score': 0.50571435689926147, 'score': 0.5, 'move': Move.from_uci('d5e4'), 'dead': False}\n",
      "{'temp_score': 0.50571435689926147, 'score': 0.50571435689926147, 'move': Move.from_uci('c1d2'), 'dead': False}\n",
      "{'temp_score': 0.50571435689926147, 'score': 0.5, 'move': Move.from_uci('d5e4'), 'dead': False}\n",
      "{'temp_score': 0.50571435689926147, 'score': 0.50571435689926147, 'move': Move.from_uci('c1d2'), 'dead': False}\n",
      "{'temp_score': 0.50571435689926147, 'score': 0.5, 'move': Move.from_uci('d5e4'), 'dead': False}\n",
      "{'temp_score': 0.50571435689926147, 'score': 0.50571435689926147, 'move': Move.from_uci('c1d2'), 'dead': False}\n",
      "{'temp_score': 0.50571435689926147, 'score': 0.5, 'move': Move.from_uci('d5e4'), 'dead': False}\n",
      "{'temp_score': 0.50571435689926147, 'score': 0.50571435689926147, 'move': Move.from_uci('c1d2'), 'dead': False}\n",
      "{'temp_score': 0.50571435689926147, 'score': 0.5, 'move': Move.from_uci('d5e4'), 'dead': False}\n",
      "{'temp_score': 0.50571435689926147, 'score': 0.50571435689926147, 'move': Move.from_uci('c1d2'), 'dead': False}\n",
      "{'temp_score': 0.50571435689926147, 'score': 0.5, 'move': Move.from_uci('d5e4'), 'dead': False}\n",
      "{'temp_score': 0.50571435689926147, 'score': 0.50571435689926147, 'move': Move.from_uci('c1d2'), 'dead': False}\n",
      "{'temp_score': 0.50571435689926147, 'score': 0.5, 'move': Move.from_uci('d5e4'), 'dead': False}\n",
      "{'temp_score': 0.50571435689926147, 'score': 0.50571435689926147, 'move': Move.from_uci('c1d2'), 'dead': False}\n",
      "{'temp_score': 0.50571435689926147, 'score': 0.5, 'move': Move.from_uci('d5e4'), 'dead': False}\n",
      "{'temp_score': 0.50571435689926147, 'score': 0.50571435689926147, 'move': Move.from_uci('c1d2'), 'dead': False}\n",
      "{'temp_score': 0.50571435689926147, 'score': 0.5, 'move': Move.from_uci('d5e4'), 'dead': False}\n",
      "{'temp_score': 0.50571435689926147, 'score': 0.50571435689926147, 'move': Move.from_uci('c1d2'), 'dead': False}\n",
      "{'temp_score': 0.50571435689926147, 'score': 0.5, 'move': Move.from_uci('d5e4'), 'dead': False}\n",
      "{'temp_score': 0.50571435689926147, 'score': 0.50571435689926147, 'move': Move.from_uci('c1d2'), 'dead': False}\n",
      "{'temp_score': 0.50571435689926147, 'score': 0.5, 'move': Move.from_uci('d5e4'), 'dead': False}\n",
      "{'temp_score': 0.50571435689926147, 'score': 0.50571435689926147, 'move': Move.from_uci('c1d2'), 'dead': False}\n",
      "{'temp_score': 0.50571435689926147, 'score': 0.5, 'move': Move.from_uci('d5e4'), 'dead': False}\n",
      "{'temp_score': 0.50571435689926147, 'score': 0.50571435689926147, 'move': Move.from_uci('c1d2'), 'dead': False}\n",
      "{'temp_score': 0.50571435689926147, 'score': 0.5, 'move': Move.from_uci('d5e4'), 'dead': False}\n",
      "{'temp_score': 0.50571435689926147, 'score': 0.50571435689926147, 'move': Move.from_uci('c1d2'), 'dead': False}\n",
      "{'temp_score': 0.50571435689926147, 'score': 0.5, 'move': Move.from_uci('d5e4'), 'dead': False}\n",
      "{'temp_score': 0.50571435689926147, 'score': 0.50571435689926147, 'move': Move.from_uci('c1d2'), 'dead': False}\n",
      "{'temp_score': 0.50571435689926147, 'score': 0.5, 'move': Move.from_uci('d5e4'), 'dead': False}\n",
      "{'temp_score': 0.50571435689926147, 'score': 0.50571435689926147, 'move': Move.from_uci('c1d2'), 'dead': False}\n",
      "{'temp_score': 0.50571435689926147, 'score': 0.5, 'move': Move.from_uci('d5e4'), 'dead': False}\n",
      "0.5 917\n"
     ]
    },
    {
     "data": {
      "image/svg+xml": [
       "<svg xmlns=\"http://www.w3.org/2000/svg\" version=\"1.1\" xmlns:xlink=\"http://www.w3.org/1999/xlink\" width=\"400\" height=\"400\"><style>.square.light {\n",
       "  fill: #ffce9e;\n",
       "}\n",
       ".square.dark {\n",
       "  fill: #d18b47;\n",
       "}\n",
       "\n",
       ".square.dark.lastmove {\n",
       "  fill: #aaa23b;\n",
       "}\n",
       ".square.light.lastmove {\n",
       "  fill: #cdd16a;\n",
       "}\n",
       "\n",
       ".check {\n",
       "  fill: url(#check_gradient);\n",
       "}\n",
       "</style><defs><g id=\"white-pawn\" class=\"white pawn\"><path d=\"M22 9c-2.21 0-4 1.79-4 4 0 .89.29 1.71.78 2.38-1.95 1.12-3.28 3.21-3.28 5.62 0 2.03.94 3.84 2.41 5.03-3 1.06-7.41 5.55-7.41 13.47h23c0-7.92-4.41-12.41-7.41-13.47 1.47-1.19 2.41-3 2.41-5.03 0-2.41-1.33-4.5-3.28-5.62.49-.67.78-1.49.78-2.38 0-2.21-1.79-4-4-4z\" fill=\"#fff\" stroke=\"#000\" stroke-width=\"1.5\" stroke-linecap=\"round\"/></g><g id=\"black-queen\" class=\"black-queen\" fill=\"0\" fill-rule=\"evenodd\" stroke=\"#000\" stroke-width=\"1.5\" stroke-linecap=\"round\" stroke-linejoin=\"round\"><g fill=\"#000\" stroke=\"none\"><circle cx=\"6\" cy=\"12\" r=\"2.75\"/><circle cx=\"14\" cy=\"9\" r=\"2.75\"/><circle cx=\"22.5\" cy=\"8\" r=\"2.75\"/><circle cx=\"31\" cy=\"9\" r=\"2.75\"/><circle cx=\"39\" cy=\"12\" r=\"2.75\"/></g><path d=\"M9 26c8.5-1.5 21-1.5 27 0l2.5-12.5L31 25l-.3-14.1-5.2 13.6-3-14.5-3 14.5-5.2-13.6L14 25 6.5 13.5 9 26zM9 26c0 2 1.5 2 2.5 4 1 1.5 1 1 .5 3.5-1.5 1-1.5 2.5-1.5 2.5-1.5 1.5.5 2.5.5 2.5 6.5 1 16.5 1 23 0 0 0 1.5-1 0-2.5 0 0 .5-1.5-1-2.5-.5-2.5-.5-2 .5-3.5 1-2 2.5-2 2.5-4-8.5-1.5-18.5-1.5-27 0z\" stroke-linecap=\"butt\"/><path d=\"M11 38.5a35 35 1 0 0 23 0\" fill=\"none\" stroke-linecap=\"butt\"/><path d=\"M11 29a35 35 1 0 1 23 0M12.5 31.5h20M11.5 34.5a35 35 1 0 0 22 0M10.5 37.5a35 35 1 0 0 24 0\" fill=\"none\" stroke=\"#fff\"/></g><g id=\"white-knight\" class=\"white knight\" fill=\"none\" fill-rule=\"evenodd\" stroke=\"#000\" stroke-width=\"1.5\" stroke-linecap=\"round\" stroke-linejoin=\"round\"><path d=\"M 22,10 C 32.5,11 38.5,18 38,39 L 15,39 C 15,30 25,32.5 23,18\" style=\"fill:#ffffff; stroke:#000000;\"/><path d=\"M 24,18 C 24.38,20.91 18.45,25.37 16,27 C 13,29 13.18,31.34 11,31 C 9.958,30.06 12.41,27.96 11,28 C 10,28 11.19,29.23 10,30 C 9,30 5.997,31 6,26 C 6,24 12,14 12,14 C 12,14 13.89,12.1 14,10.5 C 13.27,9.506 13.5,8.5 13.5,7.5 C 14.5,6.5 16.5,10 16.5,10 L 18.5,10 C 18.5,10 19.28,8.008 21,7 C 22,7 22,10 22,10\" style=\"fill:#ffffff; stroke:#000000;\"/><path d=\"M 9.5 25.5 A 0.5 0.5 0 1 1 8.5,25.5 A 0.5 0.5 0 1 1 9.5 25.5 z\" style=\"fill:#000000; stroke:#000000;\"/><path d=\"M 15 15.5 A 0.5 1.5 0 1 1 14,15.5 A 0.5 1.5 0 1 1 15 15.5 z\" transform=\"matrix(0.866,0.5,-0.5,0.866,9.693,-5.173)\" style=\"fill:#000000; stroke:#000000;\"/></g><g id=\"black-bishop\" class=\"black bishop\" fill=\"none\" fill-rule=\"evenodd\" stroke=\"#000\" stroke-width=\"1.5\" stroke-linecap=\"round\" stroke-linejoin=\"round\"><path d=\"M9 36c3.39-.97 10.11.43 13.5-2 3.39 2.43 10.11 1.03 13.5 2 0 0 1.65.54 3 2-.68.97-1.65.99-3 .5-3.39-.97-10.11.46-13.5-1-3.39 1.46-10.11.03-13.5 1-1.354.49-2.323.47-3-.5 1.354-1.94 3-2 3-2zm6-4c2.5 2.5 12.5 2.5 15 0 .5-1.5 0-2 0-2 0-2.5-2.5-4-2.5-4 5.5-1.5 6-11.5-5-15.5-11 4-10.5 14-5 15.5 0 0-2.5 1.5-2.5 4 0 0-.5.5 0 2zM25 8a2.5 2.5 0 1 1-5 0 2.5 2.5 0 1 1 5 0z\" fill=\"#000\" stroke-linecap=\"butt\"/><path d=\"M17.5 26h10M15 30h15m-7.5-14.5v5M20 18h5\" stroke=\"#fff\" stroke-linejoin=\"miter\"/></g><g id=\"black-king\" class=\"black king\" fill=\"none\" fill-rule=\"evenodd\" stroke=\"#000\" stroke-width=\"1.5\" stroke-linecap=\"round\" stroke-linejoin=\"round\"><path d=\"M22.5 11.63V6\" stroke-linejoin=\"miter\"/><path d=\"M22.5 25s4.5-7.5 3-10.5c0 0-1-2.5-3-2.5s-3 2.5-3 2.5c-1.5 3 3 10.5 3 10.5\" fill=\"#000\" stroke-linecap=\"butt\" stroke-linejoin=\"miter\"/><path d=\"M11.5 37c5.5 3.5 15.5 3.5 21 0v-7s9-4.5 6-10.5c-4-6.5-13.5-3.5-16 4V27v-3.5c-3.5-7.5-13-10.5-16-4-3 6 5 10 5 10V37z\" fill=\"#000\"/><path d=\"M20 8h5\" stroke-linejoin=\"miter\"/><path d=\"M32 29.5s8.5-4 6.03-9.65C34.15 14 25 18 22.5 24.5l.01 2.1-.01-2.1C20 18 9.906 14 6.997 19.85c-2.497 5.65 4.853 9 4.853 9M11.5 30c5.5-3 15.5-3 21 0m-21 3.5c5.5-3 15.5-3 21 0m-21 3.5c5.5-3 15.5-3 21 0\" stroke=\"#fff\"/></g><g id=\"black-pawn\" class=\"black pawn\"><path d=\"M22 9c-2.21 0-4 1.79-4 4 0 .89.29 1.71.78 2.38-1.95 1.12-3.28 3.21-3.28 5.62 0 2.03.94 3.84 2.41 5.03-3 1.06-7.41 5.55-7.41 13.47h23c0-7.92-4.41-12.41-7.41-13.47 1.47-1.19 2.41-3 2.41-5.03 0-2.41-1.33-4.5-3.28-5.62.49-.67.78-1.49.78-2.38 0-2.21-1.79-4-4-4z\" stroke=\"#000\" stroke-width=\"1.5\" stroke-linecap=\"round\"/></g><g id=\"white-queen\" class=\"white queen\" fill=\"#fff\" fill-rule=\"evenodd\" stroke=\"#000\" stroke-width=\"1.5\" stroke-linecap=\"round\" stroke-linejoin=\"round\"><path d=\"M8 12a2 2 0 1 1-4 0 2 2 0 1 1 4 0zM24.5 7.5a2 2 0 1 1-4 0 2 2 0 1 1 4 0zM41 12a2 2 0 1 1-4 0 2 2 0 1 1 4 0zM16 8.5a2 2 0 1 1-4 0 2 2 0 1 1 4 0zM33 9a2 2 0 1 1-4 0 2 2 0 1 1 4 0z\"/><path d=\"M9 26c8.5-1.5 21-1.5 27 0l2-12-7 11V11l-5.5 13.5-3-15-3 15-5.5-14V25L7 14l2 12zM9 26c0 2 1.5 2 2.5 4 1 1.5 1 1 .5 3.5-1.5 1-1.5 2.5-1.5 2.5-1.5 1.5.5 2.5.5 2.5 6.5 1 16.5 1 23 0 0 0 1.5-1 0-2.5 0 0 .5-1.5-1-2.5-.5-2.5-.5-2 .5-3.5 1-2 2.5-2 2.5-4-8.5-1.5-18.5-1.5-27 0z\" stroke-linecap=\"butt\"/><path d=\"M11.5 30c3.5-1 18.5-1 22 0M12 33.5c6-1 15-1 21 0\" fill=\"none\"/></g><g id=\"black-knight\" class=\"black knight\" fill=\"none\" fill-rule=\"evenodd\" stroke=\"#000\" stroke-width=\"1.5\" stroke-linecap=\"round\" stroke-linejoin=\"round\"><path d=\"M 22,10 C 32.5,11 38.5,18 38,39 L 15,39 C 15,30 25,32.5 23,18\" style=\"fill:#000000; stroke:#000000;\"/><path d=\"M 24,18 C 24.38,20.91 18.45,25.37 16,27 C 13,29 13.18,31.34 11,31 C 9.958,30.06 12.41,27.96 11,28 C 10,28 11.19,29.23 10,30 C 9,30 5.997,31 6,26 C 6,24 12,14 12,14 C 12,14 13.89,12.1 14,10.5 C 13.27,9.506 13.5,8.5 13.5,7.5 C 14.5,6.5 16.5,10 16.5,10 L 18.5,10 C 18.5,10 19.28,8.008 21,7 C 22,7 22,10 22,10\" style=\"fill:#000000; stroke:#000000;\"/><path d=\"M 9.5 25.5 A 0.5 0.5 0 1 1 8.5,25.5 A 0.5 0.5 0 1 1 9.5 25.5 z\" style=\"fill:#ececec; stroke:#ececec;\"/><path d=\"M 15 15.5 A 0.5 1.5 0 1 1 14,15.5 A 0.5 1.5 0 1 1 15 15.5 z\" transform=\"matrix(0.866,0.5,-0.5,0.866,9.693,-5.173)\" style=\"fill:#ececec; stroke:#ececec;\"/><path d=\"M 24.55,10.4 L 24.1,11.85 L 24.6,12 C 27.75,13 30.25,14.49 32.5,18.75 C 34.75,23.01 35.75,29.06 35.25,39 L 35.2,39.5 L 37.45,39.5 L 37.5,39 C 38,28.94 36.62,22.15 34.25,17.66 C 31.88,13.17 28.46,11.02 25.06,10.5 L 24.55,10.4 z \" style=\"fill:#ececec; stroke:none;\"/></g><g id=\"black-rook\" class=\"black rook\" fill=\"0\" fill-rule=\"evenodd\" stroke=\"#000\" stroke-width=\"1.5\" stroke-linecap=\"round\" stroke-linejoin=\"round\"><path d=\"M9 39h27v-3H9v3zM12.5 32l1.5-2.5h17l1.5 2.5h-20zM12 36v-4h21v4H12z\" stroke-linecap=\"butt\"/><path d=\"M14 29.5v-13h17v13H14z\" stroke-linecap=\"butt\" stroke-linejoin=\"miter\"/><path d=\"M14 16.5L11 14h23l-3 2.5H14zM11 14V9h4v2h5V9h5v2h5V9h4v5H11z\" stroke-linecap=\"butt\"/><path d=\"M12 35.5h21M13 31.5h19M14 29.5h17M14 16.5h17M11 14h23\" fill=\"none\" stroke=\"#fff\" stroke-width=\"1\" stroke-linejoin=\"miter\"/></g><g id=\"white-bishop\" class=\"white bishop\" fill=\"none\" fill-rule=\"evenodd\" stroke=\"#000\" stroke-width=\"1.5\" stroke-linecap=\"round\" stroke-linejoin=\"round\"><g fill=\"#fff\" stroke-linecap=\"butt\"><path d=\"M9 36c3.39-.97 10.11.43 13.5-2 3.39 2.43 10.11 1.03 13.5 2 0 0 1.65.54 3 2-.68.97-1.65.99-3 .5-3.39-.97-10.11.46-13.5-1-3.39 1.46-10.11.03-13.5 1-1.354.49-2.323.47-3-.5 1.354-1.94 3-2 3-2zM15 32c2.5 2.5 12.5 2.5 15 0 .5-1.5 0-2 0-2 0-2.5-2.5-4-2.5-4 5.5-1.5 6-11.5-5-15.5-11 4-10.5 14-5 15.5 0 0-2.5 1.5-2.5 4 0 0-.5.5 0 2zM25 8a2.5 2.5 0 1 1-5 0 2.5 2.5 0 1 1 5 0z\"/></g><path d=\"M17.5 26h10M15 30h15m-7.5-14.5v5M20 18h5\" stroke-linejoin=\"miter\"/></g><g id=\"white-rook\" class=\"white rook\" fill=\"#fff\" fill-rule=\"evenodd\" stroke=\"#000\" stroke-width=\"1.5\" stroke-linecap=\"round\" stroke-linejoin=\"round\"><path d=\"M9 39h27v-3H9v3zM12 36v-4h21v4H12zM11 14V9h4v2h5V9h5v2h5V9h4v5\" stroke-linecap=\"butt\"/><path d=\"M34 14l-3 3H14l-3-3\"/><path d=\"M31 17v12.5H14V17\" stroke-linecap=\"butt\" stroke-linejoin=\"miter\"/><path d=\"M31 29.5l1.5 2.5h-20l1.5-2.5\"/><path d=\"M11 14h23\" fill=\"none\" stroke-linejoin=\"miter\"/></g><g id=\"white-king\" class=\"white king\" fill=\"none\" fill-rule=\"evenodd\" stroke=\"#000\" stroke-width=\"1.5\" stroke-linecap=\"round\" stroke-linejoin=\"round\"><path d=\"M22.5 11.63V6M20 8h5\" stroke-linejoin=\"miter\"/><path d=\"M22.5 25s4.5-7.5 3-10.5c0 0-1-2.5-3-2.5s-3 2.5-3 2.5c-1.5 3 3 10.5 3 10.5\" fill=\"#fff\" stroke-linecap=\"butt\" stroke-linejoin=\"miter\"/><path d=\"M11.5 37c5.5 3.5 15.5 3.5 21 0v-7s9-4.5 6-10.5c-4-6.5-13.5-3.5-16 4V27v-3.5c-3.5-7.5-13-10.5-16-4-3 6 5 10 5 10V37z\" fill=\"#fff\"/><path d=\"M11.5 30c5.5-3 15.5-3 21 0m-21 3.5c5.5-3 15.5-3 21 0m-21 3.5c5.5-3 15.5-3 21 0\"/></g></defs><rect x=\"20.000000\" y=\"335.000000\" class=\"square dark a1\" width=\"45.000000\" height=\"45.000000\" style=\"stroke: none;\" /><use xlink:href=\"#white-rook\" transform=\"translate(20.000000, 335.000000) scale(1.000000 1.000000)\" /><rect x=\"65.000000\" y=\"335.000000\" class=\"square light b1\" width=\"45.000000\" height=\"45.000000\" style=\"stroke: none;\" /><use xlink:href=\"#white-knight\" transform=\"translate(65.000000, 335.000000) scale(1.000000 1.000000)\" /><rect x=\"110.000000\" y=\"335.000000\" class=\"square dark c1\" width=\"45.000000\" height=\"45.000000\" style=\"stroke: none;\" /><use xlink:href=\"#white-bishop\" transform=\"translate(110.000000, 335.000000) scale(1.000000 1.000000)\" /><rect x=\"155.000000\" y=\"335.000000\" class=\"square light d1\" width=\"45.000000\" height=\"45.000000\" style=\"stroke: none;\" /><use xlink:href=\"#white-queen\" transform=\"translate(155.000000, 335.000000) scale(1.000000 1.000000)\" /><rect x=\"200.000000\" y=\"335.000000\" class=\"square dark e1\" width=\"45.000000\" height=\"45.000000\" style=\"stroke: none;\" /><use xlink:href=\"#white-king\" transform=\"translate(200.000000, 335.000000) scale(1.000000 1.000000)\" /><rect x=\"245.000000\" y=\"335.000000\" class=\"square light f1\" width=\"45.000000\" height=\"45.000000\" style=\"stroke: none;\" /><use xlink:href=\"#white-bishop\" transform=\"translate(245.000000, 335.000000) scale(1.000000 1.000000)\" /><rect x=\"290.000000\" y=\"335.000000\" class=\"square dark g1\" width=\"45.000000\" height=\"45.000000\" style=\"stroke: none;\" /><use xlink:href=\"#white-knight\" transform=\"translate(290.000000, 335.000000) scale(1.000000 1.000000)\" /><rect x=\"335.000000\" y=\"335.000000\" class=\"square light h1\" width=\"45.000000\" height=\"45.000000\" style=\"stroke: none;\" /><use xlink:href=\"#white-rook\" transform=\"translate(335.000000, 335.000000) scale(1.000000 1.000000)\" /><rect x=\"20.000000\" y=\"290.000000\" class=\"square light a2\" width=\"45.000000\" height=\"45.000000\" style=\"stroke: none;\" /><use xlink:href=\"#white-pawn\" transform=\"translate(20.000000, 290.000000) scale(1.000000 1.000000)\" /><rect x=\"65.000000\" y=\"290.000000\" class=\"square dark b2\" width=\"45.000000\" height=\"45.000000\" style=\"stroke: none;\" /><use xlink:href=\"#white-pawn\" transform=\"translate(65.000000, 290.000000) scale(1.000000 1.000000)\" /><rect x=\"110.000000\" y=\"290.000000\" class=\"square light c2\" width=\"45.000000\" height=\"45.000000\" style=\"stroke: none;\" /><use xlink:href=\"#white-pawn\" transform=\"translate(110.000000, 290.000000) scale(1.000000 1.000000)\" /><rect x=\"155.000000\" y=\"290.000000\" class=\"square dark d2\" width=\"45.000000\" height=\"45.000000\" style=\"stroke: none;\" /><rect x=\"200.000000\" y=\"290.000000\" class=\"square light e2\" width=\"45.000000\" height=\"45.000000\" style=\"stroke: none;\" /><use xlink:href=\"#white-pawn\" transform=\"translate(200.000000, 290.000000) scale(1.000000 1.000000)\" /><rect x=\"245.000000\" y=\"290.000000\" class=\"square dark f2\" width=\"45.000000\" height=\"45.000000\" style=\"stroke: none;\" /><use xlink:href=\"#white-pawn\" transform=\"translate(245.000000, 290.000000) scale(1.000000 1.000000)\" /><rect x=\"290.000000\" y=\"290.000000\" class=\"square light g2\" width=\"45.000000\" height=\"45.000000\" style=\"stroke: none;\" /><use xlink:href=\"#white-pawn\" transform=\"translate(290.000000, 290.000000) scale(1.000000 1.000000)\" /><rect x=\"335.000000\" y=\"290.000000\" class=\"square dark h2\" width=\"45.000000\" height=\"45.000000\" style=\"stroke: none;\" /><use xlink:href=\"#white-pawn\" transform=\"translate(335.000000, 290.000000) scale(1.000000 1.000000)\" /><rect x=\"20.000000\" y=\"245.000000\" class=\"square dark a3\" width=\"45.000000\" height=\"45.000000\" style=\"stroke: none;\" /><rect x=\"65.000000\" y=\"245.000000\" class=\"square light b3\" width=\"45.000000\" height=\"45.000000\" style=\"stroke: none;\" /><rect x=\"110.000000\" y=\"245.000000\" class=\"square dark c3\" width=\"45.000000\" height=\"45.000000\" style=\"stroke: none;\" /><rect x=\"155.000000\" y=\"245.000000\" class=\"square light d3\" width=\"45.000000\" height=\"45.000000\" style=\"stroke: none;\" /><rect x=\"200.000000\" y=\"245.000000\" class=\"square dark e3\" width=\"45.000000\" height=\"45.000000\" style=\"stroke: none;\" /><rect x=\"245.000000\" y=\"245.000000\" class=\"square light f3\" width=\"45.000000\" height=\"45.000000\" style=\"stroke: none;\" /><rect x=\"290.000000\" y=\"245.000000\" class=\"square dark g3\" width=\"45.000000\" height=\"45.000000\" style=\"stroke: none;\" /><rect x=\"335.000000\" y=\"245.000000\" class=\"square light h3\" width=\"45.000000\" height=\"45.000000\" style=\"stroke: none;\" /><rect x=\"20.000000\" y=\"200.000000\" class=\"square light a4\" width=\"45.000000\" height=\"45.000000\" style=\"stroke: none;\" /><rect x=\"65.000000\" y=\"200.000000\" class=\"square dark b4\" width=\"45.000000\" height=\"45.000000\" style=\"stroke: none;\" /><rect x=\"110.000000\" y=\"200.000000\" class=\"square light c4\" width=\"45.000000\" height=\"45.000000\" style=\"stroke: none;\" /><rect x=\"155.000000\" y=\"200.000000\" class=\"square dark d4\" width=\"45.000000\" height=\"45.000000\" style=\"stroke: none;\" /><use xlink:href=\"#white-pawn\" transform=\"translate(155.000000, 200.000000) scale(1.000000 1.000000)\" /><rect x=\"200.000000\" y=\"200.000000\" class=\"square light e4\" width=\"45.000000\" height=\"45.000000\" style=\"stroke: none;\" /><rect x=\"245.000000\" y=\"200.000000\" class=\"square dark f4\" width=\"45.000000\" height=\"45.000000\" style=\"stroke: none;\" /><rect x=\"290.000000\" y=\"200.000000\" class=\"square light g4\" width=\"45.000000\" height=\"45.000000\" style=\"stroke: none;\" /><rect x=\"335.000000\" y=\"200.000000\" class=\"square dark h4\" width=\"45.000000\" height=\"45.000000\" style=\"stroke: none;\" /><rect x=\"20.000000\" y=\"155.000000\" class=\"square dark a5\" width=\"45.000000\" height=\"45.000000\" style=\"stroke: none;\" /><rect x=\"65.000000\" y=\"155.000000\" class=\"square light b5\" width=\"45.000000\" height=\"45.000000\" style=\"stroke: none;\" /><rect x=\"110.000000\" y=\"155.000000\" class=\"square dark c5\" width=\"45.000000\" height=\"45.000000\" style=\"stroke: none;\" /><rect x=\"155.000000\" y=\"155.000000\" class=\"square light d5 lastmove\" width=\"45.000000\" height=\"45.000000\" style=\"stroke: none;\" /><use xlink:href=\"#black-pawn\" transform=\"translate(155.000000, 155.000000) scale(1.000000 1.000000)\" /><rect x=\"200.000000\" y=\"155.000000\" class=\"square dark e5\" width=\"45.000000\" height=\"45.000000\" style=\"stroke: none;\" /><rect x=\"245.000000\" y=\"155.000000\" class=\"square light f5\" width=\"45.000000\" height=\"45.000000\" style=\"stroke: none;\" /><rect x=\"290.000000\" y=\"155.000000\" class=\"square dark g5\" width=\"45.000000\" height=\"45.000000\" style=\"stroke: none;\" /><rect x=\"335.000000\" y=\"155.000000\" class=\"square light h5\" width=\"45.000000\" height=\"45.000000\" style=\"stroke: none;\" /><rect x=\"20.000000\" y=\"110.000000\" class=\"square light a6\" width=\"45.000000\" height=\"45.000000\" style=\"stroke: none;\" /><rect x=\"65.000000\" y=\"110.000000\" class=\"square dark b6\" width=\"45.000000\" height=\"45.000000\" style=\"stroke: none;\" /><rect x=\"110.000000\" y=\"110.000000\" class=\"square light c6\" width=\"45.000000\" height=\"45.000000\" style=\"stroke: none;\" /><rect x=\"155.000000\" y=\"110.000000\" class=\"square dark d6\" width=\"45.000000\" height=\"45.000000\" style=\"stroke: none;\" /><rect x=\"200.000000\" y=\"110.000000\" class=\"square light e6\" width=\"45.000000\" height=\"45.000000\" style=\"stroke: none;\" /><rect x=\"245.000000\" y=\"110.000000\" class=\"square dark f6\" width=\"45.000000\" height=\"45.000000\" style=\"stroke: none;\" /><rect x=\"290.000000\" y=\"110.000000\" class=\"square light g6\" width=\"45.000000\" height=\"45.000000\" style=\"stroke: none;\" /><rect x=\"335.000000\" y=\"110.000000\" class=\"square dark h6\" width=\"45.000000\" height=\"45.000000\" style=\"stroke: none;\" /><rect x=\"20.000000\" y=\"65.000000\" class=\"square dark a7\" width=\"45.000000\" height=\"45.000000\" style=\"stroke: none;\" /><use xlink:href=\"#black-pawn\" transform=\"translate(20.000000, 65.000000) scale(1.000000 1.000000)\" /><rect x=\"65.000000\" y=\"65.000000\" class=\"square light b7\" width=\"45.000000\" height=\"45.000000\" style=\"stroke: none;\" /><use xlink:href=\"#black-pawn\" transform=\"translate(65.000000, 65.000000) scale(1.000000 1.000000)\" /><rect x=\"110.000000\" y=\"65.000000\" class=\"square dark c7\" width=\"45.000000\" height=\"45.000000\" style=\"stroke: none;\" /><use xlink:href=\"#black-pawn\" transform=\"translate(110.000000, 65.000000) scale(1.000000 1.000000)\" /><rect x=\"155.000000\" y=\"65.000000\" class=\"square light d7 lastmove\" width=\"45.000000\" height=\"45.000000\" style=\"stroke: none;\" /><rect x=\"200.000000\" y=\"65.000000\" class=\"square dark e7\" width=\"45.000000\" height=\"45.000000\" style=\"stroke: none;\" /><use xlink:href=\"#black-pawn\" transform=\"translate(200.000000, 65.000000) scale(1.000000 1.000000)\" /><rect x=\"245.000000\" y=\"65.000000\" class=\"square light f7\" width=\"45.000000\" height=\"45.000000\" style=\"stroke: none;\" /><use xlink:href=\"#black-pawn\" transform=\"translate(245.000000, 65.000000) scale(1.000000 1.000000)\" /><rect x=\"290.000000\" y=\"65.000000\" class=\"square dark g7\" width=\"45.000000\" height=\"45.000000\" style=\"stroke: none;\" /><use xlink:href=\"#black-pawn\" transform=\"translate(290.000000, 65.000000) scale(1.000000 1.000000)\" /><rect x=\"335.000000\" y=\"65.000000\" class=\"square light h7\" width=\"45.000000\" height=\"45.000000\" style=\"stroke: none;\" /><use xlink:href=\"#black-pawn\" transform=\"translate(335.000000, 65.000000) scale(1.000000 1.000000)\" /><rect x=\"20.000000\" y=\"20.000000\" class=\"square light a8\" width=\"45.000000\" height=\"45.000000\" style=\"stroke: none;\" /><use xlink:href=\"#black-rook\" transform=\"translate(20.000000, 20.000000) scale(1.000000 1.000000)\" /><rect x=\"65.000000\" y=\"20.000000\" class=\"square dark b8\" width=\"45.000000\" height=\"45.000000\" style=\"stroke: none;\" /><use xlink:href=\"#black-knight\" transform=\"translate(65.000000, 20.000000) scale(1.000000 1.000000)\" /><rect x=\"110.000000\" y=\"20.000000\" class=\"square light c8\" width=\"45.000000\" height=\"45.000000\" style=\"stroke: none;\" /><use xlink:href=\"#black-bishop\" transform=\"translate(110.000000, 20.000000) scale(1.000000 1.000000)\" /><rect x=\"155.000000\" y=\"20.000000\" class=\"square dark d8\" width=\"45.000000\" height=\"45.000000\" style=\"stroke: none;\" /><use xlink:href=\"#black-queen\" transform=\"translate(155.000000, 20.000000) scale(1.000000 1.000000)\" /><rect x=\"200.000000\" y=\"20.000000\" class=\"square light e8\" width=\"45.000000\" height=\"45.000000\" style=\"stroke: none;\" /><use xlink:href=\"#black-king\" transform=\"translate(200.000000, 20.000000) scale(1.000000 1.000000)\" /><rect x=\"245.000000\" y=\"20.000000\" class=\"square dark f8\" width=\"45.000000\" height=\"45.000000\" style=\"stroke: none;\" /><use xlink:href=\"#black-bishop\" transform=\"translate(245.000000, 20.000000) scale(1.000000 1.000000)\" /><rect x=\"290.000000\" y=\"20.000000\" class=\"square light g8\" width=\"45.000000\" height=\"45.000000\" style=\"stroke: none;\" /><use xlink:href=\"#black-knight\" transform=\"translate(290.000000, 20.000000) scale(1.000000 1.000000)\" /><rect x=\"335.000000\" y=\"20.000000\" class=\"square dark h8\" width=\"45.000000\" height=\"45.000000\" style=\"stroke: none;\" /><use xlink:href=\"#black-rook\" transform=\"translate(335.000000, 20.000000) scale(1.000000 1.000000)\" /><text x=\"42\" y=\"10\" text-anchor=\"middle\" alignment-baseline=\"middle\" font-size=\"14\">a</text><text x=\"42\" y=\"390\" text-anchor=\"middle\" alignment-baseline=\"middle\" font-size=\"14\">a</text><text x=\"87\" y=\"10\" text-anchor=\"middle\" alignment-baseline=\"middle\" font-size=\"14\">b</text><text x=\"87\" y=\"390\" text-anchor=\"middle\" alignment-baseline=\"middle\" font-size=\"14\">b</text><text x=\"132\" y=\"10\" text-anchor=\"middle\" alignment-baseline=\"middle\" font-size=\"14\">c</text><text x=\"132\" y=\"390\" text-anchor=\"middle\" alignment-baseline=\"middle\" font-size=\"14\">c</text><text x=\"177\" y=\"10\" text-anchor=\"middle\" alignment-baseline=\"middle\" font-size=\"14\">d</text><text x=\"177\" y=\"390\" text-anchor=\"middle\" alignment-baseline=\"middle\" font-size=\"14\">d</text><text x=\"222\" y=\"10\" text-anchor=\"middle\" alignment-baseline=\"middle\" font-size=\"14\">e</text><text x=\"222\" y=\"390\" text-anchor=\"middle\" alignment-baseline=\"middle\" font-size=\"14\">e</text><text x=\"267\" y=\"10\" text-anchor=\"middle\" alignment-baseline=\"middle\" font-size=\"14\">f</text><text x=\"267\" y=\"390\" text-anchor=\"middle\" alignment-baseline=\"middle\" font-size=\"14\">f</text><text x=\"312\" y=\"10\" text-anchor=\"middle\" alignment-baseline=\"middle\" font-size=\"14\">g</text><text x=\"312\" y=\"390\" text-anchor=\"middle\" alignment-baseline=\"middle\" font-size=\"14\">g</text><text x=\"357\" y=\"10\" text-anchor=\"middle\" alignment-baseline=\"middle\" font-size=\"14\">h</text><text x=\"357\" y=\"390\" text-anchor=\"middle\" alignment-baseline=\"middle\" font-size=\"14\">h</text><text x=\"10\" y=\"357\" text-anchor=\"middle\" alignment-baseline=\"middle\" font-size=\"14\">1</text><text x=\"390\" y=\"357\" text-anchor=\"middle\" alignment-baseline=\"middle\" font-size=\"14\">1</text><text x=\"10\" y=\"312\" text-anchor=\"middle\" alignment-baseline=\"middle\" font-size=\"14\">2</text><text x=\"390\" y=\"312\" text-anchor=\"middle\" alignment-baseline=\"middle\" font-size=\"14\">2</text><text x=\"10\" y=\"267\" text-anchor=\"middle\" alignment-baseline=\"middle\" font-size=\"14\">3</text><text x=\"390\" y=\"267\" text-anchor=\"middle\" alignment-baseline=\"middle\" font-size=\"14\">3</text><text x=\"10\" y=\"222\" text-anchor=\"middle\" alignment-baseline=\"middle\" font-size=\"14\">4</text><text x=\"390\" y=\"222\" text-anchor=\"middle\" alignment-baseline=\"middle\" font-size=\"14\">4</text><text x=\"10\" y=\"177\" text-anchor=\"middle\" alignment-baseline=\"middle\" font-size=\"14\">5</text><text x=\"390\" y=\"177\" text-anchor=\"middle\" alignment-baseline=\"middle\" font-size=\"14\">5</text><text x=\"10\" y=\"132\" text-anchor=\"middle\" alignment-baseline=\"middle\" font-size=\"14\">6</text><text x=\"390\" y=\"132\" text-anchor=\"middle\" alignment-baseline=\"middle\" font-size=\"14\">6</text><text x=\"10\" y=\"87\" text-anchor=\"middle\" alignment-baseline=\"middle\" font-size=\"14\">7</text><text x=\"390\" y=\"87\" text-anchor=\"middle\" alignment-baseline=\"middle\" font-size=\"14\">7</text><text x=\"10\" y=\"42\" text-anchor=\"middle\" alignment-baseline=\"middle\" font-size=\"14\">8</text><text x=\"390\" y=\"42\" text-anchor=\"middle\" alignment-baseline=\"middle\" font-size=\"14\">8</text></svg>"
      ],
      "text/plain": [
       "Board('rnbqkbnr/ppp1pppp/8/3p4/3P4/8/PPP1PPPP/RNBQKBNR w KQkq - 0 2')"
      ]
     },
     "execution_count": 4,
     "metadata": {},
     "output_type": "execute_result"
    }
   ],
   "source": [
    "if board.is_game_over():\n",
    "    print(board.result())\n",
    "else:\n",
    "    if board.turn == chess.WHITE:\n",
    "        #board.push(trainer.best_move(board, filter=True, eval=True))\n",
    "        board.push(gruefish.best_move(board, eval=True, think_time=10))\n",
    "    else:\n",
    "        #board.push(trainer.best_move(board, filter=True, eval=True))\n",
    "        board.push(gruefish2.best_move(board, eval=True, think_time=10))\n",
    "\n",
    "board"
   ]
  },
  {
   "cell_type": "code",
   "execution_count": null,
   "metadata": {
    "collapsed": false
   },
   "outputs": [],
   "source": [
    "board.pop()"
   ]
  },
  {
   "cell_type": "code",
   "execution_count": null,
   "metadata": {
    "collapsed": false
   },
   "outputs": [],
   "source": [
    "%%timeit\n",
    "\n",
    "gruefish.count_pieces(board)"
   ]
  },
  {
   "cell_type": "code",
   "execution_count": null,
   "metadata": {
    "collapsed": true
   },
   "outputs": [],
   "source": [
    "board.reset()\n",
    "gruefish.clear_cache()"
   ]
  },
  {
   "cell_type": "code",
   "execution_count": null,
   "metadata": {
    "collapsed": false,
    "scrolled": false
   },
   "outputs": [],
   "source": [
    "%%timeit\n",
    "\n",
    "gruefish.clear_cache()\n",
    "gruefish.best_move(board, depth=3, think_time=999)"
   ]
  },
  {
   "cell_type": "code",
   "execution_count": null,
   "metadata": {
    "collapsed": false
   },
   "outputs": [],
   "source": [
    "board.fen()"
   ]
  },
  {
   "cell_type": "code",
   "execution_count": null,
   "metadata": {
    "collapsed": false
   },
   "outputs": [],
   "source": [
    "board.set_fen('R7/5k2/8/2p4p/P1p2P1P/2P5/2K2P2/8 w - - 17 47')\n",
    "board"
   ]
  },
  {
   "cell_type": "code",
   "execution_count": null,
   "metadata": {
    "collapsed": false,
    "scrolled": true
   },
   "outputs": [],
   "source": [
    "chessbot.best_move(board, eval=True)"
   ]
  },
  {
   "cell_type": "code",
   "execution_count": null,
   "metadata": {
    "collapsed": false,
    "scrolled": true
   },
   "outputs": [],
   "source": [
    "while not board.is_game_over():\n",
    "    if board.turn == chess.WHITE:\n",
    "        board.push(gruefish.best_move(board, eval=True, depth=10, think_time=5))\n",
    "        #board.push(trainer.best_move(board, filter=True))\n",
    "    else:\n",
    "        #board.push(trainer.best_move(board, filter=True))\n",
    "        board.push(gruefish2.best_move(board, eval=True, depth=10, think_time=25))\n",
    "print(board.result(), len(board.move_stack))"
   ]
  },
  {
   "cell_type": "code",
   "execution_count": null,
   "metadata": {
    "collapsed": false
   },
   "outputs": [],
   "source": [
    "len(board.move_stack)"
   ]
  },
  {
   "cell_type": "code",
   "execution_count": null,
   "metadata": {
    "collapsed": true
   },
   "outputs": [],
   "source": [
    "board.reset()"
   ]
  },
  {
   "cell_type": "code",
   "execution_count": null,
   "metadata": {
    "collapsed": false
   },
   "outputs": [],
   "source": [
    "print(trainer.test_winrate())"
   ]
  },
  {
   "cell_type": "code",
   "execution_count": null,
   "metadata": {
    "collapsed": false
   },
   "outputs": [],
   "source": [
    "board, won = trainer.play_vs_sunfish(True)"
   ]
  },
  {
   "cell_type": "code",
   "execution_count": null,
   "metadata": {
    "collapsed": false
   },
   "outputs": [],
   "source": [
    "board, won = trainer.play_vs_stockfish(True, shitfish, think_time=500)"
   ]
  },
  {
   "cell_type": "code",
   "execution_count": null,
   "metadata": {
    "collapsed": false
   },
   "outputs": [],
   "source": [
    "trainer.train_from_cache()"
   ]
  },
  {
   "cell_type": "code",
   "execution_count": null,
   "metadata": {
    "collapsed": false
   },
   "outputs": [],
   "source": [
    "print(won)"
   ]
  },
  {
   "cell_type": "code",
   "execution_count": null,
   "metadata": {
    "collapsed": true
   },
   "outputs": [],
   "source": [
    "temp_board = chess.Board()\n",
    "move_num = 0"
   ]
  },
  {
   "cell_type": "code",
   "execution_count": null,
   "metadata": {
    "collapsed": false,
    "scrolled": false
   },
   "outputs": [],
   "source": [
    "if len(board.move_stack) > move_num:\n",
    "    temp_board.push(board.move_stack[move_num])\n",
    "    move_num += 1\n",
    "\n",
    "temp_board"
   ]
  },
  {
   "cell_type": "code",
   "execution_count": null,
   "metadata": {
    "collapsed": false
   },
   "outputs": [],
   "source": [
    "#file = open(\"ficsgamesdb_2016_standard2000_nomovetimes_1435145.pgn\")\n",
    "file = open(\"ficsgamesdb_2016_chess_nomovetimes_1445486.pgn\")"
   ]
  },
  {
   "cell_type": "code",
   "execution_count": null,
   "metadata": {
    "collapsed": false
   },
   "outputs": [],
   "source": [
    "game = chess.pgn.read_game(file)\n",
    "board = game.end().board()"
   ]
  },
  {
   "cell_type": "code",
   "execution_count": null,
   "metadata": {
    "collapsed": false
   },
   "outputs": [],
   "source": [
    "game.headers['Result']"
   ]
  },
  {
   "cell_type": "code",
   "execution_count": null,
   "metadata": {
    "collapsed": false
   },
   "outputs": [],
   "source": [
    "trainer.train_from_match(board, game.headers['Result'])"
   ]
  },
  {
   "cell_type": "code",
   "execution_count": null,
   "metadata": {
    "collapsed": false
   },
   "outputs": [],
   "source": [
    "cd src"
   ]
  },
  {
   "cell_type": "code",
   "execution_count": null,
   "metadata": {
    "collapsed": false
   },
   "outputs": [],
   "source": [
    "from model_conv import model"
   ]
  },
  {
   "cell_type": "code",
   "execution_count": null,
   "metadata": {
    "collapsed": false
   },
   "outputs": [],
   "source": [
    "board.reset()\n",
    "board.push(chess.Move.from_uci('c2c4'))\n",
    "trainer.best_move(board, eval=True)\n",
    "\n",
    "\n",
    "board.push(chess.Move.from_uci('g8f6'))\n",
    "print(board)"
   ]
  },
  {
   "cell_type": "code",
   "execution_count": null,
   "metadata": {
    "collapsed": false
   },
   "outputs": [],
   "source": [
    "batch_x = np.zeros(shape=(1, 8, 8, 12), dtype=np.int8)\n",
    "batch_x[0] = chessbot.board_to_matrix(board)\n",
    "model.predict_proba(batch_x)"
   ]
  },
  {
   "cell_type": "code",
   "execution_count": null,
   "metadata": {
    "collapsed": false
   },
   "outputs": [],
   "source": [
    "stockfish.setfenposition('rnb1k2r/ppq2ppp/4p3/3p4/3P4/2bBPN2/P1P2PPP/3Q1RK1 b kq - 1 11')\n",
    "stockfish.bestmove()"
   ]
  },
  {
   "cell_type": "code",
   "execution_count": null,
   "metadata": {
    "collapsed": true
   },
   "outputs": [],
   "source": []
  }
 ],
 "metadata": {
  "anaconda-cloud": {},
  "kernelspec": {
   "display_name": "Python [default]",
   "language": "python",
   "name": "python3"
  },
  "language_info": {
   "codemirror_mode": {
    "name": "ipython",
    "version": 3
   },
   "file_extension": ".py",
   "mimetype": "text/x-python",
   "name": "python",
   "nbconvert_exporter": "python",
   "pygments_lexer": "ipython3",
   "version": "3.5.2"
  }
 },
 "nbformat": 4,
 "nbformat_minor": 1
}
